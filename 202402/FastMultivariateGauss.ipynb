{
 "cells": [
  {
   "cell_type": "markdown",
   "metadata": {},
   "source": [
    "# Fast Sampling with Gaussian Scale Mixture Priors"
   ]
  },
  {
   "cell_type": "markdown",
   "metadata": {},
   "source": [
    "This notebook presents a fast sampling method for multivariate normal distributions with a particular form proposed in [Bhattacharya+ (2016)]."
   ]
  },
  {
   "cell_type": "markdown",
   "metadata": {},
   "source": [
    "## Problem setting"
   ]
  },
  {
   "cell_type": "markdown",
   "metadata": {},
   "source": [
    "Suppose we aim to sample from a $N$-dimensional multivariate normal distribution"
   ]
  },
  {
   "cell_type": "markdown",
   "metadata": {},
   "source": [
    "$$\n",
    "\\begin{aligned}\n",
    "    \\theta &\\sim \\mathcal{N}_N (\\theta | m, V)\n",
    "\\end{aligned}\n",
    "$$"
   ]
  },
  {
   "cell_type": "markdown",
   "metadata": {},
   "source": [
    "with"
   ]
  },
  {
   "cell_type": "markdown",
   "metadata": {},
   "source": [
    "$$\n",
    "\\begin{aligned}\n",
    "    m &= V \\Phi^\\top \\alpha && \\in \\mathbb{R}^N, \\\\\n",
    "    V &= \\left( \\Phi^\\top \\Phi + \\Delta^{-1} \\right)^{-1} && \\in \\mathbb{R}^{N \\times N}.\n",
    "\\end{aligned}\n",
    "$$"
   ]
  },
  {
   "cell_type": "markdown",
   "metadata": {},
   "source": [
    "where $\\Phi \\in \\mathbb{R}^{D \\times N}$, $\\alpha \\in \\mathbb{R}^D$, and $\\Delta \\in \\mathbb{R}^{N \\times N}$ is symmetric positive definite."
   ]
  },
  {
   "cell_type": "markdown",
   "metadata": {},
   "source": [
    "Ordinary algorithms [Rue (2001)] to sample from the distribution above face a bottleneck for large $N$ to perform a Cholesky decomposition of $V$ at each iteration, which requires $\\mathcal O(N^3)$ operations.\n",
    "\n",
    "The algorithm proposed in [Bhattacharya+ (2016)] is designed to overcome this bottleneck."
   ]
  },
  {
   "cell_type": "markdown",
   "metadata": {},
   "source": [
    "## The algorithm"
   ]
  },
  {
   "cell_type": "markdown",
   "metadata": {},
   "source": [
    "This is the algorithm proposed in [Bhattacharya+ (2016)]:\n",
    "\n",
    "1. sample $u \\in \\mathbb{R}^N$ from $\\mathcal N_N(u | 0, \\Delta)$.\n",
    "2. sample $v \\in \\mathbb{R}^D$ from $\\mathcal N_D(v | \\Phi u, I_D)$.\n",
    "3. solve $(\\Phi \\Delta \\Phi^\\top + I_D)w = (\\alpha  - v)$ for $w$.\n",
    "4. return $\\theta = u + \\Delta \\Phi^\\top w$."
   ]
  },
  {
   "cell_type": "markdown",
   "metadata": {},
   "source": [
    "As is clear from the algorithm, sampling is very fast especially when\n",
    "- sampling from a multivariate normal distribution $\\mathcal N_N(0, \\Delta)$ is easy and/or\n",
    "- $N \\ll D$ is satisfied"
   ]
  },
  {
   "cell_type": "markdown",
   "metadata": {},
   "source": [
    "Let us implement this algorithm and compare its performance with the ordinary `np.random.multivatiate_normal()` method."
   ]
  },
  {
   "cell_type": "code",
   "execution_count": 1,
   "metadata": {},
   "outputs": [],
   "source": [
    "import numpy as np\n",
    "from typing import Optional"
   ]
  },
  {
   "cell_type": "code",
   "execution_count": 2,
   "metadata": {},
   "outputs": [],
   "source": [
    "def sample_efficient(\n",
    "    Phi: np.ndarray,\n",
    "    alpha: np.ndarray,\n",
    "    Delta: np.ndarray,\n",
    "    seed: Optional[int] = None\n",
    ") -> np.ndarray:\n",
    "    rng = np.random.default_rng(seed)\n",
    "    D = Phi.shape[0]\n",
    "    N = Phi.shape[1]\n",
    "\n",
    "    # Sample u from N(0, Delta)\n",
    "    if np.isclose(np.diag(np.diag(Delta)), Delta).all():\n",
    "        u = rng.normal(np.zeros(N), np.sqrt(np.diag(Delta)))\n",
    "    else:\n",
    "        u = rng.multivariate_normal(np.zeros(N), Delta)\n",
    "\n",
    "    # Sample v from N(Phi @ u, I)\n",
    "    v = rng.normal(Phi @ u, np.ones(D))\n",
    "\n",
    "    # Solve for w\n",
    "    w = np.linalg.solve(Phi @ Delta @ Phi.T + np.eye(D), alpha - v)\n",
    "\n",
    "    return u + Delta @ Phi.T @ w"
   ]
  },
  {
   "cell_type": "code",
   "execution_count": 3,
   "metadata": {},
   "outputs": [],
   "source": [
    "# set up random inputs\n",
    "\n",
    "N = 1000\n",
    "D = 100\n",
    "\n",
    "Phi = np.random.randn(D, N)\n",
    "alpha = np.random.rand(D)\n",
    "Delta = np.diag(np.random.rand(N))\n",
    "\n",
    "V = np.linalg.inv(Phi.T @ Phi + np.linalg.inv(Delta))\n",
    "m = V @ Phi.T @ alpha"
   ]
  },
  {
   "cell_type": "code",
   "execution_count": 4,
   "metadata": {},
   "outputs": [
    {
     "name": "stderr",
     "output_type": "stream",
     "text": [
      "100%|██████████| 10/10 [00:00<00:00, 24.48it/s]\n",
      "100%|██████████| 10/10 [00:07<00:00,  1.26it/s]"
     ]
    },
    {
     "name": "stdout",
     "output_type": "stream",
     "text": [
      "Efficient: 0.423s\n",
      "Numpy: 7.916s\n"
     ]
    },
    {
     "name": "stderr",
     "output_type": "stream",
     "text": [
      "\n"
     ]
    }
   ],
   "source": [
    "# speed test\n",
    "from tqdm import tqdm\n",
    "import time\n",
    "\n",
    "start = time.time()\n",
    "for _ in tqdm(range(10)):\n",
    "    sample_efficient(Phi, alpha, Delta)\n",
    "end = time.time()\n",
    "time_efficient = end - start\n",
    "\n",
    "start = time.time()\n",
    "for _ in tqdm(range(10)):\n",
    "    np.random.multivariate_normal(m, V)\n",
    "end = time.time()\n",
    "time_numpy = end - start\n",
    "\n",
    "print(f\"Efficient: {time_efficient:.3f}s\")\n",
    "print(f\"Numpy: {time_numpy:.3f}s\")"
   ]
  },
  {
   "cell_type": "code",
   "execution_count": 5,
   "metadata": {},
   "outputs": [],
   "source": [
    "# Check that the results are almost the same\n",
    "u1 = sample_efficient(Phi, alpha, Delta)\n",
    "u2 = np.random.multivariate_normal(m, V)"
   ]
  },
  {
   "cell_type": "code",
   "execution_count": 6,
   "metadata": {},
   "outputs": [
    {
     "data": {
      "image/png": "[encoded data removed]",
      "text/plain": [
       "<Figure size 640x480 with 1 Axes>"
      ]
     },
     "metadata": {},
     "output_type": "display_data"
    }
   ],
   "source": [
    "import matplotlib.pyplot as plt\n",
    "\n",
    "plt.hist(u1, bins=50, color=\"k\", alpha=1,   range=(-2, 2), density=True, label=\"Efficient\")\n",
    "plt.hist(u2, bins=50, color=\"r\", alpha=0.5, range=(-2, 2), density=True, label=\"Numpy\")\n",
    "plt.legend()\n",
    "plt.xlabel(\"u\")\n",
    "plt.ylabel(\"Density\")\n",
    "plt.show()"
   ]
  },
  {
   "cell_type": "markdown",
   "metadata": {},
   "source": [
    "## Applications"
   ]
  },
  {
   "cell_type": "markdown",
   "metadata": {},
   "source": [
    "The case above is common in linear regression. For example, when setting"
   ]
  },
  {
   "cell_type": "markdown",
   "metadata": {},
   "source": [
    "$$\n",
    "\\begin{aligned}\n",
    "    \\Phi &= \\frac{X}{\\sigma_n}, &\n",
    "    \\alpha &= \\frac{y}{\\sigma_n}, &\n",
    "    \\Delta &= \\tau^2 I,\n",
    "\\end{aligned}\n",
    "$$"
   ]
  },
  {
   "cell_type": "markdown",
   "metadata": {},
   "source": [
    "mean $m$ and covariance $V$ are given by"
   ]
  },
  {
   "cell_type": "markdown",
   "metadata": {},
   "source": [
    "$$\n",
    "\\begin{aligned}\n",
    "    m &= \\frac{1}{\\sigma_n^2} V X^\\top y, \\\\\n",
    "    V &= \\sigma_n^2 \\left( X^\\top X + \\frac{\\sigma_n^2}{\\tau^2} I \\right)^{-1},\n",
    "\\end{aligned}\n",
    "$$"
   ]
  },
  {
   "cell_type": "markdown",
   "metadata": {},
   "source": [
    "which is same as the posterior distribution of the weights $w$ in linear regression $y^{(d)} = w^\\top x^{(d)} + \\varepsilon_n^{(d)}$ where $\\varepsilon_n^{(d)} \\sim \\mathcal N(0, \\sigma_n^2)$ with normal priors $w_i \\sim \\mathcal N(0, \\tau^2)$."
   ]
  },
  {
   "cell_type": "markdown",
   "metadata": {},
   "source": [
    "In the similar way, by setting"
   ]
  },
  {
   "cell_type": "markdown",
   "metadata": {},
   "source": [
    "$$\n",
    "\\begin{aligned}\n",
    "    \\Phi &= \\frac{X}{\\sigma_n}, &\n",
    "    \\alpha &= \\frac{y}{\\sigma_n}, &\n",
    "    \\Delta &= \\sigma_n^2 \\Lambda_\\ast,\n",
    "\\end{aligned}\n",
    "$$"
   ]
  },
  {
   "cell_type": "markdown",
   "metadata": {},
   "source": [
    "mean $m$ and covariance $V$ become"
   ]
  },
  {
   "cell_type": "markdown",
   "metadata": {},
   "source": [
    "$$\n",
    "\\begin{aligned}\n",
    "    m &= A^{-1} X^\\top y, \\\\\n",
    "    V &= \\sigma_n^2 A^{-1}, \\\\\n",
    "    A &= X^\\top X + \\Lambda_\\ast^{-1},\n",
    "\\end{aligned}\n",
    "$$"
   ]
  },
  {
   "cell_type": "markdown",
   "metadata": {},
   "source": [
    "which is used in the Bayesian linear regression with a Gaussian scale mixture prior, e.g., horseshoe prior [Makalic & Schmidt (2016)] and its application to the Thompson sampling [Baptista & Poloczek (2018)]."
   ]
  },
  {
   "cell_type": "markdown",
   "metadata": {},
   "source": [
    "# References\n",
    "\n",
    "- [Bhattacharya+ (2016)] A. Bhattacharya, A. Chakraborty, and B. K. Mallick, Fast Sampling with Gaussian Scale Mixture Priors in High-Dimensional Regression, Biometrika **103**, 985 (2016).\n",
    "- [Rue (2001)] H. Rue, Fast Sampling of Gaussian Markov Random Fields, Journal of the Royal Statistical Society Series B: Statistical Methodology **63**, 325 (2001).\n",
    "- [Makalic & Schmidt (2016)] E. Makalic and D. F. Schmidt, A Simple Sampler for the Horseshoe Estimator, IEEE Signal Processing Letters **23**, 179 (2016).\n",
    "- [Baptista & Poloczek (2018)] R. Baptista and M. Poloczek, Bayesian Optimization of Combinatorial Structures, in Proceedings of the 35th International Conference on Machine Learning, edited by J. Dy and A. Krause, Vol. 80 (PMLR, 2018), pp. 462–471."
   ]
  }
 ],
 "metadata": {
  "kernelspec": {
   "display_name": ".venv",
   "language": "python",
   "name": "python3"
  },
  "language_info": {
   "codemirror_mode": {
    "name": "ipython",
    "version": 3
   },
   "file_extension": ".py",
   "mimetype": "text/x-python",
   "name": "python",
   "nbconvert_exporter": "python",
   "pygments_lexer": "ipython3",
   "version": "3.11.6"
  }
 },
 "nbformat": 4,
 "nbformat_minor": 2
}
