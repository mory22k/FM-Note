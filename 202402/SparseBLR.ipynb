{
 "cells": [
  {
   "cell_type": "markdown",
   "metadata": {},
   "source": [
    "# Sparse Bayesian Linear Regression with Horseshoe Prior"
   ]
  },
  {
   "cell_type": "markdown",
   "metadata": {},
   "source": [
    "Bayesian linear regression is a probabilistic approach to linear regression, where we assume that the target variable is normally distributed around a linear combination of the input variables."
   ]
  },
  {
   "cell_type": "markdown",
   "metadata": {},
   "source": [
    "$$\n",
    "\\begin{aligned}\n",
    "    y^{(d)} | x^{(d)}, w, \\sigma_n^2 \\sim \\mathcal{N}(y | w^\\top x^{(d)}, \\sigma_n^2)\n",
    "\\end{aligned}\n",
    "$$"
   ]
  },
  {
   "cell_type": "markdown",
   "metadata": {},
   "source": [
    "## The Horseshoe Prior"
   ]
  },
  {
   "cell_type": "markdown",
   "metadata": {},
   "source": [
    "[Malakic & Schmidt (2016)] proposed a **sparse Bayesian linear regression model**, where the weights are assumed to be distributed according to a horseshoe distribution [Carvalho+ (2010)], which is given by"
   ]
  },
  {
   "cell_type": "markdown",
   "metadata": {},
   "source": [
    "$$\n",
    "\\begin{aligned}\n",
    "    w_i | \\lambda_i, \\tau, \\sigma_n^2 &\\sim \\mathcal{N}(w_i | 0, \\lambda_i^2 \\tau^2 \\sigma_n^2) && i = 1, \\dots, N, \\\\\n",
    "    \\lambda_i &\\sim \\mathcal{C}^+(\\lambda_i | 0, 1) && i = 1, \\dots, N, \\\\\n",
    "    \\tau &\\sim \\mathcal{C}^+(\\tau | 0, 1), \\\\\n",
    "    \\sigma_n^2 &\\sim \\frac{1}{\\sigma_n^2} d\\sigma_n^2,\n",
    "\\end{aligned}\n",
    "$$"
   ]
  },
  {
   "cell_type": "markdown",
   "metadata": {},
   "source": [
    "with parameters\n",
    "\n",
    "- $w_i$ being the weights,\n",
    "- $\\lambda_i$ being the local shrinkage parameters associated with each $w_i$,\n",
    "- $\\tau$ being the global shrinkage parameter, and\n",
    "- $\\sigma_n^2$ being the noise variance."
   ]
  },
  {
   "cell_type": "markdown",
   "metadata": {},
   "source": [
    "$\\mathcal{C}^+(\\cdot | 0, 1)$ denotes the half-Cauchy distribution with location $0$ and scale $1$:"
   ]
  },
  {
   "cell_type": "markdown",
   "metadata": {},
   "source": [
    "$$\n",
    "\\begin{aligned}\n",
    "    \\mathcal C^+(z | 0, 1) = \\frac{2}{\\pi} \\frac{1}{1 + z^2}, \\quad z \\gt 0.\n",
    "\\end{aligned}\n",
    "$$"
   ]
  },
  {
   "cell_type": "markdown",
   "metadata": {},
   "source": [
    "$\\sigma_n^2 \\sim \\sigma_n^{-2} d\\sigma_n^2$ means that $\\sigma_n^2$ is distributed according to an improper distribution (here, 'improper' means that the distribution does not satisfy $\\int p(\\sigma_n^2) d\\sigma_n^2 = 1$):"
   ]
  },
  {
   "cell_type": "markdown",
   "metadata": {},
   "source": [
    "$$\n",
    "\\begin{aligned}\n",
    "    p(\\sigma_n^2) \\propto \\frac{1}{\\sigma_n^2},\n",
    "\\end{aligned}\n",
    "$$"
   ]
  },
  {
   "cell_type": "markdown",
   "metadata": {},
   "source": [
    "which can be interpreted as an inverse-gamma distribution with shape parameter $\\alpha \\to 0$ and scale parameter $\\beta \\to 0$:"
   ]
  },
  {
   "cell_type": "markdown",
   "metadata": {},
   "source": [
    "$$\n",
    "\\begin{aligned}\n",
    "    \\lim_{\\alpha_n, \\beta_n \\to 0}\n",
    "    \\Gamma^{-1} (\\sigma_n^2 | \\alpha_n, \\beta_n)\n",
    "    =\n",
    "    \\lim_{\\alpha_n, \\beta_n \\to 0}\n",
    "    \\frac{\\beta_n^{\\alpha_n}}{\\Gamma(\\alpha_n)}\n",
    "    \\left( \\frac{1}{\\sigma_n^2} \\right)^{\\alpha_n + 1}\n",
    "    \\exp \\left( -\\frac{\\beta_n}{\\sigma_n^2} \\right).\n",
    "\\end{aligned}\n",
    "$$"
   ]
  },
  {
   "cell_type": "markdown",
   "metadata": {},
   "source": [
    "The horseshoe distribution is a heavy-tailed distribution, which allows for a large number of weights to be close to zero, while still allowing for a few weights to be large."
   ]
  },
  {
   "cell_type": "markdown",
   "metadata": {},
   "source": [
    "## Reformulation of the Horseshoe Prior"
   ]
  },
  {
   "cell_type": "markdown",
   "metadata": {},
   "source": [
    "According to [Wand+ (2011)], a half-Cauchy distribution $\\mathcal{C}^+(x | 0, a)$ can be reformulated as a scale mixture of inverse-gammas:"
   ]
  },
  {
   "cell_type": "markdown",
   "metadata": {},
   "source": [
    "$$\n",
    "\\begin{aligned}\n",
    "    x^2 | a' &\\sim \\Gamma^{-1} \\left( x^2 \\middle| \\frac{1}{2}, \\frac{1}{a'} \\right), \\\\\n",
    "    a' | a &\\sim \\Gamma^{-1} \\left( a' \\middle| \\frac{1}{2}, \\frac{1}{a^2} \\right),\n",
    "\\end{aligned}\n",
    "$$"
   ]
  },
  {
   "cell_type": "markdown",
   "metadata": {},
   "source": [
    "and thus the horseshoe distribution can be reformulated as [Makalic & Schmidt (2016)]"
   ]
  },
  {
   "cell_type": "markdown",
   "metadata": {},
   "source": [
    "$$\n",
    "\\begin{aligned}\n",
    "    w_i | \\lambda_i, \\tau, \\sigma_n^2\n",
    "    &\\sim \\mathcal{N}(w_i | 0, \\lambda_i^2 \\tau^2 \\sigma_n^2)\n",
    "    & i &= 1, \\dots, N,\n",
    "    \\\\\n",
    "    \\lambda_i^2 | \\mu_i\n",
    "    &\\sim \\Gamma^{-1} \\left( \\lambda_i^2 \\middle| \\frac{1}{2}, \\frac{1}{\\nu_i} \\right),\n",
    "    & i &= 1, \\dots, N,\n",
    "    \\\\\n",
    "    \\tau^2 | \\xi\n",
    "    &\\sim \\Gamma^{-1} \\left( \\tau^2 \\middle| \\frac{1}{2}, \\frac{1}{\\xi} \\right),\n",
    "    \\\\\n",
    "    \\nu_i, \\xi\n",
    "    &\\sim \\Gamma^{-1} \\left( \\cdot \\middle| \\frac{1}{2}, 1 \\right),\n",
    "    & i &= 1, \\dots, N,\n",
    "    \\\\\n",
    "    \\sigma_n^2\n",
    "    &\\sim \\frac{1}{\\sigma_n^2} d\\sigma_n^2.\n",
    "\\end{aligned}\n",
    "$$"
   ]
  },
  {
   "cell_type": "markdown",
   "metadata": {},
   "source": [
    "## Posterior"
   ]
  },
  {
   "cell_type": "markdown",
   "metadata": {},
   "source": [
    "The above hierarchical expression allows us to write the posterior distributions as"
   ]
  },
  {
   "cell_type": "markdown",
   "metadata": {},
   "source": [
    "$$\n",
    "\\begin{aligned}\n",
    "    w | \\Theta \\setminus \\{ w \\}\n",
    "    &\\sim \\mathcal{N}(w | A^{-1} X^\\top y, \\sigma_n^2 A^{-1}), \n",
    "    \\\\\n",
    "\n",
    "    \\sigma_n^2 | \\Theta \\setminus \\{ \\sigma_n^2 \\}\n",
    "    &\\sim \\Gamma^{-1} \\left( \\sigma_n^2 \\middle| \\frac{N + D}{2}, \\frac{\\| y - X w \\|_2^2}{2} + \\frac{w^\\top \\Lambda_\\ast^{-1} w}{2} \\right),\n",
    "    \\\\\n",
    "\n",
    "    \\lambda_i^2 | \\Theta \\setminus \\{ \\lambda_i^2 \\}\n",
    "    &\\sim \\Gamma^{-1} \\left( \\lambda_i^2 \\middle| 1, \\frac{1}{\\nu_i} + \\frac{w_i^2}{2 \\sigma_n^2 \\tau^2} \\right),\n",
    "    & i &= 1, \\dots, N,\n",
    "    \\\\\n",
    "\n",
    "    \\tau^2 | \\Theta \\setminus \\{ \\tau^2 \\}\n",
    "    &\\sim \\Gamma^{-1} \\left( \\tau^2 \\middle| \\frac{N + 1}{2}, \\frac{1}{\\xi} + \\frac{\\| w \\|_2^2}{2 \\sigma_n^2 \\| \\lambda \\|_2^2} \\right),\n",
    "    \\\\\n",
    "    \n",
    "    \\nu_i | \\Theta \\setminus \\{ \\nu_i \\}\n",
    "    &\\sim \\Gamma^{-1} \\left( \\nu_i \\middle| 1, 1 + \\frac{1}{\\lambda_i^2} \\right),\n",
    "    & i &= 1, \\dots, N,\n",
    "    \\\\\n",
    "\n",
    "    \\xi | \\Theta \\setminus \\{ \\xi \\}\n",
    "    &\\sim \\Gamma^{-1} \\left( \\xi \\middle| 1, 1 + \\frac{1}{\\tau^2} \\right),\n",
    "\\end{aligned}\n",
    "$$"
   ]
  },
  {
   "cell_type": "markdown",
   "metadata": {},
   "source": [
    "where"
   ]
  },
  {
   "cell_type": "markdown",
   "metadata": {},
   "source": [
    "$$\n",
    "\\begin{aligned}\n",
    "    A &= X^\\top X + \\Lambda_\\ast^{-1},\n",
    "    \\\\\n",
    "\n",
    "    \\Lambda_\\ast^{-1}\n",
    "    &= \\frac{1}{\\tau^2} \\mathop{\\rm diag}\\left( \\frac{1}{\\lambda_1^2}, \\dots, \\frac{1}{\\lambda_N^2} \\right).\n",
    "\\end{aligned}\n",
    "$$"
   ]
  },
  {
   "cell_type": "markdown",
   "metadata": {},
   "source": [
    "In the above, $\\Theta \\setminus \\{ w \\}$ denotes the set of all parameters except for $w$, and similarly for the other parameters."
   ]
  },
  {
   "cell_type": "markdown",
   "metadata": {},
   "source": [
    "## Implementation"
   ]
  },
  {
   "cell_type": "code",
   "execution_count": 1,
   "metadata": {},
   "outputs": [],
   "source": [
    "import numpy as np\n",
    "import matplotlib.pyplot as plt\n",
    "from tqdm import tqdm\n",
    "from typing import Optional"
   ]
  },
  {
   "cell_type": "code",
   "execution_count": 2,
   "metadata": {},
   "outputs": [],
   "source": [
    "def sample_w_posterior(\n",
    "    x_data:   np.ndarray,\n",
    "    y_data:   np.ndarray,\n",
    "    L:        np.ndarray,\n",
    "    sigma2_n: float,\n",
    "    seed:     Optional[int]=None\n",
    "):\n",
    "    rng = np.random.default_rng(seed)\n",
    "    A     = x_data.T @ x_data + np.diag(1 / L)\n",
    "    A_inv = np.linalg.inv(A)\n",
    "    m     = A_inv @ x_data.T @ y_data\n",
    "    V     = sigma2_n * A_inv\n",
    "    return rng.multivariate_normal(m, V)\n",
    "\n",
    "def sample_sigma2_n_posterior(\n",
    "    x_data: np.ndarray,\n",
    "    y_data: np.ndarray,\n",
    "    w:      np.ndarray,\n",
    "    L:      np.ndarray,\n",
    "    seed:   Optional[int]=None\n",
    "):\n",
    "    rng = np.random.default_rng(seed)\n",
    "    N = w.shape[0]\n",
    "    D = y_data.shape[0]\n",
    "    shape = (N + D) / 2\n",
    "    scale = np.sum((y_data - x_data @ w)**2) / 2 + np.sum(w**2 / L) / 2\n",
    "    return 1 / rng.gamma(shape, 1 / scale)\n",
    "\n",
    "def sample_lamb2_posterior(\n",
    "    w:        np.ndarray,\n",
    "    tau2:     float,\n",
    "    nu:       np.ndarray,\n",
    "    sigma2_n: float,\n",
    "    seed:     Optional[int]=None\n",
    "):\n",
    "    rng = np.random.default_rng(seed)\n",
    "    shape = 1\n",
    "    scale = 1 / nu + w**2 / sigma2_n / tau2 / 2\n",
    "    return 1 / rng.gamma(shape, 1 / scale)\n",
    "\n",
    "def sample_tau2_posterior(\n",
    "    w:        np.ndarray,\n",
    "    lamb2:    np.ndarray,\n",
    "    xi:       float,\n",
    "    sigma2_n: float,\n",
    "    seed:     Optional[int]=None\n",
    "):\n",
    "    rng = np.random.default_rng(seed)\n",
    "    N = w.shape[0]\n",
    "    shape = (N + 1) / 2\n",
    "    scale = 1 / xi + np.sum( w**2 / lamb2 ) / sigma2_n / 2\n",
    "    return 1 / rng.gamma(shape, 1 / scale)\n",
    "\n",
    "def sample_nu_posterior(\n",
    "    lamb2: np.ndarray,\n",
    "    seed: Optional[int]=None\n",
    "):\n",
    "    rng = np.random.default_rng(seed)\n",
    "    shape = 1\n",
    "    scale = 1 + 1 / lamb2\n",
    "    return 1 / rng.gamma(shape, 1 / scale)\n",
    "\n",
    "def sample_xi_posterior(\n",
    "    tau2: float,\n",
    "    seed: Optional[int]=None\n",
    "):\n",
    "    rng = np.random.default_rng(seed)\n",
    "    shape = 1\n",
    "    scale = 1 + 1 / tau2\n",
    "    return 1 / rng.gamma(shape, 1 / scale)\n",
    "\n",
    "def sample_params_posterior(\n",
    "    x_data:   np.ndarray,\n",
    "    y_data:   np.ndarray,\n",
    "    w:        np.ndarray,\n",
    "    sigma2_n: float,\n",
    "    lamb2:    np.ndarray,\n",
    "    tau2:     float,\n",
    "    nu:       np.ndarray,\n",
    "    xi:       float,\n",
    "    seed:     Optional[int]=None\n",
    "):\n",
    "    L        = lamb2 * tau2\n",
    "    w        = sample_w_posterior(x_data, y_data, L, sigma2_n, seed=seed)\n",
    "    sigma2_n = sample_sigma2_n_posterior(x_data, y_data, w, L, seed=seed)\n",
    "    lamb2    = sample_lamb2_posterior(w, tau2, nu, sigma2_n, seed=seed)\n",
    "    tau2     = sample_tau2_posterior(w, lamb2, xi, sigma2_n, seed=seed)\n",
    "    nu       = sample_nu_posterior(lamb2, seed=seed)\n",
    "    xi       = sample_xi_posterior(tau2, seed=seed)\n",
    "    return w, sigma2_n, lamb2, tau2, nu, xi"
   ]
  },
  {
   "cell_type": "code",
   "execution_count": 3,
   "metadata": {},
   "outputs": [
    {
     "name": "stderr",
     "output_type": "stream",
     "text": [
      "  0%|          | 0/1000 [00:00<?, ?it/s]"
     ]
    },
    {
     "name": "stderr",
     "output_type": "stream",
     "text": [
      "100%|██████████| 1000/1000 [00:02<00:00, 409.49it/s]\n"
     ]
    }
   ],
   "source": [
    "N = 32\n",
    "D = 64\n",
    "\n",
    "rng = np.random.default_rng(12345)\n",
    "w_true = rng.normal(0, 10, (N))\n",
    "x_data = rng.choice([0, 1], (D, N))\n",
    "y_data = x_data @ w_true\n",
    "\n",
    "num_iter = 1000\n",
    "\n",
    "# initialize parameters\n",
    "w        = np.zeros(N).astype(float)\n",
    "sigma2_n = 1.\n",
    "lamb2    = np.ones(N).astype(float)\n",
    "tau2     = 1.\n",
    "nu       = np.ones(N).astype(float)\n",
    "xi       = 1.\n",
    "\n",
    "MSE_history = []\n",
    "for iter in tqdm(range(num_iter)):\n",
    "    w, sigma2_n, lamb2, tau2, nu, xi = sample_params_posterior(x_data, y_data, w, sigma2_n, lamb2, tau2, nu, xi)\n",
    "    MSE = np.sum( ( y_data - x_data @ w )**2 ) / D\n",
    "    MSE_history.append(MSE)"
   ]
  },
  {
   "cell_type": "code",
   "execution_count": 4,
   "metadata": {},
   "outputs": [
    {
     "data": {
      "image/png": "[encoded data removed]",
      "text/plain": [
       "<Figure size 640x480 with 1 Axes>"
      ]
     },
     "metadata": {},
     "output_type": "display_data"
    }
   ],
   "source": [
    "plt.plot(MSE_history)\n",
    "plt.yscale('log')\n",
    "plt.show()"
   ]
  },
  {
   "cell_type": "markdown",
   "metadata": {},
   "source": [
    "## Speeding Up the Inference"
   ]
  },
  {
   "cell_type": "markdown",
   "metadata": {},
   "source": [
    "Major bottlenecks in the posterior sampling is the inversion of the matrix $A = X^\\top X + \\Lambda_\\ast^{-1}$ and the sampling of multivariate normal, which is $\\mathcal{O} (N^3)$ in time complexity. To speed up the computation, we can use a trick written in `FastMultivariateGauss.ipynb` with a setting of"
   ]
  },
  {
   "cell_type": "markdown",
   "metadata": {},
   "source": [
    "$$\n",
    "\\begin{aligned}\n",
    "    \\Phi &= \\frac{X}{\\sigma_n}, &\n",
    "    \\alpha &= \\frac{y}{\\sigma_n}, &\n",
    "    \\Delta &= \\sigma_n^2 \\Lambda_\\ast.\n",
    "\\end{aligned}\n",
    "$$"
   ]
  },
  {
   "cell_type": "code",
   "execution_count": 5,
   "metadata": {},
   "outputs": [],
   "source": [
    "def sample_efficient(\n",
    "    Phi: np.ndarray,\n",
    "    alpha: np.ndarray,\n",
    "    Delta: np.ndarray,\n",
    "    seed: Optional[int]=None\n",
    ") -> np.ndarray:\n",
    "    rng = np.random.default_rng(seed)\n",
    "    D = Phi.shape[0]\n",
    "    N = Phi.shape[1]\n",
    "\n",
    "    # Sample u from N(0, Delta)\n",
    "    if np.isclose(np.diag(np.diag(Delta)), Delta).all():\n",
    "        u = rng.normal(np.zeros(N), np.sqrt(np.diag(Delta)))\n",
    "    else:\n",
    "        u = rng.multivariate_normal(np.zeros(N), Delta)\n",
    "\n",
    "    # Sample v from N(Phi @ u, I)\n",
    "    v = rng.normal(Phi @ u, np.ones(D))\n",
    "\n",
    "    # Solve for w\n",
    "    w = np.linalg.solve(Phi @ Delta @ Phi.T + np.eye(D), alpha - v)\n",
    "\n",
    "    return u + Delta @ Phi.T @ w\n",
    "\n",
    "def sample_w_posterior_efficient(\n",
    "    x_data:   np.ndarray,\n",
    "    y_data:   np.ndarray,\n",
    "    L:        np.ndarray,\n",
    "    sigma2_n: float,\n",
    "    seed:     Optional[int]=None\n",
    "):\n",
    "    Phi   = x_data / np.sqrt(sigma2_n)\n",
    "    alpha = y_data / np.sqrt(sigma2_n)\n",
    "    Delta = np.diag(L) * sigma2_n\n",
    "    return sample_efficient(Phi, alpha, Delta, seed=seed)\n",
    "\n",
    "def sample_params_posterior_efficient(\n",
    "    x_data:   np.ndarray,\n",
    "    y_data:   np.ndarray,\n",
    "    w:        np.ndarray,\n",
    "    sigma2_n: float,\n",
    "    lamb2:    np.ndarray,\n",
    "    tau2:     float,\n",
    "    nu:       np.ndarray,\n",
    "    xi:       float,\n",
    "    seed:     Optional[int]=None\n",
    "):\n",
    "    L        = lamb2 * tau2\n",
    "    w        = sample_w_posterior_efficient(x_data, y_data, L, sigma2_n, seed=seed)\n",
    "    sigma2_n = sample_sigma2_n_posterior(x_data, y_data, w, L, seed=seed)\n",
    "    lamb2    = sample_lamb2_posterior(w, tau2, nu, sigma2_n, seed=seed)\n",
    "    tau2     = sample_tau2_posterior(w, lamb2, xi, sigma2_n, seed=seed)\n",
    "    nu       = sample_nu_posterior(lamb2, seed=seed)\n",
    "    xi       = sample_xi_posterior(tau2, seed=seed)\n",
    "    return w, sigma2_n, lamb2, tau2, nu, xi"
   ]
  },
  {
   "cell_type": "code",
   "execution_count": 6,
   "metadata": {},
   "outputs": [
    {
     "name": "stderr",
     "output_type": "stream",
     "text": [
      "100%|██████████| 1000/1000 [00:01<00:00, 836.63it/s]\n"
     ]
    }
   ],
   "source": [
    "N = 32\n",
    "D = 64\n",
    "\n",
    "rng = np.random.default_rng(12345)\n",
    "w_true = rng.normal(0, 10, (N))\n",
    "x_data = rng.choice([0, 1], (D, N))\n",
    "y_data = x_data @ w_true\n",
    "\n",
    "num_iter = 1000\n",
    "\n",
    "# initialize parameters\n",
    "w        = np.zeros(N).astype(float)\n",
    "sigma2_n = 1.\n",
    "lamb2    = np.ones(N).astype(float)\n",
    "tau2     = 1.\n",
    "nu       = np.ones(N).astype(float)\n",
    "xi       = 1.\n",
    "\n",
    "MSE_history = []\n",
    "for iter in tqdm(range(num_iter)):\n",
    "    w, sigma2_n, lamb2, tau2, nu, xi = sample_params_posterior_efficient(x_data, y_data, w, sigma2_n, lamb2, tau2, nu, xi)\n",
    "    MSE = np.sum( ( y_data - x_data @ w )**2 ) / D\n",
    "    MSE_history.append(MSE)"
   ]
  },
  {
   "cell_type": "code",
   "execution_count": 7,
   "metadata": {},
   "outputs": [
    {
     "data": {
      "image/png": "[encoded data removed]",
      "text/plain": [
       "<Figure size 640x480 with 1 Axes>"
      ]
     },
     "metadata": {},
     "output_type": "display_data"
    }
   ],
   "source": [
    "plt.plot(MSE_history)\n",
    "plt.yscale('log')\n",
    "plt.show()"
   ]
  },
  {
   "cell_type": "code",
   "execution_count": 8,
   "metadata": {},
   "outputs": [
    {
     "name": "stderr",
     "output_type": "stream",
     "text": [
      "100%|██████████| 100/100 [00:02<00:00, 36.21it/s]\n",
      "100%|██████████| 100/100 [00:00<00:00, 155.16it/s]\n"
     ]
    },
    {
     "name": "stdout",
     "output_type": "stream",
     "text": [
      "naive:     2.769180s\n",
      "efficient: 0.648253s\n"
     ]
    }
   ],
   "source": [
    "# Speed comparison\n",
    "import time\n",
    "\n",
    "N = 128\n",
    "D = 256\n",
    "\n",
    "rng = np.random.default_rng(12345)\n",
    "w_true = rng.normal(0, 10, (N))\n",
    "x_data = rng.choice([0, 1], (D, N))\n",
    "y_data = x_data @ w_true\n",
    "\n",
    "num_iter = 100\n",
    "\n",
    "# initialize parameters\n",
    "w        = np.zeros(N).astype(float)\n",
    "sigma2_n = 1.\n",
    "lamb2    = np.ones(N).astype(float)\n",
    "tau2     = 1.\n",
    "nu       = np.ones(N).astype(float)\n",
    "xi       = 1.\n",
    "\n",
    "start = time.time()\n",
    "for _ in tqdm(range(100)):\n",
    "    sample_params_posterior(x_data, y_data, w, sigma2_n, lamb2, tau2, nu, xi)\n",
    "end = time.time()\n",
    "time_naive = end - start\n",
    "\n",
    "start = time.time()\n",
    "for _ in tqdm(range(100)):\n",
    "    sample_params_posterior_efficient(x_data, y_data, w, sigma2_n, lamb2, tau2, nu, xi)\n",
    "end = time.time()\n",
    "time_efficient = end - start\n",
    "\n",
    "print(f'naive:     {time_naive:.6f}s')\n",
    "print(f'efficient: {time_efficient:.6f}s')"
   ]
  },
  {
   "cell_type": "markdown",
   "metadata": {},
   "source": [
    "## References\n",
    "- [Carvalho+ (2010)] C. M. Carvalho, N. G. Polson, and J. G. Scott, The Horseshoe Estimator for Sparse Signals, Biometrika **97**, 465 (2010).\n",
    "- [Wand+ (2011)] M. P. Wand, J. T. Ormerod, S. A. Padoan, and R. Frühwirth, Mean Field Variational Bayes for Elaborate Distributions, Bayesian Analysis **6**, 847 (2011).\n",
    "- [Makalic & Schmidt (2016)] E. Makalic and D. F. Schmidt, A Simple Sampler for the Horseshoe Estimator, IEEE Signal Processing Letters **23**, 179 (2016).\n",
    "- [Bhattacharya+ (2016)] A. Bhattacharya, A. Chakraborty, and B. K. Mallick, Fast Sampling with Gaussian Scale Mixture Priors in High-Dimensional Regression, Biometrika **103**, 985 (2016)."
   ]
  }
 ],
 "metadata": {
  "kernelspec": {
   "display_name": ".venv",
   "language": "python",
   "name": "python3"
  },
  "language_info": {
   "codemirror_mode": {
    "name": "ipython",
    "version": 3
   },
   "file_extension": ".py",
   "mimetype": "text/x-python",
   "name": "python",
   "nbconvert_exporter": "python",
   "pygments_lexer": "ipython3",
   "version": "3.11.6"
  }
 },
 "nbformat": 4,
 "nbformat_minor": 2
}
