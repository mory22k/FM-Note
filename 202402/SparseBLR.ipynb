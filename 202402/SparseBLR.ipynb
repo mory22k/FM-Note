{
 "cells": [
  {
   "cell_type": "markdown",
   "metadata": {},
   "source": [
    "# Sparse Bayesian Linear Regression with Horseshoe Prior"
   ]
  },
  {
   "cell_type": "markdown",
   "metadata": {},
   "source": [
    "Bayesian linear regression is a probabilistic approach to linear regression, where we assume that the target variable is normally distributed around a linear combination of the input variables."
   ]
  },
  {
   "cell_type": "markdown",
   "metadata": {},
   "source": [
    "$$\n",
    "\\begin{aligned}\n",
    "    y^{(d)} | x^{(d)}, w, \\sigma_n^2 \\sim \\mathcal{N}(y | w^\\top x^{(d)}, \\sigma_n^2)\n",
    "\\end{aligned}\n",
    "$$"
   ]
  },
  {
   "cell_type": "markdown",
   "metadata": {},
   "source": [
    "## The Horseshoe Prior"
   ]
  },
  {
   "cell_type": "markdown",
   "metadata": {},
   "source": [
    "[Malakic & Schmidt (2016)] proposed a **sparse Bayesian linear regression model**, where the weights are assumed to be distributed according to a horseshoe distribution [Carvalho+ (2010)], which is given by"
   ]
  },
  {
   "cell_type": "markdown",
   "metadata": {},
   "source": [
    "$$\n",
    "\\begin{aligned}\n",
    "    w_i | \\lambda_i, \\tau, \\sigma_n^2 &\\sim \\mathcal{N}(w_i | 0, \\lambda_i^2 \\tau^2 \\sigma_n^2) && i = 1, \\dots, N, \\\\\n",
    "    \\lambda_i &\\sim \\mathcal{C}^+(\\lambda_i | 0, 1), \\\\\n",
    "    \\tau &\\sim \\mathcal{C}^+(\\tau | 0, 1) && i = 1, \\dots, N, \\\\\n",
    "    \\sigma_n^2 &\\sim \\frac{1}{\\sigma_n^2} d\\sigma_n^2,\n",
    "\\end{aligned}\n",
    "$$"
   ]
  },
  {
   "cell_type": "markdown",
   "metadata": {},
   "source": [
    "with parameters\n",
    "\n",
    "- $w_i$ being the weights,\n",
    "- $\\lambda_i$ being the local shrinkage parameters associated with each $w_i$,\n",
    "- $\\tau$ being the global shrinkage parameter, and\n",
    "- $\\sigma_n^2$ being the noise variance."
   ]
  },
  {
   "cell_type": "markdown",
   "metadata": {},
   "source": [
    "where $\\mathcal{C}^+(\\cdot | 0, 1)$ denotes the half-Cauchy distribution with location 0 and scale 1:"
   ]
  },
  {
   "cell_type": "markdown",
   "metadata": {},
   "source": [
    "$$\n",
    "\\begin{aligned}\n",
    "    \\mathcal C^+(z | 0, 1) = \\frac{2}{\\pi} \\frac{1}{1 + z^2}, \\quad z \\gt 0.\n",
    "\\end{aligned}\n",
    "$$"
   ]
  },
  {
   "cell_type": "markdown",
   "metadata": {},
   "source": [
    "$\\sigma_n^2 \\sim \\sigma_n^{-2} d\\sigma_n^2$ means that $\\sigma_n^2$ is distributed according to an improper distribution (here, 'improper' means that the distribution does not satisfy $\\int p(\\sigma_n^2) d\\sigma_n^2 = 1$):"
   ]
  },
  {
   "cell_type": "markdown",
   "metadata": {},
   "source": [
    "$$\n",
    "\\begin{aligned}\n",
    "    p(\\sigma_n^2) \\propto \\frac{1}{\\sigma_n^2},\n",
    "\\end{aligned}\n",
    "$$"
   ]
  },
  {
   "cell_type": "markdown",
   "metadata": {},
   "source": [
    "which can be interpreted as an inverse-gamma distribution with shape parameter $\\alpha \\to 0$ and scale parameter $\\beta \\to 0$:"
   ]
  },
  {
   "cell_type": "markdown",
   "metadata": {},
   "source": [
    "$$\n",
    "\\begin{aligned}\n",
    "    \\lim_{\\alpha_n, \\beta_n \\to 0}\n",
    "    \\Gamma^{-1} (\\sigma_n^2 | \\alpha_n, \\beta_n)\n",
    "    =\n",
    "    \\lim_{\\alpha_n, \\beta_n \\to 0}\n",
    "    \\frac{\\beta_n^{\\alpha_n}}{\\Gamma(\\alpha_n)}\n",
    "    \\left( \\frac{1}{\\sigma_n^2} \\right)^{\\alpha_n + 1}\n",
    "    \\exp \\left( -\\frac{\\beta_n}{\\sigma_n^2} \\right).\n",
    "\\end{aligned}\n",
    "$$"
   ]
  },
  {
   "cell_type": "markdown",
   "metadata": {},
   "source": [
    "The horseshoe distribution is a heavy-tailed distribution, which allows for a large number of weights to be close to zero, while still allowing for a few weights to be large."
   ]
  },
  {
   "cell_type": "markdown",
   "metadata": {},
   "source": [
    "## Reformulation of the Horseshoe Prior"
   ]
  },
  {
   "cell_type": "markdown",
   "metadata": {},
   "source": [
    "According to [Wand+ (2011)], a half-Cauchy distribution $\\mathcal{C}^+(x | 0, a)$ can be reformulated as a scale mixture of inverse-gammas:"
   ]
  },
  {
   "cell_type": "markdown",
   "metadata": {},
   "source": [
    "$$\n",
    "\\begin{aligned}\n",
    "    x^2 | a' &\\sim \\Gamma^{-1} \\left( x^2 \\middle| \\frac{1}{2}, \\frac{1}{a'} \\right), \\\\\n",
    "    a | a &\\sim \\Gamma^{-1} \\left( a' \\middle| \\frac{1}{2}, \\frac{1}{a^2} \\right),\n",
    "\\end{aligned}\n",
    "$$"
   ]
  },
  {
   "cell_type": "markdown",
   "metadata": {},
   "source": [
    "and thus the horseshoe distribution can be reformulated as [Makalic & Schmidt (2016)]"
   ]
  },
  {
   "cell_type": "markdown",
   "metadata": {},
   "source": [
    "$$\n",
    "\\begin{aligned}\n",
    "    w_i | \\lambda_i, \\tau, \\sigma_n^2\n",
    "    &\\sim \\mathcal{N}(w_i | 0, \\lambda_i^2 \\tau^2 \\sigma_n^2)\n",
    "    & i &= 1, \\dots, N,\n",
    "    \\\\\n",
    "    \\lambda_i^2 | \\mu_i\n",
    "    &\\sim \\Gamma^{-1} \\left( \\lambda_i^2 \\middle| \\frac{1}{2}, \\frac{1}{\\nu_i} \\right),\n",
    "    & i &= 1, \\dots, N,\n",
    "    \\\\\n",
    "    \\tau^2 | \\xi\n",
    "    &\\sim \\Gamma^{-1} \\left( \\tau^2 \\middle| \\frac{1}{2}, \\frac{1}{\\xi} \\right),\n",
    "    \\\\\n",
    "    \\nu_i, \\xi\n",
    "    &\\sim \\Gamma^{-1} \\left( \\cdot \\middle| \\frac{1}{2}, 1 \\right),\n",
    "    & i &= 1, \\dots, N,\n",
    "    \\\\\n",
    "    \\sigma_n^2\n",
    "    &\\sim \\frac{1}{\\sigma_n^2} d\\sigma_n^2.\n",
    "\\end{aligned}\n",
    "$$"
   ]
  },
  {
   "cell_type": "markdown",
   "metadata": {},
   "source": [
    "## Posterior"
   ]
  },
  {
   "cell_type": "markdown",
   "metadata": {},
   "source": [
    "The above hierarchical expression allows us to write the posterior distributions as"
   ]
  },
  {
   "cell_type": "markdown",
   "metadata": {},
   "source": [
    "$$\n",
    "\\begin{aligned}\n",
    "    w | \\Theta \\setminus \\{ w \\}\n",
    "    &\\sim \\mathcal{N}(w | A^{-1} X^\\top y, \\sigma_n^2 A^{-1}), \n",
    "    \\\\\n",
    "\n",
    "    \\lambda_i^2 | \\Theta \\setminus \\{ \\lambda_i^2 \\}\n",
    "    &\\sim \\Gamma^{-1} \\left( \\lambda_i^2 \\middle| 1, \\frac{1}{\\nu_i} + \\frac{w_i^2}{2 \\tau^2 \\sigma_n^2} \\right),\n",
    "    & i &= 1, \\dots, N,\n",
    "    \\\\\n",
    "\n",
    "    \\tau^2 | \\Theta \\setminus \\{ \\tau^2 \\}\n",
    "    &\\sim \\Gamma^{-1} \\left( \\tau^2 \\middle| \\frac{N + 1}{2}, \\frac{1}{\\xi} + \\frac{\\| w \\|_2^2}{2 \\sigma_n^2 \\| \\lambda \\|_2^2} \\right),\n",
    "    \\\\\n",
    "    \n",
    "    \\nu_i | \\Theta \\setminus \\{ \\nu_i \\}\n",
    "    &\\sim \\Gamma^{-1} \\left( \\nu_i \\middle| 1, 1 + \\frac{1}{\\lambda_i^2} \\right),\n",
    "    & i &= 1, \\dots, N,\n",
    "    \\\\\n",
    "\n",
    "    \\xi | \\Theta \\setminus \\{ \\xi \\}\n",
    "    &\\sim \\Gamma^{-1} \\left( \\xi \\middle| 1, 1 + \\frac{1}{\\tau^2} \\right),\n",
    "    \\\\\n",
    "\n",
    "    \\sigma_n^2 | \\Theta \\setminus \\{ \\sigma_n^2 \\}\n",
    "    &\\sim \\Gamma^{-1} \\left( \\sigma_n^2 \\middle| \\frac{N + D}{2}, \\frac{\\| y - X w \\|_2^2}{2} + \\frac{w^\\top \\Lambda_\\ast^{-1} w}{2} \\right),\n",
    "\\end{aligned}\n",
    "$$"
   ]
  },
  {
   "cell_type": "markdown",
   "metadata": {},
   "source": [
    "where"
   ]
  },
  {
   "cell_type": "markdown",
   "metadata": {},
   "source": [
    "$$\n",
    "\\begin{aligned}\n",
    "    A &= X^\\top X + \\Lambda_\\ast^{-1},\n",
    "    \\\\\n",
    "\n",
    "    \\Lambda_\\ast^{-1}\n",
    "    &= \\frac{1}{\\tau^2} \\mathop{\\rm diag}\\left( \\frac{1}{\\lambda_1^2}, \\dots, \\frac{1}{\\lambda_N^2} \\right).\n",
    "\\end{aligned}\n",
    "$$"
   ]
  },
  {
   "cell_type": "markdown",
   "metadata": {},
   "source": [
    "In the above, $\\Theta \\setminus \\{ w \\}$ denotes the set of all parameters except for $w$, and similarly for the other parameters."
   ]
  },
  {
   "cell_type": "markdown",
   "metadata": {},
   "source": [
    "## Implementation"
   ]
  },
  {
   "cell_type": "code",
   "execution_count": 1,
   "metadata": {},
   "outputs": [],
   "source": [
    "import numpy as np"
   ]
  },
  {
   "cell_type": "code",
   "execution_count": 2,
   "metadata": {},
   "outputs": [],
   "source": [
    "def sparse_BLR(x_data, y_data, num_samples, init_params, show_errors=False):\n",
    "    rng = np.random.default_rng()\n",
    "\n",
    "    D = x_data.shape[0]\n",
    "    N = x_data.shape[1]\n",
    "\n",
    "    params = init_params\n",
    "\n",
    "    X = x_data\n",
    "    Y = y_data\n",
    "\n",
    "    MSE_hist = []\n",
    "    for iter in range(num_samples):\n",
    "        # sample xi\n",
    "        alpha_xi = 1\n",
    "        beta_xi  = 1 + 1 / params['t2']\n",
    "        xi_new   = 1 / rng.gamma(alpha_xi, 1 / beta_xi)\n",
    "        params['xi'] = xi_new\n",
    "\n",
    "        # sample nu\n",
    "        alpha_nu = 1\n",
    "        beta_nu  = 1 + 1 / params['l2']\n",
    "        nu_new   = 1 / rng.gamma(alpha_nu, 1 / beta_nu)\n",
    "        params['nu'] = nu_new\n",
    "\n",
    "        # sample l2\n",
    "        alpha_l = 1\n",
    "        beta_l  = 1 / params['nu'] + 1 / 2 / params['t2'] * params['w']**2 / params['sigma2_n']\n",
    "        l_new   = 1 / rng.gamma(alpha_l, 1 / beta_l)\n",
    "        params['l2'] = l_new\n",
    "\n",
    "        # sample t2\n",
    "        alpha_t = (N + 1) / 2\n",
    "        beta_t  = 1 / params['xi'] + 1 / 2 / params['sigma2_n'] * np.sum( params['w']**2 / params['l2'] )\n",
    "        t_new   = 1 / rng.gamma(alpha_t, 1 / beta_t)\n",
    "        params['t2'] = t_new\n",
    "\n",
    "        # sample sigma2_n\n",
    "        L = params['t2'] * params['l2']\n",
    "        SE = np.sum( ( y_data - x_data @ params['w'] )**2 )\n",
    "        alpha_sigma2_n = (N + D) / 2\n",
    "        beta_sigma2_n  = SE / 2 + np.sum(params['w']** 2 / L) / 2\n",
    "        sigma2_n_new   = 1 / rng.gamma(alpha_sigma2_n, 1 / beta_sigma2_n)\n",
    "        params['sigma2_n'] = sigma2_n_new\n",
    "\n",
    "        # sample w\n",
    "        A     = X.T @ X + np.diag(1 / L)\n",
    "        A_inv = np.linalg.inv(A)\n",
    "        m = A_inv @ X.T @ Y\n",
    "        V = params['sigma2_n'] * A_inv\n",
    "        w_new = rng.multivariate_normal(m, V)\n",
    "        params['w'] = w_new\n",
    "\n",
    "        if show_errors:\n",
    "            if (iter+1) % 100 == 0:\n",
    "                print(f'Iteration {iter+1}, MSE: {SE / D}')\n",
    "\n",
    "        MSE_hist.append(SE / D)\n",
    "    return params, MSE_hist"
   ]
  },
  {
   "cell_type": "code",
   "execution_count": 3,
   "metadata": {},
   "outputs": [
    {
     "name": "stdout",
     "output_type": "stream",
     "text": [
      "Iteration 100, MSE: 1033.9302172419834\n",
      "Iteration 200, MSE: 386.4277414208916\n",
      "Iteration 300, MSE: 534.4012931551458\n",
      "Iteration 400, MSE: 688.5566590811076\n",
      "Iteration 500, MSE: 234.72352814677237\n",
      "Iteration 600, MSE: 186.17592794561534\n",
      "Iteration 700, MSE: 299.3164964478092\n",
      "Iteration 800, MSE: 140.09497867363586\n",
      "Iteration 900, MSE: 115.21499812727521\n",
      "Iteration 1000, MSE: 314.02067943492307\n"
     ]
    }
   ],
   "source": [
    "N = 128\n",
    "D = 64\n",
    "\n",
    "rng = np.random.default_rng(12345)\n",
    "w_true = rng.normal(0, 10, (N)) * rng.choice([0, 1], (N))\n",
    "x_data = rng.choice([0, 1], (D, N))\n",
    "y_data = x_data @ w_true\n",
    "\n",
    "params = {\n",
    "    'w': np.zeros(N).astype(float),\n",
    "    'l2': np.ones(N).astype(float),\n",
    "    't2': 1.,\n",
    "    'nu': np.ones(N).astype(float),\n",
    "    'xi': 1.,\n",
    "    'sigma2_n': 1.,\n",
    "}\n",
    "\n",
    "num_samples = 1000\n",
    "\n",
    "params_posterior, MSE_hist = sparse_BLR(x_data, y_data, num_samples, params, show_errors=True)"
   ]
  },
  {
   "cell_type": "code",
   "execution_count": 4,
   "metadata": {},
   "outputs": [
    {
     "data": {
      "image/png": "[encoded data removed]",
      "text/plain": [
       "<Figure size 640x480 with 1 Axes>"
      ]
     },
     "metadata": {},
     "output_type": "display_data"
    }
   ],
   "source": [
    "import matplotlib.pyplot as plt\n",
    "plt.plot(MSE_hist)\n",
    "plt.yscale('log')\n",
    "plt.show()"
   ]
  },
  {
   "cell_type": "markdown",
   "metadata": {},
   "source": [
    "## Speeding Up the Inference"
   ]
  },
  {
   "cell_type": "markdown",
   "metadata": {},
   "source": [
    "A major bottleneck in the posterior sampling is the inversion of the matrix $A = X^\\top X + \\Lambda_\\ast^{-1}$ and the sampling of multivariate normal, which is $\\mathcal{O} (N^3)$ in time complexity. To speed up the computation, we can use a trick written in `FastMultivariateGauss.ipynb`."
   ]
  },
  {
   "cell_type": "code",
   "execution_count": 5,
   "metadata": {},
   "outputs": [],
   "source": [
    "def sample_efficient(\n",
    "    Phi: np.ndarray,\n",
    "    alpha: np.ndarray,\n",
    "    Delta: np.ndarray\n",
    ") -> np.ndarray:\n",
    "    rng = np.random.default_rng()\n",
    "    D = Phi.shape[0]\n",
    "    N = Phi.shape[1]\n",
    "\n",
    "    # Sample u from N(0, Delta)\n",
    "    if np.isclose(np.diag(np.diag(Delta)), Delta).all():\n",
    "        u = rng.normal(0, np.sqrt(np.diag(Delta)), N)\n",
    "    else:\n",
    "        u = rng.multivariate_normal(np.zeros(N), Delta)\n",
    "\n",
    "    # Sample v from N(Phi @ u, I)\n",
    "    v = rng.normal(Phi @ u, np.ones(D))\n",
    "\n",
    "    # Solve for w\n",
    "    w = np.linalg.solve(Phi @ Delta @ Phi.T + np.eye(D), alpha - v)\n",
    "\n",
    "    return u + Delta @ Phi.T @ w"
   ]
  },
  {
   "cell_type": "markdown",
   "metadata": {},
   "source": [
    "with"
   ]
  },
  {
   "cell_type": "markdown",
   "metadata": {},
   "source": [
    "$$\n",
    "\\begin{aligned}\n",
    "    \\Phi &= \\frac{X}{\\sigma_n}, &\n",
    "    \\alpha &= \\frac{y}{\\sigma_n}, &\n",
    "    \\Delta &= \\sigma_n^2 \\Lambda_\\ast.\n",
    "\\end{aligned}\n",
    "$$"
   ]
  },
  {
   "cell_type": "code",
   "execution_count": 6,
   "metadata": {},
   "outputs": [],
   "source": [
    "def sparse_BLR_efficient(x_data, y_data, num_samples, init_params, show_errors=False):\n",
    "    rng = np.random.default_rng()\n",
    "\n",
    "    D = x_data.shape[0]\n",
    "    N = x_data.shape[1]\n",
    "\n",
    "    params = init_params\n",
    "\n",
    "    X = x_data\n",
    "    Y = y_data\n",
    "\n",
    "    MSE_hist = []\n",
    "    for iter in range(num_samples):\n",
    "        # sample xi\n",
    "        alpha_xi = 1\n",
    "        beta_xi  = 1 + 1 / params['t2']\n",
    "        xi_new   = 1 / rng.gamma(alpha_xi, 1 / beta_xi)\n",
    "        params['xi'] = xi_new\n",
    "\n",
    "        # sample nu\n",
    "        alpha_nu = 1\n",
    "        beta_nu  = 1 + 1 / params['l2']\n",
    "        nu_new   = 1 / rng.gamma(alpha_nu, 1 / beta_nu)\n",
    "        params['nu'] = nu_new\n",
    "\n",
    "        # sample l2\n",
    "        alpha_l = 1\n",
    "        beta_l  = 1 / params['nu'] + 1 / 2 / params['t2'] * params['w']**2 / params['sigma2_n']\n",
    "        l_new   = 1 / rng.gamma(alpha_l, 1 / beta_l)\n",
    "        params['l2'] = l_new\n",
    "\n",
    "        # sample t2\n",
    "        alpha_t = (N + 1) / 2\n",
    "        beta_t  = 1 / params['xi'] + 1 / 2 / params['sigma2_n'] * np.sum( params['w']**2 / params['l2'] )\n",
    "        t_new   = 1 / rng.gamma(alpha_t, 1 / beta_t)\n",
    "        params['t2'] = t_new\n",
    "\n",
    "        # sample sigma2_n\n",
    "        L = params['t2'] * params['l2']\n",
    "        SE = np.sum( ( y_data - x_data @ params['w'] )**2 )\n",
    "        alpha_sigma2_n = (N + D) / 2\n",
    "        beta_sigma2_n  = SE / 2 + np.sum(params['w']** 2 / L) / 2\n",
    "        sigma2_n_new   = 1 / rng.gamma(alpha_sigma2_n, 1 / beta_sigma2_n)\n",
    "        params['sigma2_n'] = sigma2_n_new\n",
    "\n",
    "        # sample w\n",
    "        w_new = sample_efficient(\n",
    "            X / np.sqrt(params['sigma2_n']),\n",
    "            Y / np.sqrt(params['sigma2_n']),\n",
    "            np.diag(L) * params['sigma2_n']\n",
    "        )\n",
    "\n",
    "        params['w'] = w_new\n",
    "\n",
    "        if show_errors:\n",
    "            if (iter+1) % 100 == 0:\n",
    "                print(f'Iteration {iter+1}, MSE: {SE / D}')\n",
    "\n",
    "        MSE_hist.append(SE / D)\n",
    "    return params, MSE_hist"
   ]
  },
  {
   "cell_type": "code",
   "execution_count": 7,
   "metadata": {},
   "outputs": [
    {
     "name": "stdout",
     "output_type": "stream",
     "text": [
      "Iteration 100, MSE: 731.4995384252184\n",
      "Iteration 200, MSE: 358.721946441877\n",
      "Iteration 300, MSE: 368.94673708570383\n",
      "Iteration 400, MSE: 195.25868083276427\n",
      "Iteration 500, MSE: 71.0072941048432\n",
      "Iteration 600, MSE: 35.8313764417659\n",
      "Iteration 700, MSE: 268.79893591103735\n",
      "Iteration 800, MSE: 149.8622976365162\n",
      "Iteration 900, MSE: 156.2781019367354\n",
      "Iteration 1000, MSE: 234.82409207508402\n"
     ]
    }
   ],
   "source": [
    "N = 128\n",
    "D = 64\n",
    "\n",
    "rng = np.random.default_rng(12345)\n",
    "w_true = rng.normal(0, 10, (N)) * rng.choice([0, 1], (N))\n",
    "x_data = rng.choice([0, 1], (D, N))\n",
    "y_data = x_data @ w_true\n",
    "\n",
    "params = {\n",
    "    'w': np.zeros(N).astype(float),\n",
    "    'l2': np.ones(N).astype(float),\n",
    "    't2': 1.,\n",
    "    'nu': np.ones(N).astype(float),\n",
    "    'xi': 1.,\n",
    "    'sigma2_n': 1.,\n",
    "}\n",
    "\n",
    "num_samples = 1000\n",
    "\n",
    "params_posterior, MSE_hist = sparse_BLR_efficient(x_data, y_data, num_samples, params, show_errors=True)"
   ]
  },
  {
   "cell_type": "code",
   "execution_count": 8,
   "metadata": {},
   "outputs": [
    {
     "data": {
      "text/plain": [
       "[<matplotlib.lines.Line2D at 0x1149e0d90>]"
      ]
     },
     "execution_count": 8,
     "metadata": {},
     "output_type": "execute_result"
    },
    {
     "data": {
      "image/png": "[encoded data removed]",
      "text/plain": [
       "<Figure size 640x480 with 1 Axes>"
      ]
     },
     "metadata": {},
     "output_type": "display_data"
    }
   ],
   "source": [
    "plt.plot(MSE_hist)"
   ]
  },
  {
   "cell_type": "code",
   "execution_count": 9,
   "metadata": {},
   "outputs": [
    {
     "name": "stdout",
     "output_type": "stream",
     "text": [
      "sparse_BLR:           9.04891324043274\n",
      "sparse_BLR_efficient: 0.7552733421325684\n"
     ]
    }
   ],
   "source": [
    "# Speed comparison\n",
    "import time\n",
    "start = time.time()\n",
    "sparse_BLR(x_data, y_data, num_samples, params)\n",
    "end = time.time()\n",
    "time_BLR = end - start\n",
    "\n",
    "start = time.time()\n",
    "sparse_BLR_efficient(x_data, y_data, num_samples, params)\n",
    "end = time.time()\n",
    "time_BLR_efficient = end - start\n",
    "\n",
    "print(f'sparse_BLR:           {time_BLR}')\n",
    "print(f'sparse_BLR_efficient: {time_BLR_efficient}')"
   ]
  },
  {
   "cell_type": "markdown",
   "metadata": {},
   "source": [
    "## References\n",
    "- [Carvalho+ (2010)] C. M. Carvalho, N. G. Polson, and J. G. Scott, The Horseshoe Estimator for Sparse Signals, Biometrika **97**, 465 (2010).\n",
    "- [Wand+ (2011)] M. P. Wand, J. T. Ormerod, S. A. Padoan, and R. Frühwirth, Mean Field Variational Bayes for Elaborate Distributions, Bayesian Analysis **6**, 847 (2011).\n",
    "- [Makalic & Schmidt (2016)] E. Makalic and D. F. Schmidt, A Simple Sampler for the Horseshoe Estimator, IEEE Signal Processing Letters **23**, 179 (2016).\n",
    "- [Bhattacharya+ (2016)] A. Bhattacharya, A. Chakraborty, and B. K. Mallick, Fast Sampling with Gaussian Scale Mixture Priors in High-Dimensional Regression, Biometrika **103**, 985 (2016)."
   ]
  }
 ],
 "metadata": {
  "kernelspec": {
   "display_name": ".venv",
   "language": "python",
   "name": "python3"
  },
  "language_info": {
   "codemirror_mode": {
    "name": "ipython",
    "version": 3
   },
   "file_extension": ".py",
   "mimetype": "text/x-python",
   "name": "python",
   "nbconvert_exporter": "python",
   "pygments_lexer": "ipython3",
   "version": "3.11.6"
  }
 },
 "nbformat": 4,
 "nbformat_minor": 2
}
