{
 "cells": [
  {
   "cell_type": "markdown",
   "metadata": {},
   "source": [
    "# Sparse Bayesian Linear Regression with Horseshoe Prior"
   ]
  },
  {
   "cell_type": "markdown",
   "metadata": {},
   "source": [
    "Bayesian linear regression is a probabilistic approach to linear regression, where we assume that the target variable is normally distributed around a linear combination of the input variables."
   ]
  },
  {
   "cell_type": "markdown",
   "metadata": {},
   "source": [
    "$$\n",
    "\\begin{aligned}\n",
    "    y^{(d)} | x^{(d)}, w, \\sigma_n^2 \\sim \\mathcal{N}(y | w^\\top x^{(d)}, \\sigma_n^2)\n",
    "\\end{aligned}\n",
    "$$"
   ]
  },
  {
   "cell_type": "markdown",
   "metadata": {},
   "source": [
    "## The Horseshoe Prior"
   ]
  },
  {
   "cell_type": "markdown",
   "metadata": {},
   "source": [
    "[Makalic & Schmidt (2016)] proposed a **sparse Bayesian linear regression model**, where the weights are assumed to be distributed according to a horseshoe distribution [Carvalho+ (2010)], which is given by"
   ]
  },
  {
   "cell_type": "markdown",
   "metadata": {},
   "source": [
    "$$\n",
    "\\begin{aligned}\n",
    "    w_i | \\lambda_i, \\tau, \\sigma_n^2 &\\sim \\mathcal{N}(w_i | 0, \\lambda_i^2 \\tau^2 \\sigma_n^2) && i = 1, \\dots, N, \\\\\n",
    "    \\lambda_i &\\sim \\mathcal{C}^+(\\lambda_i | 0, 1) && i = 1, \\dots, N, \\\\\n",
    "    \\tau &\\sim \\mathcal{C}^+(\\tau | 0, 1), \\\\\n",
    "    \\sigma_n^2 &\\sim \\frac{1}{\\sigma_n^2} d\\sigma_n^2,\n",
    "\\end{aligned}\n",
    "$$"
   ]
  },
  {
   "cell_type": "markdown",
   "metadata": {},
   "source": [
    "with parameters\n",
    "\n",
    "- $w_i$ being the weights,\n",
    "- $\\lambda_i$ being the local shrinkage parameters associated with each $w_i$,\n",
    "- $\\tau$ being the global shrinkage parameter, and\n",
    "- $\\sigma_n^2$ being the noise variance."
   ]
  },
  {
   "cell_type": "markdown",
   "metadata": {},
   "source": [
    "$\\mathcal{C}^+(\\cdot | 0, 1)$ denotes the half-Cauchy distribution with location $0$ and scale $1$:"
   ]
  },
  {
   "cell_type": "markdown",
   "metadata": {},
   "source": [
    "$$\n",
    "\\begin{aligned}\n",
    "    \\mathcal C^+(z | 0, 1) = \\frac{2}{\\pi} \\frac{1}{1 + z^2}, \\quad z \\gt 0.\n",
    "\\end{aligned}\n",
    "$$"
   ]
  },
  {
   "cell_type": "markdown",
   "metadata": {},
   "source": [
    "$\\sigma_n^2 \\sim \\sigma_n^{-2} d\\sigma_n^2$ means that $\\sigma_n^2$ is distributed according to an improper distribution (here, 'improper' means that the distribution does not satisfy $\\int p(\\sigma_n^2) d\\sigma_n^2 = 1$):"
   ]
  },
  {
   "cell_type": "markdown",
   "metadata": {},
   "source": [
    "$$\n",
    "\\begin{aligned}\n",
    "    p(\\sigma_n^2) \\propto \\frac{1}{\\sigma_n^2},\n",
    "\\end{aligned}\n",
    "$$"
   ]
  },
  {
   "cell_type": "markdown",
   "metadata": {},
   "source": [
    "which can be interpreted as an inverse-gamma distribution with shape parameter $\\alpha \\to 0$ and scale parameter $\\beta \\to 0$:"
   ]
  },
  {
   "cell_type": "markdown",
   "metadata": {},
   "source": [
    "$$\n",
    "\\begin{aligned}\n",
    "    \\lim_{\\alpha_n, \\beta_n \\to 0}\n",
    "    \\Gamma^{-1} (\\sigma_n^2 | \\alpha_n, \\beta_n)\n",
    "    =\n",
    "    \\lim_{\\alpha_n, \\beta_n \\to 0}\n",
    "    \\frac{\\beta_n^{\\alpha_n}}{\\Gamma(\\alpha_n)}\n",
    "    \\left( \\frac{1}{\\sigma_n^2} \\right)^{\\alpha_n + 1}\n",
    "    \\exp \\left( -\\frac{\\beta_n}{\\sigma_n^2} \\right).\n",
    "\\end{aligned}\n",
    "$$"
   ]
  },
  {
   "cell_type": "markdown",
   "metadata": {},
   "source": [
    "The horseshoe distribution is a heavy-tailed distribution, which allows for a large number of weights to be close to zero, while still allowing for a few weights to be large."
   ]
  },
  {
   "cell_type": "markdown",
   "metadata": {},
   "source": [
    "## Reformulation of the Horseshoe Prior"
   ]
  },
  {
   "cell_type": "markdown",
   "metadata": {},
   "source": [
    "According to [Wand+ (2011)], a half-Cauchy distribution $\\mathcal{C}^+(x | 0, a)$ can be reformulated as a scale mixture of inverse-gammas:"
   ]
  },
  {
   "cell_type": "markdown",
   "metadata": {},
   "source": [
    "$$\n",
    "\\begin{aligned}\n",
    "    x^2 | a' &\\sim \\Gamma^{-1} \\left( x^2 \\middle| \\frac{1}{2}, \\frac{1}{a'} \\right), \\\\\n",
    "    a' | a &\\sim \\Gamma^{-1} \\left( a' \\middle| \\frac{1}{2}, \\frac{1}{a^2} \\right),\n",
    "\\end{aligned}\n",
    "$$"
   ]
  },
  {
   "cell_type": "markdown",
   "metadata": {},
   "source": [
    "and thus the horseshoe distribution can be reformulated as [Makalic & Schmidt (2016)]"
   ]
  },
  {
   "cell_type": "markdown",
   "metadata": {},
   "source": [
    "$$\n",
    "\\begin{aligned}\n",
    "    w_i | \\lambda_i, \\tau, \\sigma_n^2\n",
    "    &\\sim \\mathcal{N}(w_i | 0, \\lambda_i^2 \\tau^2 \\sigma_n^2)\n",
    "    & i &= 1, \\dots, N,\n",
    "    \\\\\n",
    "    \\lambda_i^2 | \\mu_i\n",
    "    &\\sim \\Gamma^{-1} \\left( \\lambda_i^2 \\middle| \\frac{1}{2}, \\frac{1}{\\nu_i} \\right),\n",
    "    & i &= 1, \\dots, N,\n",
    "    \\\\\n",
    "    \\tau^2 | \\xi\n",
    "    &\\sim \\Gamma^{-1} \\left( \\tau^2 \\middle| \\frac{1}{2}, \\frac{1}{\\xi} \\right),\n",
    "    \\\\\n",
    "    \\nu_i, \\xi\n",
    "    &\\sim \\Gamma^{-1} \\left( \\cdot \\middle| \\frac{1}{2}, 1 \\right),\n",
    "    & i &= 1, \\dots, N,\n",
    "    \\\\\n",
    "    \\sigma_n^2\n",
    "    &\\sim \\frac{1}{\\sigma_n^2} d\\sigma_n^2.\n",
    "\\end{aligned}\n",
    "$$"
   ]
  },
  {
   "cell_type": "markdown",
   "metadata": {},
   "source": [
    "## Posterior"
   ]
  },
  {
   "cell_type": "markdown",
   "metadata": {},
   "source": [
    "The above hierarchical expression allows us to write the posterior distributions as"
   ]
  },
  {
   "cell_type": "markdown",
   "metadata": {},
   "source": [
    "$$\n",
    "\\begin{aligned}\n",
    "    w | \\Theta \\setminus \\{ w \\}\n",
    "    &\\sim \\mathcal{N}(w | A^{-1} X^\\top y, \\sigma_n^2 A^{-1}), \n",
    "    \\\\\n",
    "\n",
    "    \\sigma_n^2 | \\Theta \\setminus \\{ \\sigma_n^2 \\}\n",
    "    &\\sim \\Gamma^{-1} \\left( \\sigma_n^2 \\middle| \\frac{N + D}{2}, \\frac{\\| y - X w \\|_2^2}{2} + \\frac{w^\\top \\Lambda_\\ast^{-1} w}{2} \\right),\n",
    "    \\\\\n",
    "\n",
    "    \\lambda_i^2 | \\Theta \\setminus \\{ \\lambda_i^2 \\}\n",
    "    &\\sim \\Gamma^{-1} \\left( \\lambda_i^2 \\middle| 1, \\frac{1}{\\nu_i} + \\frac{w_i^2}{2 \\sigma_n^2 \\tau^2} \\right),\n",
    "    & i &= 1, \\dots, N,\n",
    "    \\\\\n",
    "\n",
    "    \\tau^2 | \\Theta \\setminus \\{ \\tau^2 \\}\n",
    "    &\\sim \\Gamma^{-1} \\left( \\tau^2 \\middle| \\frac{N + 1}{2}, \\frac{1}{\\xi} + \\frac{\\| w \\|_2^2}{2 \\sigma_n^2 \\| \\lambda \\|_2^2} \\right),\n",
    "    \\\\\n",
    "    \n",
    "    \\nu_i | \\Theta \\setminus \\{ \\nu_i \\}\n",
    "    &\\sim \\Gamma^{-1} \\left( \\nu_i \\middle| 1, 1 + \\frac{1}{\\lambda_i^2} \\right),\n",
    "    & i &= 1, \\dots, N,\n",
    "    \\\\\n",
    "\n",
    "    \\xi | \\Theta \\setminus \\{ \\xi \\}\n",
    "    &\\sim \\Gamma^{-1} \\left( \\xi \\middle| 1, 1 + \\frac{1}{\\tau^2} \\right),\n",
    "\\end{aligned}\n",
    "$$"
   ]
  },
  {
   "cell_type": "markdown",
   "metadata": {},
   "source": [
    "where"
   ]
  },
  {
   "cell_type": "markdown",
   "metadata": {},
   "source": [
    "$$\n",
    "\\begin{aligned}\n",
    "    A &= X^\\top X + \\Lambda_\\ast^{-1},\n",
    "    \\\\\n",
    "\n",
    "    \\Lambda_\\ast^{-1}\n",
    "    &= \\frac{1}{\\tau^2} \\mathop{\\rm diag}\\left( \\frac{1}{\\lambda_1^2}, \\dots, \\frac{1}{\\lambda_N^2} \\right).\n",
    "\\end{aligned}\n",
    "$$"
   ]
  },
  {
   "cell_type": "markdown",
   "metadata": {},
   "source": [
    "In the above, $\\Theta \\setminus \\{ w \\}$ denotes the set of all parameters except for $w$, and similarly for the other parameters."
   ]
  },
  {
   "cell_type": "markdown",
   "metadata": {},
   "source": [
    "## Implementation"
   ]
  },
  {
   "cell_type": "code",
   "execution_count": 1,
   "metadata": {},
   "outputs": [],
   "source": [
    "import numpy as np\n",
    "import matplotlib.pyplot as plt\n",
    "from tqdm import tqdm\n",
    "from typing import Optional\n",
    "from scipy.stats import invgamma"
   ]
  },
  {
   "cell_type": "code",
   "execution_count": 2,
   "metadata": {},
   "outputs": [],
   "source": [
    "def sample_w_posterior_naive(x_data, y_data, N_data, N_vars, XtY, XtX, tau2, lamb2, sigma2):\n",
    "    A = XtX + np.diag(1.0 / (tau2 * lamb2))\n",
    "    A_inv = np.linalg.inv(A)\n",
    "    try:\n",
    "        w = np.random.multivariate_normal(A_inv.dot(XtY), sigma2 * A_inv)\n",
    "    except:\n",
    "        print(\"error while sampling w\")\n",
    "        w = np.random.multivariate_normal(A_inv.dot(XtY), 1e-10 * np.eye(N_vars))\n",
    "    return w\n",
    "\n",
    "def sample_sigma2_n_posterior(x_data, y_data, w, N_data, N_vars, lamb2, tau2):\n",
    "    error = y_data - x_data.dot(w)\n",
    "    shape = (N_data + N_vars) / 2\n",
    "    scale = np.dot(error, error) / 2 + np.sum(w ** 2 / lamb2) / (tau2 * 2)\n",
    "    return invgamma.rvs(shape, scale=scale)\n",
    "\n",
    "def sample_lamb2_posterior(w, N_vars, sigma2_n, lamb2, tau2, nu):\n",
    "    shape = 1.\n",
    "    for k in range(N_vars):\n",
    "        scale = 1. / nu[k] + w[k]**2 / (2 * tau2 * sigma2_n)\n",
    "        lamb2[k] = invgamma.rvs(shape, scale=scale)\n",
    "    return lamb2\n",
    "\n",
    "def sample_tau2_posterior(w, N_vars, sigma2_n, lamb2, xi):\n",
    "    shape = (N_vars + 1) / 2\n",
    "    scale = 1. / xi + np.sum(w ** 2 / lamb2) / (2 * sigma2_n)\n",
    "    return invgamma.rvs(shape, scale=scale)\n",
    "\n",
    "def sample_nu_posterior(N_vars, lamb2, nu):\n",
    "    shape = 1.\n",
    "    for k in range(N_vars):\n",
    "        scale = 1. + 1. / lamb2[k]\n",
    "        nu[k] = invgamma.rvs(shape, scale=scale)\n",
    "    return nu\n",
    "\n",
    "def sample_xi_posterior(tau2):\n",
    "    shape = 1.\n",
    "    scale = 1. + 1. / tau2\n",
    "    return invgamma.rvs(shape, scale=scale)\n",
    "\n",
    "def sample_params_posterior_naive(x_data, y_data, w, N_data, N_vars, XtY, XtX, sigma2_n, lamb2, tau2, nu, xi):\n",
    "    w        = sample_w_posterior_naive(x_data, y_data, N_data, N_vars, XtY, XtX, tau2, lamb2, sigma2_n)\n",
    "    sigma2_n = sample_sigma2_n_posterior(x_data, y_data, w, N_data, N_vars, lamb2, tau2)\n",
    "    lamb2    = sample_lamb2_posterior(w, N_vars, sigma2_n, lamb2, tau2, nu)\n",
    "    tau2     = sample_tau2_posterior(w, N_vars, sigma2_n, lamb2, xi)\n",
    "    nu       = sample_nu_posterior(N_vars, lamb2, nu)\n",
    "    xi       = sample_xi_posterior(tau2)\n",
    "    return w, sigma2_n, lamb2, tau2, nu, xi"
   ]
  },
  {
   "cell_type": "code",
   "execution_count": 3,
   "metadata": {},
   "outputs": [
    {
     "name": "stderr",
     "output_type": "stream",
     "text": [
      "100%|██████████| 1000/1000 [00:04<00:00, 249.40it/s]\n"
     ]
    }
   ],
   "source": [
    "N = 32\n",
    "D = 64\n",
    "\n",
    "rng = np.random.default_rng(12345)\n",
    "w_true = rng.normal(0, 10, (N))\n",
    "x_data = rng.choice([0, 1], (D, N))\n",
    "y_data = x_data @ w_true\n",
    "\n",
    "num_iter = 1000\n",
    "\n",
    "# initialize parameters\n",
    "w        = np.zeros(N).astype(float)\n",
    "sigma2_n = 1.\n",
    "lamb2    = np.ones(N).astype(float)\n",
    "tau2     = 1.\n",
    "nu       = np.ones(N).astype(float)\n",
    "xi       = 1.\n",
    "\n",
    "XtX = x_data.T@x_data\n",
    "XtY = x_data.T@y_data\n",
    "\n",
    "MSE_history = []\n",
    "for iter in tqdm(range(num_iter)):\n",
    "    w, sigma2_n, lamb2, tau2, nu, xi = sample_params_posterior_naive(x_data, y_data, w, D, N, XtY, XtX, sigma2_n, lamb2, tau2, nu, xi)\n",
    "    MSE = np.sum( ( y_data - x_data @ w )**2 ) / D\n",
    "    MSE_history.append(MSE)\n"
   ]
  },
  {
   "cell_type": "code",
   "execution_count": 4,
   "metadata": {},
   "outputs": [
    {
     "data": {
      "image/png": "[encoded data removed]",
      "text/plain": [
       "<Figure size 640x480 with 1 Axes>"
      ]
     },
     "metadata": {},
     "output_type": "display_data"
    }
   ],
   "source": [
    "plt.plot(MSE_history)\n",
    "plt.yscale('log')\n",
    "plt.show()"
   ]
  },
  {
   "cell_type": "markdown",
   "metadata": {},
   "source": [
    "## Speeding Up the Inference"
   ]
  },
  {
   "cell_type": "markdown",
   "metadata": {},
   "source": [
    "Major bottlenecks in the posterior sampling is the inversion of the matrix $A = X^\\top X + \\Lambda_\\ast^{-1}$ and the sampling of multivariate normal, which is $\\mathcal{O} (N^3)$ in time complexity. To speed up the computation, we can use a trick written in `FastMultivariateGauss.ipynb` with a setting of"
   ]
  },
  {
   "cell_type": "markdown",
   "metadata": {},
   "source": [
    "$$\n",
    "\\begin{aligned}\n",
    "    \\Phi &= \\frac{X}{\\sigma_n}, &\n",
    "    \\alpha &= \\frac{y}{\\sigma_n}, &\n",
    "    \\Delta &= \\sigma_n^2 \\Lambda_\\ast.\n",
    "\\end{aligned}\n",
    "$$"
   ]
  },
  {
   "cell_type": "code",
   "execution_count": 5,
   "metadata": {},
   "outputs": [],
   "source": [
    "def sample_gaussian_efficient(Phi, alpha, Delta):\n",
    "    N_data, N_vars = Phi.shape\n",
    "    if Delta.ndim == 1:\n",
    "        u = np.random.normal(0, 1, N_vars) * np.sqrt(Delta)\n",
    "        Delta = np.diag(Delta)\n",
    "    else:\n",
    "        u = np.random.multivariate_normal(np.zeros(N_vars), Delta)\n",
    "\n",
    "    delta = np.random.normal(0, 1, N_data)\n",
    "    v = Phi.dot(u) + delta\n",
    "    w = np.linalg.solve(Phi.dot(Delta).dot(Phi.T) + np.eye(N_data), alpha - v)\n",
    "    w_sample = u + Delta.dot(Phi.T).dot(w)\n",
    "    return w_sample\n",
    "\n",
    "def sample_w_posterior(x_data, y_data, N_data, N_vars, XtY, XtX, tau2, lamb2, sigma2):\n",
    "    try:\n",
    "        w = sample_gaussian_efficient(x_data / np.sqrt(sigma2), y_data / np.sqrt(sigma2), tau2 * lamb2 * sigma2)\n",
    "    except:\n",
    "        A = XtX + np.diag(1.0 / (tau2 * lamb2))\n",
    "        A_inv = np.linalg.inv(A)\n",
    "        try:\n",
    "            w = np.random.multivariate_normal(A_inv.dot(XtY), sigma2 * A_inv + 1e-10 * np.eye(N_vars))\n",
    "        except:\n",
    "            print(\"error while sampling w\")\n",
    "            w = np.random.multivariate_normal(A_inv.dot(XtY), 1e-10 * np.eye(N_vars))\n",
    "    return w\n",
    "\n",
    "def sample_params_posterior(x_data, y_data, w, N_data, N_vars, XtY, XtX, sigma2_n, lamb2, tau2, nu, xi):\n",
    "    w        = sample_w_posterior(x_data, y_data, N_data, N_vars, XtY, XtX, tau2, lamb2, sigma2_n)\n",
    "    sigma2_n = sample_sigma2_n_posterior(x_data, y_data, w, N_data, N_vars, lamb2, tau2)\n",
    "    lamb2    = sample_lamb2_posterior(w, N_vars, sigma2_n, lamb2, tau2, nu)\n",
    "    tau2     = sample_tau2_posterior(w, N_vars, sigma2_n, lamb2, xi)\n",
    "    nu       = sample_nu_posterior(N_vars, lamb2, nu)\n",
    "    xi       = sample_xi_posterior(tau2)\n",
    "    return w, sigma2_n, lamb2, tau2, nu, xi"
   ]
  },
  {
   "cell_type": "code",
   "execution_count": 6,
   "metadata": {},
   "outputs": [
    {
     "name": "stderr",
     "output_type": "stream",
     "text": [
      "100%|██████████| 1000/1000 [00:03<00:00, 254.66it/s]\n"
     ]
    }
   ],
   "source": [
    "N = 32\n",
    "D = 64\n",
    "\n",
    "rng = np.random.default_rng(12345)\n",
    "w_true = rng.normal(0, 10, (N))\n",
    "x_data = rng.choice([0, 1], (D, N))\n",
    "y_data = x_data @ w_true\n",
    "\n",
    "num_iter = 1000\n",
    "\n",
    "# initialize parameters\n",
    "w        = np.zeros(N).astype(float)\n",
    "sigma2_n = 1.\n",
    "lamb2    = np.ones(N).astype(float)\n",
    "tau2     = 1.\n",
    "nu       = np.ones(N).astype(float)\n",
    "xi       = 1.\n",
    "\n",
    "XtX = x_data.T@x_data\n",
    "XtY = x_data.T@y_data\n",
    "\n",
    "MSE_history = []\n",
    "for iter in tqdm(range(num_iter)):\n",
    "    w, sigma2_n, lamb2, tau2, nu, xi = sample_params_posterior(x_data, y_data, w, D, N, XtY, XtX, sigma2_n, lamb2, tau2, nu, xi)\n",
    "    MSE = np.sum( ( y_data - x_data @ w )**2 ) / D\n",
    "    MSE_history.append(MSE)"
   ]
  },
  {
   "cell_type": "code",
   "execution_count": 7,
   "metadata": {},
   "outputs": [
    {
     "data": {
      "image/png": "[encoded data removed]",
      "text/plain": [
       "<Figure size 640x480 with 1 Axes>"
      ]
     },
     "metadata": {},
     "output_type": "display_data"
    }
   ],
   "source": [
    "plt.plot(MSE_history)\n",
    "plt.yscale('log')\n",
    "plt.show()"
   ]
  },
  {
   "cell_type": "code",
   "execution_count": 8,
   "metadata": {},
   "outputs": [
    {
     "name": "stderr",
     "output_type": "stream",
     "text": [
      "100%|██████████| 100/100 [00:02<00:00, 38.66it/s]\n",
      "100%|██████████| 100/100 [00:01<00:00, 80.82it/s]"
     ]
    },
    {
     "name": "stdout",
     "output_type": "stream",
     "text": [
      "naive:     2.640452s\n",
      "efficient: 1.247311s\n"
     ]
    },
    {
     "name": "stderr",
     "output_type": "stream",
     "text": [
      "\n"
     ]
    }
   ],
   "source": [
    "# Speed comparison\n",
    "import time\n",
    "\n",
    "N = 128\n",
    "D = 256\n",
    "\n",
    "rng = np.random.default_rng(12345)\n",
    "w_true = rng.normal(0, 10, (N))\n",
    "x_data = rng.choice([0, 1], (D, N))\n",
    "y_data = x_data @ w_true\n",
    "\n",
    "num_iter = 100\n",
    "\n",
    "# initialize parameters\n",
    "w        = np.zeros(N).astype(float)\n",
    "sigma2_n = 1.\n",
    "lamb2    = np.ones(N).astype(float)\n",
    "tau2     = 1.\n",
    "nu       = np.ones(N).astype(float)\n",
    "xi       = 1.\n",
    "\n",
    "XtX = x_data.T@x_data\n",
    "XtY = x_data.T@y_data\n",
    "\n",
    "start = time.time()\n",
    "for t in tqdm(range(100)):\n",
    "    _ = sample_params_posterior_naive(x_data, y_data, w, D, N, XtY, XtX, sigma2_n, lamb2, tau2, nu, xi)\n",
    "end = time.time()\n",
    "time_naive = end - start\n",
    "\n",
    "start = time.time()\n",
    "for t in tqdm(range(100)):\n",
    "    _ = sample_params_posterior(x_data, y_data, w, D, N, XtY, XtX, sigma2_n, lamb2, tau2, nu, xi)\n",
    "end = time.time()\n",
    "time_efficient = end - start\n",
    "\n",
    "print(f'naive:     {time_naive:.6f}s')\n",
    "print(f'efficient: {time_efficient:.6f}s')"
   ]
  },
  {
   "cell_type": "markdown",
   "metadata": {},
   "source": [
    "## References\n",
    "- [Carvalho+ (2010)] C. M. Carvalho, N. G. Polson, and J. G. Scott, The Horseshoe Estimator for Sparse Signals, Biometrika **97**, 465 (2010).\n",
    "- [Wand+ (2011)] M. P. Wand, J. T. Ormerod, S. A. Padoan, and R. Frühwirth, Mean Field Variational Bayes for Elaborate Distributions, Bayesian Analysis **6**, 847 (2011).\n",
    "- [Makalic & Schmidt (2016)] E. Makalic and D. F. Schmidt, A Simple Sampler for the Horseshoe Estimator, IEEE Signal Processing Letters **23**, 179 (2016).\n",
    "- [Bhattacharya+ (2016)] A. Bhattacharya, A. Chakraborty, and B. K. Mallick, Fast Sampling with Gaussian Scale Mixture Priors in High-Dimensional Regression, Biometrika **103**, 985 (2016)."
   ]
  }
 ],
 "metadata": {
  "kernelspec": {
   "display_name": ".venv",
   "language": "python",
   "name": "python3"
  },
  "language_info": {
   "codemirror_mode": {
    "name": "ipython",
    "version": 3
   },
   "file_extension": ".py",
   "mimetype": "text/x-python",
   "name": "python",
   "nbconvert_exporter": "python",
   "pygments_lexer": "ipython3",
   "version": "3.11.6"
  }
 },
 "nbformat": 4,
 "nbformat_minor": 2
}
