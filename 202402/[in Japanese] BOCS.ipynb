{
 "cells": [
  {
   "cell_type": "markdown",
   "metadata": {},
   "source": [
    "$\\DeclareMathOperator*{\\argmin}{arg~min}$\n",
    "$\\def\\R{\\mathbb{R}}$"
   ]
  },
  {
   "cell_type": "markdown",
   "metadata": {},
   "source": [
    "# Bayesian Optimization of Combinatorial Structures (simplified ver.)"
   ]
  },
  {
   "cell_type": "markdown",
   "metadata": {},
   "source": [
    "本ノートブックではアニーリング法を用いた Bayesian Optimization of Combinatorial Structures (`BOCS-SA`) [Baptista + Poloczek] の簡略版を実装する。"
   ]
  },
  {
   "cell_type": "code",
   "execution_count": 1,
   "metadata": {},
   "outputs": [],
   "source": [
    "import numpy as np\n",
    "import matplotlib.pyplot as plt\n",
    "from pathlib import Path\n",
    "import os\n",
    "from julia import Main\n",
    "from typing import Callable, Optional\n",
    "from IPython.display import display, clear_output\n",
    "\n",
    "dir_script = Path(os.getcwd())"
   ]
  },
  {
   "cell_type": "markdown",
   "metadata": {},
   "source": [
    "## 参考文献"
   ]
  },
  {
   "cell_type": "markdown",
   "metadata": {},
   "source": [
    "- [Baptista + Poloczek (2018)] R. Baptista and M. Poloczek, Bayesian Optimization of Combinatorial Structures, in Proceedings of the 35th International Conference on Machine Learning, edited by J. Dy and A. Krause, Vol. 80 (PMLR, 2018), pp. 462–471."
   ]
  },
  {
   "cell_type": "markdown",
   "metadata": {},
   "source": [
    "## ベイズ最適化"
   ]
  },
  {
   "cell_type": "markdown",
   "metadata": {},
   "source": [
    "ベイズ最適化は、高コストかつ内部構造が不明な目的関数の最適化のための手法である。各ステップで目的関数の内部構造を推定し、その推定結果を用いて次の探索点 $x$ を決める。決まった探索点 $x$ で実際に目的関数を評価し、観測値 $y$ を得る。こうして得られた入出力ペア $(x, y)$ を用いて、目的関数の内部構造の推定を更新する。以上のことを繰り返していく。具体的には以下のステップに従う。\n",
    "\n",
    "1. 代理モデル $\\hat f$ をデータセット $\\mathcal{D}$ を用いて学習する\n",
    "2. 獲得関数 $\\alpha$ を作成する\n",
    "3. 次の探索点をサンプルする: $x^\\text{next} = \\argmin_x \\alpha(x)$\n",
    "4. 目的関数を評価する: $y^\\text{next} \\gets f(x^\\text{next})$\n",
    "5. データセットに情報を追加する: $\\mathcal{D} \\gets \\mathcal{D} \\cup \\{(x^\\text{next}, y^\\text{next})\\}$\n",
    "6. 1.―4.を繰り返す\n",
    "  \n",
    "ベイズ最適化は主に以下の4要素で構成される。\n",
    "\n",
    "- 真の目的関数\n",
    "- 代理モデル\n",
    "- 獲得関数\n",
    "- 獲得関数最適化ソルバー\n",
    "\n",
    "代理モデルは、真の目的関数を近似する「扱いやすい」統計モデルである。このモデルを、既知の入出力の関係にうまくフィッティングさせることで、目的関数のおおよその傾向を掴むという役割がある。\n",
    "\n",
    "代理モデルをフィッティングすると、いろいろなことがわかる。どんな代理モデルを用いるかによるが、例えば「極端にデータが少ない領域が存在する」とか、「目的関数の値が小さくなりやすい領域がある」などである。このような情報をもとに、次に調べる入力 $x$ としてどれほどふさわしいか（またはふさわしくないか）を評価するのが「獲得関数 $\\alpha$」である。\n",
    "\n",
    "獲得関数の値 $\\alpha(x)$ が小さいほど（問題によっては大きいほど）次に調べる入力としてふさわしい。したがって最も入力としてふさわしい点を獲得関数をもとに調べるために、獲得関数を最小化（または最大化）するソルバーが必要となる。これが獲得関数最適化ソルバーである。"
   ]
  },
  {
   "cell_type": "markdown",
   "metadata": {},
   "source": [
    "## 代理モデル"
   ]
  },
  {
   "cell_type": "markdown",
   "metadata": {},
   "source": [
    "代理モデルとして2次の多項式を用いる。"
   ]
  },
  {
   "cell_type": "markdown",
   "metadata": {},
   "source": [
    "$$\n",
    "\\begin{aligned}\n",
    "    \\hat f(x) = b + \\sum_{i=1}^N w_i x_i + \\sum_{i \\lt j} w_{ij} x_i x_j,\n",
    "    \\quad x \\in \\{0, 1\\}^N\n",
    "\\end{aligned}\n",
    "$$"
   ]
  },
  {
   "cell_type": "markdown",
   "metadata": {},
   "source": [
    "このモデルは $x$ を $\\phi(x) = [1, x_1, \\dots, x_N, x_1 x_2, \\dots, x_{N-1} x_N]$ に写像した上で、線形回帰を行うことに相当する。"
   ]
  },
  {
   "cell_type": "markdown",
   "metadata": {},
   "source": [
    "$$\n",
    "    \\hat f(x) = \\phi(x)^\\top w\n",
    "    \\quad \\text{where} \\quad\n",
    "\\left\\{\\begin{aligned}\n",
    "    w &= \\begin{bmatrix} b \\\\ w_1 \\\\ \\vdots \\\\ w_N \\\\ w_{12} \\\\ \\vdots \\\\ w_{(N-1)N}\\end{bmatrix} \\in \\mathbb R^P, \\\\\n",
    "    P &= 1 + N + \\binom{N}{2}\n",
    "\\end{aligned}\\right.\n",
    "$$"
   ]
  },
  {
   "cell_type": "markdown",
   "metadata": {},
   "source": [
    "まず、$x \\in \\mathbb R^N, \\phi(x) \\in \\mathbb R^P$ として、$N$ と $P$ の相互変換を行う関数を定義する。"
   ]
  },
  {
   "cell_type": "code",
   "execution_count": 2,
   "metadata": {},
   "outputs": [],
   "source": [
    "def calc_P_from_N(N):\n",
    "    return 1 + N + N * (N - 1) // 2\n",
    "\n",
    "def calc_N_from_P(P):\n",
    "    N = int((np.sqrt(8 * P - 7) - 1) // 2)\n",
    "    return N"
   ]
  },
  {
   "cell_type": "code",
   "execution_count": 3,
   "metadata": {},
   "outputs": [],
   "source": [
    "# test\n",
    "\n",
    "N_list = np.arange(1, 100)\n",
    "for N in N_list:\n",
    "    P = calc_P_from_N(N)\n",
    "    N = calc_N_from_P(P)\n",
    "    assert N == N"
   ]
  },
  {
   "cell_type": "markdown",
   "metadata": {},
   "source": [
    "ところで、モデルが変数として $x \\in \\{0, 1\\}^N$ を取る2次の多項式であることから $x_i^2 = x_i$ が成り立つので、代理モデルは二次形式で書き表すこともできる。"
   ]
  },
  {
   "cell_type": "markdown",
   "metadata": {},
   "source": [
    "$$\n",
    "\\begin{aligned}\n",
    "    \\hat f(x) = x^\\top Q x + b\n",
    "\\end{aligned}\n",
    "$$"
   ]
  },
  {
   "cell_type": "markdown",
   "metadata": {},
   "source": [
    "この2次の項の行列 $Q$ と重みベクトル $w$ を相互変換する関数を定義しておく。ただし、変換時には、バイアス項 $b$ の情報が失われることに注意する。"
   ]
  },
  {
   "cell_type": "code",
   "execution_count": 4,
   "metadata": {},
   "outputs": [],
   "source": [
    "def calc_Q_from_w(w: np.ndarray):\n",
    "    P = w.shape[0]\n",
    "    N = calc_N_from_P(P)\n",
    "    Q = np.zeros((N, N), dtype=float)\n",
    "\n",
    "    Q[np.diag_indices(N)] = w[1 : 1+N]\n",
    "    Q[np.triu_indices(N, k=1)] = w[1+N : P]\n",
    "    return Q\n",
    "\n",
    "def calc_w_from_Q(Q: np.ndarray):\n",
    "    N = Q.shape[0]\n",
    "    P = calc_P_from_N(N)\n",
    "    w = np.zeros((P,), dtype=float)\n",
    "\n",
    "    w[1 : 1+N] = Q[np.diag_indices(N)]\n",
    "    w[1+N : P] = Q[np.triu_indices(N, k=1)]\n",
    "    return w\n",
    "\n",
    "def visualize_Q(Q: np.ndarray, cmap='bwr'):\n",
    "    cmap_range = np.abs(Q).max()\n",
    "    plt.imshow(Q, cmap=cmap, interpolation='nearest', vmin=-cmap_range, vmax=cmap_range)\n",
    "    plt.colorbar()\n",
    "    plt.show()"
   ]
  },
  {
   "cell_type": "code",
   "execution_count": 5,
   "metadata": {},
   "outputs": [],
   "source": [
    "# test\n",
    "\n",
    "N = 16\n",
    "P = calc_P_from_N(N)\n",
    "Q = np.random.rand(N, N)\n",
    "Q1 = np.triu(Q)\n",
    "w1 = calc_w_from_Q(Q1)\n",
    "Q2 = calc_Q_from_w(w1)\n",
    "\n",
    "assert np.isclose(Q1, Q2).all()"
   ]
  },
  {
   "cell_type": "code",
   "execution_count": 6,
   "metadata": {},
   "outputs": [
    {
     "data": {
      "image/png": "[encoded data removed]",
      "text/plain": [
       "<Figure size 640x480 with 2 Axes>"
      ]
     },
     "metadata": {},
     "output_type": "display_data"
    }
   ],
   "source": [
    "# test\n",
    "\n",
    "N = 16\n",
    "P = calc_P_from_N(N)\n",
    "w = np.random.randn(P)\n",
    "Q = calc_Q_from_w(w)\n",
    "\n",
    "visualize_Q(Q)"
   ]
  },
  {
   "cell_type": "markdown",
   "metadata": {},
   "source": [
    "以上を用いて、写像 $\\phi(x)$ を実装する。"
   ]
  },
  {
   "cell_type": "code",
   "execution_count": 7,
   "metadata": {},
   "outputs": [],
   "source": [
    "def calc_z_from_x(x: np.ndarray) -> np.ndarray:\n",
    "    N = x.shape[0]\n",
    "    P = calc_P_from_N(N)\n",
    "    z = np.zeros(P, dtype=float)\n",
    "\n",
    "    z[0 : 1]   = 1\n",
    "    z[1 : 1+N] = x\n",
    "\n",
    "    i, j       = np.triu_indices(N, k=1)\n",
    "    z[1+N : P] = x[i] * x[j]\n",
    "\n",
    "    return z"
   ]
  },
  {
   "cell_type": "markdown",
   "metadata": {},
   "source": [
    "代理モデルを実装する。学習器は適当に `posterior_sampler: (np.ndarray, np.ndarray) -> np.ndarray` とする。獲得関数はまだ実装しない。"
   ]
  },
  {
   "cell_type": "code",
   "execution_count": 8,
   "metadata": {},
   "outputs": [],
   "source": [
    "class SurrogateModel:\n",
    "    def __init__(self, num_features: int, posterior_sampler):\n",
    "        N = num_features\n",
    "        P = calc_P_from_N(N)\n",
    "\n",
    "        w = np.zeros(P, dtype=float)\n",
    "        self.params  = {'w': w}\n",
    "        self.posterior_sampler = posterior_sampler\n",
    "\n",
    "    def get_params(self):\n",
    "        return self.params\n",
    "\n",
    "    def predict(self, x: np.ndarray) -> float:\n",
    "        z = calc_z_from_x(x)\n",
    "        return z @ self.params['w']\n",
    "\n",
    "    def fit(self, x_data: np.ndarray, y_data: np.ndarray):\n",
    "        z_data = np.apply_along_axis(calc_z_from_x, 1, x_data)\n",
    "        w = self.posterior_sampler(self, z_data, y_data)\n",
    "\n",
    "        self.params['w'] = w"
   ]
  },
  {
   "cell_type": "markdown",
   "metadata": {},
   "source": [
    "仮にサンプラーとして最小二乗法を用いてみよう。"
   ]
  },
  {
   "cell_type": "code",
   "execution_count": 9,
   "metadata": {},
   "outputs": [
    {
     "data": {
      "image/png": "[encoded data removed]",
      "text/plain": [
       "<Figure size 640x480 with 2 Axes>"
      ]
     },
     "metadata": {},
     "output_type": "display_data"
    },
    {
     "name": "stdout",
     "output_type": "stream",
     "text": [
      "MSE: 0.0010899945846728153\n"
     ]
    }
   ],
   "source": [
    "# test\n",
    "\n",
    "sample_lstsq = lambda _, z, y: np.linalg.lstsq(z, y, rcond=None)[0]\n",
    "\n",
    "D = 256\n",
    "N = 16\n",
    "\n",
    "model = SurrogateModel(16, sample_lstsq)\n",
    "x_data = np.random.choice([0, 1], size=(D, N))\n",
    "Q_true = np.triu(np.random.normal(0, 1, size=(N, N)))\n",
    "y_data = np.einsum('di,ij,dj->d', x_data, Q_true, x_data) + np.random.normal(0, 0.1, size=D)\n",
    "\n",
    "model.fit(x_data, y_data)\n",
    "Q_pred = calc_Q_from_w(model.params['w'])\n",
    "\n",
    "visualize_Q(Q_true - Q_pred)\n",
    "\n",
    "mse = np.mean((Q_true - Q_pred) ** 2)\n",
    "print(f\"MSE: {mse}\")"
   ]
  },
  {
   "cell_type": "markdown",
   "metadata": {},
   "source": [
    "## 獲得関数"
   ]
  },
  {
   "cell_type": "markdown",
   "metadata": {},
   "source": [
    "獲得関数にはThompson抽出を用いる。これはパラメータの事後分布に従うサンプルを適用した代理モデルそのものを獲得関数として用いるものである。すなわち"
   ]
  },
  {
   "cell_type": "markdown",
   "metadata": {},
   "source": [
    "$$\n",
    "\\begin{aligned}\n",
    "    &&\n",
    "    \\alpha(x)\n",
    "    &= \\hat f(x; \\tilde w) = \\phi(x)^\\top \\tilde w \\\\\n",
    "    \\text{where} &&\n",
    "    \\tilde w &\\sim p(w | \\mathcal D)\n",
    "\\end{aligned}\n",
    "$$"
   ]
  },
  {
   "cell_type": "markdown",
   "metadata": {},
   "source": [
    "まず、事後分布からサンプルを抽出する部分 $w \\sim p(\\tilde w | \\mathcal D)$ を実装する。これには馬蹄事前分布を用いて得られるGibbsサンプラーを用いる。詳細は `SparseBLR.ipynb` に記載されている。実装上以下のように設定したことに注意いただきたい:\n",
    "\n",
    "1. Gibbsサンプリングにおけるパラメータ $w$ の初期値として直前のモデルのパラメータを使用する\n",
    "2. それ以外のハイパーパラメータ $\\sigma_n^2, \\lambda^2, \\tau^2, \\nu, \\xi$ は適当な値に初期化する\n",
    "\n",
    "ここでは、`BOCS/Horseshoe.jl` 内の実装をインポートして用いる。"
   ]
  },
  {
   "cell_type": "code",
   "execution_count": 10,
   "metadata": {},
   "outputs": [
    {
     "data": {
      "text/plain": [
       "<PyCall.jlwrap sample_horseshoe_posterior>"
      ]
     },
     "execution_count": 10,
     "metadata": {},
     "output_type": "execute_result"
    }
   ],
   "source": [
    "dir_bocs = dir_script / 'BOCS'\n",
    "Main.include(str(dir_bocs / 'horseshoe.jl'))"
   ]
  },
  {
   "cell_type": "code",
   "execution_count": 11,
   "metadata": {},
   "outputs": [],
   "source": [
    "class HorseshoeSampler:\n",
    "    def __init__(self, num_iter: int=50, show_progress: bool = False, use_julia: bool = True):\n",
    "        self.num_iter      = num_iter\n",
    "        self.show_progress = show_progress\n",
    "        self.use_julia     = use_julia\n",
    "\n",
    "    def __call__(self, x_data: np.ndarray, y_data: np.ndarray, model: SurrogateModel):\n",
    "        N_data, N_vars = x_data.shape\n",
    "        params = model.get_params()\n",
    "        w = params['w']\n",
    "\n",
    "        sigma2_n = 1.\n",
    "        lamb2    = np.ones(N_vars).astype(np.float64)\n",
    "        tau2     = 1.\n",
    "        nu       = np.ones(N_vars).astype(np.float64)\n",
    "        xi       = 1.\n",
    "\n",
    "        if self.use_julia:\n",
    "            return Main.sample_horseshoe_posterior(\n",
    "                x_data.astype(np.float64),\n",
    "                y_data.astype(np.float64),\n",
    "                w,\n",
    "                sigma2_n,\n",
    "                lamb2,\n",
    "                tau2,\n",
    "                nu,\n",
    "                xi,\n",
    "                self.num_iter,\n",
    "                self.show_progress,\n",
    "            )\n",
    "        else:\n",
    "            raise NotImplementedError"
   ]
  },
  {
   "cell_type": "markdown",
   "metadata": {},
   "source": [
    "獲得関数自体は代理モデルの `predict` そのものであるから、単なるエイリアスとして実装する。"
   ]
  },
  {
   "cell_type": "code",
   "execution_count": 12,
   "metadata": {},
   "outputs": [],
   "source": [
    "def remove_duplicates_and_average(x_data, y_data):\n",
    "    x_data = x_data.astype(float)\n",
    "    y_data = y_data.astype(float)\n",
    "\n",
    "    sorted_indices = np.lexsort(x_data.T)\n",
    "    x_data = x_data[sorted_indices]\n",
    "    y_data = y_data[sorted_indices]\n",
    "\n",
    "    _, unique_indices, counts = np.unique(x_data, axis=0, return_index=True, return_counts=True)\n",
    "    x_data = x_data[unique_indices]\n",
    "\n",
    "    # sort x_data again: unique_indices is not sorted\n",
    "    sorted_indices = np.lexsort(x_data.T)\n",
    "    x_data = x_data[sorted_indices]\n",
    "\n",
    "    remove_indices = []\n",
    "    for unique_index, count in zip(unique_indices, counts):\n",
    "        if count > 1:\n",
    "            y_data[unique_index] = np.mean(y_data[unique_index:unique_index+count])\n",
    "            remove_indices.extend(range(unique_index+1, unique_index+count))\n",
    "    y_data = np.delete(y_data, remove_indices)\n",
    "\n",
    "    return x_data, y_data\n",
    "\n",
    "class SurrogateModel:\n",
    "    def initialize_params(self, P):\n",
    "        w = np.zeros(P, dtype=float)\n",
    "        self.params  = {'w': w}\n",
    "\n",
    "    def __init__(self, num_features: int, posterior_sampler, preprocess: Optional[Callable] = remove_duplicates_and_average):\n",
    "        N = num_features\n",
    "        P = calc_P_from_N(N)\n",
    "\n",
    "        self.initialize_params(P)\n",
    "        self.posterior_sampler = posterior_sampler\n",
    "\n",
    "        self.preprocess = preprocess\n",
    "\n",
    "    def get_params(self):\n",
    "        return self.params\n",
    "\n",
    "    def predict(self, x: np.ndarray) -> float:\n",
    "        z = calc_z_from_x(x)\n",
    "        return z @ self.params['w']\n",
    "\n",
    "    def fit(self, x_data: np.ndarray, y_data: np.ndarray):\n",
    "        z_data = np.apply_along_axis(calc_z_from_x, 1, x_data)\n",
    "\n",
    "        if self.preprocess is not None:\n",
    "            z_data, y_data = self.preprocess(z_data, y_data)\n",
    "\n",
    "        w = self.posterior_sampler(z_data, y_data, self)\n",
    "\n",
    "        self.params['w'] = w\n",
    "\n",
    "    def acquisition_function(self, x_data: np.ndarray) -> float:\n",
    "        return self.predict(x_data)"
   ]
  },
  {
   "cell_type": "markdown",
   "metadata": {},
   "source": [
    "線形回帰モデルの事後サンプリングは `x_data` と `y_data` の両方が完全に一致する行が存在すると逆行列計算やCholesky分解が正常に実行されずバグる。それを回避するため、重複した `x_data` を削除し、対応する `y_data` を平均化する `remove_duplicates_and_average()` を追加した。"
   ]
  },
  {
   "cell_type": "markdown",
   "metadata": {},
   "source": [
    "獲得関数が実装できたので、あとはこれを最小化するためのソルバーを実装しよう。ここでは焼きなまし法 (SA) を用いる。"
   ]
  },
  {
   "cell_type": "code",
   "execution_count": 13,
   "metadata": {},
   "outputs": [],
   "source": [
    "def simulated_annealing_sampler(\n",
    "    state_init: np.ndarray,\n",
    "    energy_func: Callable,\n",
    "    beta_schedule: Callable,\n",
    "    proposer: Callable,\n",
    "    t_all: int,\n",
    "    show_progress: bool=False,\n",
    "    seed: Optional[int]=None\n",
    "):\n",
    "    rng = np.random.default_rng(seed)\n",
    "    state_current = state_init\n",
    "    energy_current = energy_func(state_current)\n",
    "\n",
    "    state_best  = state_current\n",
    "    energy_best = energy_current\n",
    "\n",
    "    iter_base = int(np.log10(t_all) + 1)\n",
    "\n",
    "    for t in range(t_all):\n",
    "        beta = beta_schedule(t, t_all)\n",
    "        state_new    = proposer(state_current)\n",
    "        energy_new   = energy_func(state_new)\n",
    "        delta_energy = energy_new - energy_current\n",
    "\n",
    "        if delta_energy < 0 or np.exp(-beta * delta_energy) > rng.uniform(0, 1):\n",
    "            state_current  = state_new\n",
    "            energy_current = energy_new\n",
    "\n",
    "            if energy_current < energy_best:\n",
    "                state_best  = state_current\n",
    "                energy_best = energy_current\n",
    "\n",
    "        if show_progress and (t % 100) == 0:\n",
    "            print(f'iter {t:{iter_base}d}: {energy_best}')\n",
    "\n",
    "    return state_best\n",
    "\n",
    "class SimulatedAnnealingSampler:\n",
    "    def __init__(self, proposer, beta_schedule, t_all, show_progress=False, seed=None):\n",
    "        self.proposer      = proposer\n",
    "        self.beta_schedule = beta_schedule\n",
    "        self.t_all         = t_all\n",
    "\n",
    "        self.show_progress = show_progress\n",
    "        self.rng           = np.random.default_rng(seed)\n",
    "\n",
    "        self.state = None\n",
    "\n",
    "    def sample(self, state_init, energy_func):\n",
    "        self.state = simulated_annealing_sampler(\n",
    "            state_init,\n",
    "            energy_func,\n",
    "            self.beta_schedule,\n",
    "            self.proposer,\n",
    "            self.t_all,\n",
    "            self.show_progress\n",
    "        )\n",
    "\n",
    "class ExponentialCooling:\n",
    "    def __init__(self, beta_init=1e-3, beta_final=1e3):\n",
    "        self.beta_init  = beta_init\n",
    "        self.beta_final = beta_final\n",
    "\n",
    "    def __call__(self, t: int, t_all: int) -> float:\n",
    "        beta = self.beta_init * (self.beta_final / self.beta_init) ** (t / (t_all - 1))\n",
    "        return beta\n",
    "\n",
    "def propose_binary(state_current, seed=None):\n",
    "    rng = np.random.default_rng(seed)\n",
    "    N = len(state_current)\n",
    "    idx = rng.integers(low=0, high=N)\n",
    "    state_new = state_current.copy()\n",
    "    state_new[idx] = 1 - state_new[idx]\n",
    "    return state_new\n",
    "\n",
    "class AcquisitionFunctionOptimizer:\n",
    "    def __init__(self, sampler, initializer):\n",
    "        self.sampler     = sampler\n",
    "        self.initializer = initializer\n",
    "        self.state       = None\n",
    "\n",
    "    def optimize(self, acquisition_function, x_data, y_data):\n",
    "        state_init = self.initializer()\n",
    "        self.sampler.sample(state_init, acquisition_function)\n",
    "        self.state = self.sampler.state"
   ]
  },
  {
   "cell_type": "code",
   "execution_count": 14,
   "metadata": {},
   "outputs": [
    {
     "name": "stdout",
     "output_type": "stream",
     "text": [
      "--------------------\n",
      "training the surrogate model\n",
      "--------------------\n",
      "--------------------\n",
      "sampling from the acquisition function\n",
      "--------------------\n",
      "Iteration 1: 0.8191091058412472\n",
      "Iteration 2: 0.7458216124672272\n",
      "Iteration 3: 0.7684554988781072\n",
      "Iteration 4: 1.0044917704183352\n",
      "Iteration 5: 0.5040459849074315\n",
      "iter    0: -7.935909819097686\n",
      "iter  100: -14.6666350909627\n",
      "iter  200: -14.876649095937095\n",
      "iter  300: -14.876649095937095\n",
      "iter  400: -14.876649095937095\n",
      "iter  500: -14.876649095937095\n",
      "iter  600: -14.876649095937095\n",
      "iter  700: -14.921389509465719\n",
      "iter  800: -14.921389509465719\n",
      "iter  900: -17.448673175079648\n",
      "iter 1000: -17.448673175079648\n",
      "iter 1100: -18.60347377468956\n",
      "iter 1200: -18.60347377468956\n",
      "iter 1300: -18.60347377468956\n",
      "iter 1400: -18.60347377468956\n",
      "iter 1500: -18.60347377468956\n",
      "iter 1600: -18.60347377468956\n",
      "iter 1700: -18.60347377468956\n",
      "iter 1800: -18.60347377468956\n",
      "iter 1900: -18.60347377468956\n",
      "x_next: [1 0 1 1 0 1 1 1 0 1 0 0 0 0 1 1]\n",
      "y_next: -16.79127348880696\n"
     ]
    }
   ],
   "source": [
    "# test\n",
    "\n",
    "N = 16\n",
    "D = 32\n",
    "\n",
    "surrogate_model = SurrogateModel(\n",
    "    num_features=N,\n",
    "    posterior_sampler=HorseshoeSampler(\n",
    "        num_iter     =5,\n",
    "        show_progress=True,\n",
    "        use_julia    =True\n",
    "    )\n",
    ")\n",
    "\n",
    "acquis_optimizer = AcquisitionFunctionOptimizer(\n",
    "    sampler = SimulatedAnnealingSampler(\n",
    "        proposer     =propose_binary,\n",
    "        beta_schedule=ExponentialCooling(1e-3, 1e3),\n",
    "        t_all        =2000,\n",
    "        show_progress=True\n",
    "    ),\n",
    "    initializer = lambda: np.random.choice([0, 1], size=N)\n",
    ")\n",
    "\n",
    "x_data = np.random.choice([0, 1], size=(D, N))\n",
    "Q_true = np.triu(np.random.normal(0, 1, size=(N, N)))\n",
    "y_data = np.einsum('di,ij,dj->d', x_data, Q_true, x_data) + np.random.normal(0, 0.1, size=D)\n",
    "\n",
    "print(\"-\"*20)\n",
    "print(\"training the surrogate model\")\n",
    "print(\"-\"*20)\n",
    "surrogate_model.fit(x_data, y_data)\n",
    "\n",
    "print(\"-\"*20)\n",
    "print(\"sampling from the acquisition function\")\n",
    "print(\"-\"*20)\n",
    "acquis_optimizer.optimize(surrogate_model.acquisition_function, x_data, y_data)\n",
    "\n",
    "x_next = acquis_optimizer.state\n",
    "y_next = np.einsum('i,ij,j->', x_next, Q_true, x_next) + np.random.normal(0, 0.1)\n",
    "\n",
    "print(f\"x_next: {x_next}\")\n",
    "print(f\"y_next: {y_next}\")"
   ]
  },
  {
   "cell_type": "markdown",
   "metadata": {},
   "source": [
    "## 反復を回す"
   ]
  },
  {
   "cell_type": "markdown",
   "metadata": {},
   "source": [
    "以上実装された各要素を用いてベイズ最適化を実現する。まずはベイズ最適化全体を実装しよう。"
   ]
  },
  {
   "cell_type": "code",
   "execution_count": 15,
   "metadata": {},
   "outputs": [],
   "source": [
    "def make_monotonically_decreasing(series):\n",
    "    series_decreasing = series.copy()\n",
    "    for i in range(1, len(series_decreasing)):\n",
    "        series_decreasing[i] = min(series_decreasing[i], series_decreasing[i-1])\n",
    "    return series_decreasing\n",
    "\n",
    "def show_current_progress(fig, y_best_list, y_data, y_stop_criterion, N):\n",
    "    clear_output(wait = True)\n",
    "    if y_stop_criterion > -np.inf:\n",
    "        y_best_list = np.array(y_best_list - y_stop_criterion) / N\n",
    "        y_data = np.array(y_data - y_stop_criterion) / N\n",
    "    plt.cla()\n",
    "    plt.plot(range(len(y_best_list)), y_best_list, color='b')\n",
    "    plt.scatter(range(len(y_data)), y_data, c='r', marker='x')\n",
    "    plt.grid()\n",
    "    display(fig)\n",
    "\n",
    "class BayesianOptimizer:\n",
    "    def __init__(self, objective_function, surrogate_model, acquis_optimizer):\n",
    "        self.objective_function = objective_function\n",
    "        self.surrogate_model    = surrogate_model\n",
    "        self.acquis_optimizer   = acquis_optimizer\n",
    "\n",
    "    def sample(self, x_data_init: list[np.ndarray], y_data_init: list[float], num_iter: int, y_stop_criterion: float = -np.inf):\n",
    "        x_data = x_data_init\n",
    "        y_data = y_data_init\n",
    "        y_best_list = make_monotonically_decreasing(y_data)\n",
    "\n",
    "        fig = plt.figure()\n",
    "        iter_base = int(np.log10(num_iter) + 1)\n",
    "\n",
    "        while len(y_data) < num_iter:\n",
    "            self.surrogate_model.fit(np.array(x_data), np.array(y_data))\n",
    "\n",
    "            self.acquis_optimizer.optimize(\n",
    "                self.surrogate_model.acquisition_function, x_data, y_data\n",
    "            )\n",
    "\n",
    "            x_next = self.acquis_optimizer.state\n",
    "            y_next = self.objective_function(x_next)\n",
    "\n",
    "            x_data.append(x_next)\n",
    "            y_data.append(y_next)\n",
    "\n",
    "            if y_next < y_best_list[-1]:\n",
    "                y_best_list.append(y_next)\n",
    "            else:\n",
    "                y_best_list.append(y_best_list[-1])\n",
    "\n",
    "            show_current_progress(fig, y_best_list, y_data, y_stop_criterion, N)\n",
    "\n",
    "            # i = len(y_data)\n",
    "            # print(f\"iter {i+1:{iter_base}d} | {num_iter:{iter_base}d} | y_best: {y_best_list[-1]:.6f} | y_stop: {y_stop_criterion}\")\n",
    "\n",
    "            if np.isclose(y_best_list[-1], y_stop_criterion):\n",
    "                break\n",
    "            if (y_best_list[-1] - y_stop_criterion) / N <= 1e-3:\n",
    "                break\n",
    "\n",
    "        return x_data, y_data, self.surrogate_model.params"
   ]
  },
  {
   "cell_type": "code",
   "execution_count": 16,
   "metadata": {},
   "outputs": [],
   "source": [
    "D_init = 16\n",
    "N = 16\n",
    "\n",
    "def objective_function(x: np.ndarray) -> float:\n",
    "    return np.einsum('i,ij,j->', x, Q_true, x)\n",
    "\n",
    "surrogate_model = SurrogateModel(\n",
    "    num_features=N,\n",
    "    posterior_sampler=HorseshoeSampler(\n",
    "        num_iter     =100,\n",
    "        show_progress=False\n",
    "    )\n",
    ")\n",
    "\n",
    "acquis_optimizer = AcquisitionFunctionOptimizer(\n",
    "    sampler=SimulatedAnnealingSampler(\n",
    "        proposer     =propose_binary,\n",
    "        beta_schedule=ExponentialCooling(1e-3, 1e3),\n",
    "        t_all        =2500,\n",
    "        show_progress=False\n",
    "    ),\n",
    "    initializer=lambda: np.random.choice([0, 1], size=N)\n",
    ")\n",
    "\n",
    "bayesian_optimizer = BayesianOptimizer(\n",
    "    objective_function=objective_function,\n",
    "    surrogate_model   =surrogate_model,\n",
    "    acquis_optimizer  =acquis_optimizer\n",
    ")\n",
    "\n",
    "x_data = [np.random.choice([0, 1], size=(N)) for _ in range(D_init)]\n",
    "y_data = [objective_function(x) for x in x_data]"
   ]
  },
  {
   "cell_type": "markdown",
   "metadata": {},
   "source": [
    "実行前に、SAを用いて端的に近似解を求めておく。"
   ]
  },
  {
   "cell_type": "code",
   "execution_count": 17,
   "metadata": {},
   "outputs": [
    {
     "name": "stdout",
     "output_type": "stream",
     "text": [
      "x_sa: [1 0 1 1 1 1 1 0 1 1 0 0 0 1 1 1]\n",
      "y_sa: -22.182391303153594\n"
     ]
    }
   ],
   "source": [
    "sa_sampler = SimulatedAnnealingSampler(\n",
    "    proposer     =propose_binary,\n",
    "    beta_schedule=ExponentialCooling(1e-3, 1e3),\n",
    "    t_all        =12000,\n",
    "    show_progress=False\n",
    ")\n",
    "\n",
    "x_init = np.random.choice([0, 1], size=N)\n",
    "sa_sampler.sample(x_init, objective_function)\n",
    "\n",
    "x_sa = sa_sampler.state\n",
    "y_sa = objective_function(x_sa)\n",
    "\n",
    "print(f\"x_sa: {x_sa}\")\n",
    "print(f\"y_sa: {y_sa}\")"
   ]
  },
  {
   "cell_type": "markdown",
   "metadata": {},
   "source": [
    "ここでは、とりあえずこの解をベイズ最適化の停止基準としておく。ただしこれができるのは、今回はたまたま目的関数 $f(x) = x^\\top Q x$ がSAによるサンプリングが容易な問題であるからだということに注意が必要。通常、ベイズ最適化で扱う問題はSAで解くのは難しいからこそ、わざわざ代理モデルで近似してからSAを実行するのである。ここんとこ勘違いしないように。"
   ]
  },
  {
   "cell_type": "code",
   "execution_count": 18,
   "metadata": {},
   "outputs": [
    {
     "data": {
      "image/png": "[encoded data removed]",
      "text/plain": [
       "<Figure size 640x480 with 1 Axes>"
      ]
     },
     "metadata": {},
     "output_type": "display_data"
    },
    {
     "name": "stdout",
     "output_type": "stream",
     "text": [
      "CPU times: user 3.11 s, sys: 92.2 ms, total: 3.2 s\n",
      "Wall time: 2.65 s\n"
     ]
    },
    {
     "data": {
      "image/png": "[encoded data removed]",
      "text/plain": [
       "<Figure size 640x480 with 1 Axes>"
      ]
     },
     "metadata": {},
     "output_type": "display_data"
    }
   ],
   "source": [
    "%%time\n",
    "\n",
    "x_data_end, y_data_end, params_end = bayesian_optimizer.sample(x_data, y_data, num_iter=256, y_stop_criterion=y_sa)"
   ]
  },
  {
   "cell_type": "markdown",
   "metadata": {},
   "source": [
    "最終的なパラメータは `params_end' に格納した。この中身を図示してみよう。"
   ]
  },
  {
   "cell_type": "code",
   "execution_count": 19,
   "metadata": {},
   "outputs": [
    {
     "data": {
      "image/png": "[encoded data removed]",
      "text/plain": [
       "<Figure size 640x480 with 2 Axes>"
      ]
     },
     "metadata": {},
     "output_type": "display_data"
    },
    {
     "data": {
      "image/png": "[encoded data removed]",
      "text/plain": [
       "<Figure size 640x480 with 2 Axes>"
      ]
     },
     "metadata": {},
     "output_type": "display_data"
    }
   ],
   "source": [
    "Q_end = calc_Q_from_w(params_end['w'])\n",
    "\n",
    "plt.title(r'Q_{\\rm end}')\n",
    "visualize_Q(Q_end)\n",
    "\n",
    "plt.title(r'Q_{\\rm true} - Q_{\\rm end}')\n",
    "visualize_Q(Q_true - Q_end)"
   ]
  },
  {
   "cell_type": "markdown",
   "metadata": {},
   "source": [
    "## おまけ"
   ]
  },
  {
   "cell_type": "markdown",
   "metadata": {},
   "source": [
    "ここからはオマケ。今回の場合目的関数にノイズが付加されない想定なので、全く同一の点の複数サンプルは全く意味がない。そこで完全に一致する解が出てきたらランダムにぶっ飛ばしてしまう後処理 [Morita+ 2023] を追加する。"
   ]
  },
  {
   "cell_type": "code",
   "execution_count": 20,
   "metadata": {},
   "outputs": [],
   "source": [
    "POSTPROCESS_MAX_TRIAL = 100\n",
    "\n",
    "def is_known(x, x_data):\n",
    "    return np.any(np.all(x_data == x, axis=1))\n",
    "\n",
    "def random_postprocess(x, x_data, max_trial=POSTPROCESS_MAX_TRIAL):\n",
    "    x_current = x.copy()\n",
    "    for trial in range(max_trial):\n",
    "        if is_known(x, x_data):\n",
    "            x_current = np.random.choice([0, 1], size=x_current.shape)\n",
    "    return x_current\n",
    "\n",
    "class AcquisitionFunctionOptimizerWithPostprocess(AcquisitionFunctionOptimizer):\n",
    "    def optimize(self, acquisition_function, x_data, y_data):\n",
    "        state_init = self.initializer()\n",
    "        self.sampler.sample(state_init, acquisition_function)\n",
    "        self.state = self.sampler.state\n",
    "        self.state = random_postprocess(self.state, x_data)"
   ]
  },
  {
   "cell_type": "code",
   "execution_count": 21,
   "metadata": {},
   "outputs": [],
   "source": [
    "acquis_optimizer_with_postprocess = AcquisitionFunctionOptimizerWithPostprocess(\n",
    "    sampler=SimulatedAnnealingSampler(\n",
    "        proposer     =propose_binary,\n",
    "        beta_schedule=ExponentialCooling(1e-3, 1e3),\n",
    "        t_all        =2500,\n",
    "        show_progress=False\n",
    "    ),\n",
    "    initializer=lambda: np.random.choice([0, 1], size=N)\n",
    ")\n",
    "\n",
    "bayesian_optimizer = BayesianOptimizer(\n",
    "    objective_function=objective_function,\n",
    "    surrogate_model   =surrogate_model,\n",
    "    acquis_optimizer  =acquis_optimizer_with_postprocess\n",
    ")\n",
    "\n",
    "x_data = [np.random.choice([0, 1], size=(N)) for _ in range(D_init)]\n",
    "y_data = [objective_function(x) for x in x_data]"
   ]
  },
  {
   "cell_type": "code",
   "execution_count": 22,
   "metadata": {},
   "outputs": [
    {
     "name": "stdout",
     "output_type": "stream",
     "text": [
      "x_sa: [1 0 1 1 1 1 1 0 1 1 0 0 0 1 1 1]\n",
      "y_sa: -22.182391303153594\n"
     ]
    }
   ],
   "source": [
    "sa_sampler = SimulatedAnnealingSampler(\n",
    "    proposer     =propose_binary,\n",
    "    beta_schedule=ExponentialCooling(1e-3, 1e3),\n",
    "    t_all        =12000,\n",
    "    show_progress=False\n",
    ")\n",
    "\n",
    "x_init = np.random.choice([0, 1], size=N)\n",
    "sa_sampler.sample(x_init, objective_function)\n",
    "\n",
    "x_sa = sa_sampler.state\n",
    "y_sa = objective_function(x_sa)\n",
    "\n",
    "print(f\"x_sa: {x_sa}\")\n",
    "print(f\"y_sa: {y_sa}\")"
   ]
  },
  {
   "cell_type": "code",
   "execution_count": 23,
   "metadata": {},
   "outputs": [
    {
     "data": {
      "image/png": "[encoded data removed]",
      "text/plain": [
       "<Figure size 640x480 with 1 Axes>"
      ]
     },
     "metadata": {},
     "output_type": "display_data"
    },
    {
     "name": "stdout",
     "output_type": "stream",
     "text": [
      "CPU times: user 2.5 s, sys: 67.2 ms, total: 2.57 s\n",
      "Wall time: 2.03 s\n"
     ]
    },
    {
     "data": {
      "image/png": "[encoded data removed]",
      "text/plain": [
       "<Figure size 640x480 with 1 Axes>"
      ]
     },
     "metadata": {},
     "output_type": "display_data"
    }
   ],
   "source": [
    "%%time\n",
    "\n",
    "x_data_end, y_data_end, params_end = bayesian_optimizer.sample(x_data, y_data, num_iter=256, y_stop_criterion=y_sa)"
   ]
  }
 ],
 "metadata": {
  "kernelspec": {
   "display_name": "Python 3 (ipykernel)",
   "language": "python",
   "name": "python3"
  },
  "language_info": {
   "codemirror_mode": {
    "name": "ipython",
    "version": 3
   },
   "file_extension": ".py",
   "mimetype": "text/x-python",
   "name": "python",
   "nbconvert_exporter": "python",
   "pygments_lexer": "ipython3",
   "version": "3.11.6"
  }
 },
 "nbformat": 4,
 "nbformat_minor": 4
}
