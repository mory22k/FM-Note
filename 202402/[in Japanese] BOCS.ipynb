{
 "cells": [
  {
   "cell_type": "markdown",
   "metadata": {},
   "source": [
    "$\\DeclareMathOperator*{\\argmin}{arg~min}$\n",
    "$\\def\\R{\\mathbb{R}}$"
   ]
  },
  {
   "cell_type": "markdown",
   "metadata": {},
   "source": [
    "# Bayesian Optimization of Combinatorial Structures (simplified ver.)"
   ]
  },
  {
   "cell_type": "markdown",
   "metadata": {},
   "source": [
    "本ノートブックではアニーリング法を用いた Bayesian Optimization of Combinatorial Structures (`BOCS-SA`) [Baptista + Poloczek] の簡略版を実装する。"
   ]
  },
  {
   "cell_type": "markdown",
   "metadata": {},
   "source": [
    "ベイズ最適化は、高コストかつ内部構造が不明な目的関数の最適化のための手法である。各ステップで目的関数の評価を通じて、目的関数の内部構造を推定し、その推定結果を用いて次の探索点のサンプリングを実施する。得られた探索点の評価結果を用いて、目的関数の内部構造の推定を更新する。具体的には以下のステップに従う。\n",
    "\n",
    "1. 終了条件に達するまで繰り返す:\n",
    "   1. 代理モデル $\\hat f$ をデータセット $\\mathcal{D}$ を用いて学習する\n",
    "   2. 獲得関数 $\\alpha$ を作成する\n",
    "   3. 次の探索点をサンプルする: $x_{\\text{next}} = \\argmin_x \\alpha(x)$\n",
    "   4. 目的関数を評価する: $y \\gets f(x)$\n",
    "   5. データセットに情報を追加する: $\\mathcal{D} \\gets \\mathcal{D} \\cup \\{(x, y)\\}$"
   ]
  },
  {
   "cell_type": "code",
   "execution_count": 3,
   "metadata": {},
   "outputs": [],
   "source": [
    "import numpy as np\n",
    "import matplotlib.pyplot as plt\n",
    "from pathlib import Path\n",
    "import os\n",
    "from julia import Main\n",
    "from typing import Callable, Optional\n",
    "from IPython.display import display, clear_output\n",
    "\n",
    "dir_script = Path(os.getcwd())"
   ]
  },
  {
   "cell_type": "markdown",
   "metadata": {},
   "source": [
    "## 参考文献"
   ]
  },
  {
   "cell_type": "markdown",
   "metadata": {},
   "source": [
    "- [Baptista + Poloczek (2018)] R. Baptista and M. Poloczek, Bayesian Optimization of Combinatorial Structures, in Proceedings of the 35th International Conference on Machine Learning, edited by J. Dy and A. Krause, Vol. 80 (PMLR, 2018), pp. 462–471."
   ]
  },
  {
   "cell_type": "markdown",
   "metadata": {},
   "source": [
    "## 代理モデル"
   ]
  },
  {
   "cell_type": "markdown",
   "metadata": {},
   "source": [
    "代理モデルとして2次の多項式を用いる。"
   ]
  },
  {
   "cell_type": "markdown",
   "metadata": {},
   "source": [
    "$$\n",
    "\\begin{aligned}\n",
    "    \\hat f(x) = b + \\sum_{i=1}^N w_i x_i + \\sum_{i \\lt j} w_{ij} x_i x_j,\n",
    "    \\quad x \\in \\{0, 1\\}^N\n",
    "\\end{aligned}\n",
    "$$"
   ]
  },
  {
   "cell_type": "markdown",
   "metadata": {},
   "source": [
    "このモデルは $x$ を $\\phi(x) = [1, x_1, \\dots, x_N, x_1 x_2, \\dots, x_{N-1} x_N]$ に写像した上で、線形回帰を行うことに相当する。"
   ]
  },
  {
   "cell_type": "markdown",
   "metadata": {},
   "source": [
    "$$\n",
    "\\begin{aligned}\n",
    "    \\hat f(x) = \\phi(x)^\\top w\n",
    "\\end{aligned}\n",
    "$$"
   ]
  },
  {
   "cell_type": "markdown",
   "metadata": {},
   "source": [
    "まず、$x \\in \\R^N, \\phi(x) \\in \\R^P$ として、$N$ と $P$ の相互変換を行う関数を定義する。"
   ]
  },
  {
   "cell_type": "code",
   "execution_count": 4,
   "metadata": {},
   "outputs": [],
   "source": [
    "def calc_P_from_N(N):\n",
    "    return 1 + N + N * (N - 1) // 2\n",
    "\n",
    "def calc_N_from_P(P):\n",
    "    N = int((np.sqrt(8 * P - 7) - 1) // 2)\n",
    "    return N"
   ]
  },
  {
   "cell_type": "code",
   "execution_count": 5,
   "metadata": {},
   "outputs": [],
   "source": [
    "# test\n",
    "\n",
    "N_list = np.arange(1, 100)\n",
    "for N in N_list:\n",
    "    P = calc_P_from_N(N)\n",
    "    N = calc_N_from_P(P)\n",
    "    assert N == N"
   ]
  },
  {
   "cell_type": "markdown",
   "metadata": {},
   "source": [
    "ところで、モデルが変数として $x \\in \\{0, 1\\}^N$ を取る2次の多項式であることから、二次形式で書き表すこともできる。"
   ]
  },
  {
   "cell_type": "markdown",
   "metadata": {},
   "source": [
    "$$\n",
    "\\begin{aligned}\n",
    "    \\hat f(x) = x^\\top Q x + b\n",
    "\\end{aligned}\n",
    "$$"
   ]
  },
  {
   "cell_type": "markdown",
   "metadata": {},
   "source": [
    "このQUBO行列 $Q$ と重みベクトル $w$ を相互変換する関数を定義しておく。ただし、変換時には、バイアス項 $b$ の情報が失われることに注意する。"
   ]
  },
  {
   "cell_type": "code",
   "execution_count": 6,
   "metadata": {},
   "outputs": [],
   "source": [
    "def calc_Q_from_w(w: np.ndarray):\n",
    "    P = w.shape[0]\n",
    "    N = calc_N_from_P(P)\n",
    "    Q = np.zeros((N, N), dtype=float)\n",
    "\n",
    "    Q[np.diag_indices(N)] = w[1 : 1+N]\n",
    "    Q[np.triu_indices(N, k=1)] = w[1+N : P]\n",
    "    return Q\n",
    "\n",
    "def calc_w_from_Q(Q: np.ndarray):\n",
    "    N = Q.shape[0]\n",
    "    P = calc_P_from_N(N)\n",
    "    w = np.zeros((P,), dtype=float)\n",
    "\n",
    "    w[1 : 1+N] = Q[np.diag_indices(N)]\n",
    "    w[1+N : P] = Q[np.triu_indices(N, k=1)]\n",
    "    return w\n",
    "\n",
    "def visualize_Q(Q: np.ndarray, cmap='bwr'):\n",
    "    cmap_range = np.abs(Q).max()\n",
    "    plt.imshow(Q, cmap=cmap, interpolation='nearest', vmin=-cmap_range, vmax=cmap_range)\n",
    "    plt.colorbar()\n",
    "    plt.show()"
   ]
  },
  {
   "cell_type": "code",
   "execution_count": 7,
   "metadata": {},
   "outputs": [],
   "source": [
    "# test\n",
    "\n",
    "N = 16\n",
    "P = calc_P_from_N(N)\n",
    "Q = np.random.rand(N, N)\n",
    "Q1 = np.triu(Q)\n",
    "w1 = calc_w_from_Q(Q1)\n",
    "Q2 = calc_Q_from_w(w1)\n",
    "\n",
    "assert np.isclose(Q1, Q2).all()"
   ]
  },
  {
   "cell_type": "code",
   "execution_count": 8,
   "metadata": {},
   "outputs": [
    {
     "data": {
      "image/png": "[encoded data removed]",
      "text/plain": [
       "<Figure size 640x480 with 2 Axes>"
      ]
     },
     "metadata": {},
     "output_type": "display_data"
    }
   ],
   "source": [
    "# test\n",
    "\n",
    "N = 16\n",
    "P = calc_P_from_N(N)\n",
    "w = np.random.randn(P)\n",
    "Q = calc_Q_from_w(w)\n",
    "\n",
    "visualize_Q(Q)"
   ]
  },
  {
   "cell_type": "markdown",
   "metadata": {},
   "source": [
    "以上を用いて、写像 $\\phi(x)$ を実装する。"
   ]
  },
  {
   "cell_type": "code",
   "execution_count": 9,
   "metadata": {},
   "outputs": [],
   "source": [
    "def calc_z_from_x(x: np.ndarray) -> np.ndarray:\n",
    "    N = x.shape[0]\n",
    "    P = calc_P_from_N(N)\n",
    "    z = np.zeros(P, dtype=float)\n",
    "\n",
    "    z[0 : 1]   = 1\n",
    "    z[1 : 1+N] = x\n",
    "\n",
    "    i, j       = np.triu_indices(N, k=1)\n",
    "    z[1+N : P] = x[i] * x[j]\n",
    "\n",
    "    return z"
   ]
  },
  {
   "cell_type": "markdown",
   "metadata": {},
   "source": [
    "代理モデルを実装する。学習器は適当に `posterior_sampler: np.ndarray -> np.ndarray` とする。獲得関数はまだ実装しない。"
   ]
  },
  {
   "cell_type": "code",
   "execution_count": 10,
   "metadata": {},
   "outputs": [],
   "source": [
    "class SurrogateModel:\n",
    "    def __init__(self, num_features: int, posterior_sampler):\n",
    "        N = num_features\n",
    "        P = calc_P_from_N(N)\n",
    "\n",
    "        w = np.zeros(P, dtype=float)\n",
    "        self.params  = {'w': w}\n",
    "        self.posterior_sampler = posterior_sampler\n",
    "\n",
    "    def predict(self, x: np.ndarray) -> float:\n",
    "        z = calc_z_from_x(x)\n",
    "        return z @ self.params['w']\n",
    "\n",
    "    def fit(self, x_data: np.ndarray, y_data: np.ndarray):\n",
    "        z_data = np.apply_along_axis(calc_z_from_x, 1, x_data)\n",
    "        w = self.posterior_sampler(z_data, y_data)\n",
    "\n",
    "        self.params['w'] = w"
   ]
  },
  {
   "cell_type": "code",
   "execution_count": 11,
   "metadata": {},
   "outputs": [
    {
     "data": {
      "image/png": "[encoded data removed]",
      "text/plain": [
       "<Figure size 640x480 with 2 Axes>"
      ]
     },
     "metadata": {},
     "output_type": "display_data"
    },
    {
     "name": "stdout",
     "output_type": "stream",
     "text": [
      "MSE: 0.001179431497388651\n"
     ]
    }
   ],
   "source": [
    "# test\n",
    "\n",
    "sample_lstsq = lambda z, y: np.linalg.lstsq(z, y, rcond=None)[0]\n",
    "\n",
    "D = 256\n",
    "N = 16\n",
    "\n",
    "model = SurrogateModel(16, sample_lstsq)\n",
    "x_data = np.random.choice([0, 1], size=(D, N))\n",
    "Q_true = np.triu(np.random.normal(0, 1, size=(N, N)))\n",
    "y_data = np.einsum('di,ij,dj->d', x_data, Q_true, x_data) + np.random.normal(0, 0.1, size=D)\n",
    "\n",
    "model.fit(x_data, y_data)\n",
    "Q_pred = calc_Q_from_w(model.params['w'])\n",
    "\n",
    "visualize_Q(Q_true - Q_pred)\n",
    "\n",
    "mse = np.mean((Q_true - Q_pred) ** 2)\n",
    "print(f\"MSE: {mse}\")"
   ]
  },
  {
   "cell_type": "markdown",
   "metadata": {},
   "source": [
    "## 獲得関数"
   ]
  },
  {
   "cell_type": "markdown",
   "metadata": {},
   "source": [
    "獲得関数にはThompson抽出を用いる。これはパラメータの事後分布に従うサンプルを適用した代理モデルの予測器を獲得関数として用いるものである。すなわち"
   ]
  },
  {
   "cell_type": "markdown",
   "metadata": {},
   "source": [
    "$$\n",
    "\\begin{aligned}\n",
    "    &&\n",
    "    \\alpha(x)\n",
    "    &= \\hat f(x; \\theta) = \\phi(x)^\\top \\tilde w \\\\\n",
    "    \\text{where} &&\n",
    "    \\tilde w &\\sim p(w | \\mathcal D)\n",
    "\\end{aligned}\n",
    "$$"
   ]
  },
  {
   "cell_type": "markdown",
   "metadata": {},
   "source": [
    "まず、事後分布からサンプルを抽出する部分 $w \\sim p(\\tilde w | \\mathcal D)$ を実装する。これには馬蹄事前分布を用いて得られる Gibbs サンプラーを用いる。詳細は `SparseBLR.ipynb` に記載されている。ここでは、`BOCS/Horseshoe.jl` 内の実装をインポートして用いる。"
   ]
  },
  {
   "cell_type": "code",
   "execution_count": 12,
   "metadata": {},
   "outputs": [
    {
     "data": {
      "text/plain": [
       "<PyCall.jlwrap sample_horseshoe_posterior_old>"
      ]
     },
     "execution_count": 12,
     "metadata": {},
     "output_type": "execute_result"
    }
   ],
   "source": [
    "dir_bocs = dir_script / 'BOCS'\n",
    "Main.include(str(dir_bocs / 'horseshoe.jl'))"
   ]
  },
  {
   "cell_type": "code",
   "execution_count": 13,
   "metadata": {},
   "outputs": [],
   "source": [
    "class HorseshoeSampler:\n",
    "    def __init__(self, num_iter: int, show_progress: bool = False, use_julia: bool = True, old: bool = False):\n",
    "        self.num_iter      = num_iter\n",
    "        self.show_progress = show_progress\n",
    "        self.use_julia     = use_julia\n",
    "        self.old           = old\n",
    "\n",
    "    def __call__(self, x_data: np.ndarray, y_data: np.ndarray):\n",
    "        if self.use_julia:\n",
    "            if self.old:\n",
    "                return Main.sample_horseshoe_posterior_old(\n",
    "                    x_data.astype(np.float64),\n",
    "                    y_data.astype(np.float64),\n",
    "                    self.num_iter,\n",
    "                    self.show_progress\n",
    "                )\n",
    "            return Main.sample_horseshoe_posterior(\n",
    "                x_data.astype(np.float64),\n",
    "                y_data.astype(np.float64),\n",
    "                self.num_iter,\n",
    "                self.show_progress\n",
    "            )\n",
    "        else:\n",
    "            raise NotImplementedError"
   ]
  },
  {
   "cell_type": "markdown",
   "metadata": {},
   "source": [
    "獲得関数自体は代理モデルの `predict` そのものであるから、単なるエイリアスとして実装する。"
   ]
  },
  {
   "cell_type": "code",
   "execution_count": 14,
   "metadata": {},
   "outputs": [],
   "source": [
    "class SurrogateModel:\n",
    "    def initialize_params(self, P):\n",
    "        w = np.zeros(P, dtype=float)\n",
    "        self.params  = {'w': w}\n",
    "\n",
    "    def __init__(self, num_features: int, posterior_sampler):\n",
    "        N = num_features\n",
    "        P = calc_P_from_N(N)\n",
    "\n",
    "        self.initialize_params(P)\n",
    "        self.posterior_sampler = posterior_sampler\n",
    "\n",
    "    def predict(self, x: np.ndarray) -> float:\n",
    "        z = calc_z_from_x(x)\n",
    "        return z @ self.params['w']\n",
    "\n",
    "    def fit(self, x_data: np.ndarray, y_data: np.ndarray):\n",
    "        z_data = np.apply_along_axis(calc_z_from_x, 1, x_data)\n",
    "        w = self.posterior_sampler(z_data, y_data)\n",
    "\n",
    "        self.params['w'] = w\n",
    "\n",
    "    def acquisition_function(self, x_data: np.ndarray) -> float:\n",
    "        return self.predict(x_data)"
   ]
  },
  {
   "cell_type": "markdown",
   "metadata": {},
   "source": [
    "獲得関数が実装できたので、あとはこれを最小化するために、適当な最適化手法を用いて探索を行う。ここではアニーリング法 (SA) を用いる。"
   ]
  },
  {
   "cell_type": "code",
   "execution_count": 15,
   "metadata": {},
   "outputs": [],
   "source": [
    "def simulated_annealing_sampler(\n",
    "    state_init: np.ndarray,\n",
    "    energy_func: Callable,\n",
    "    beta_schedule: Callable,\n",
    "    proposer: Callable,\n",
    "    t_all: int,\n",
    "    show_progress: bool=False,\n",
    "    seed: Optional[int]=None\n",
    "):\n",
    "    rng = np.random.default_rng(seed)\n",
    "    state_current = state_init\n",
    "    energy_current = energy_func(state_current)\n",
    "\n",
    "    state_best  = state_current\n",
    "    energy_best = energy_current\n",
    "\n",
    "    iter_base = int(np.log10(t_all) + 1)\n",
    "\n",
    "    for t in range(t_all):\n",
    "        beta = beta_schedule(t, t_all)\n",
    "        state_new    = proposer(state_current)\n",
    "        energy_new   = energy_func(state_new)\n",
    "        delta_energy = energy_new - energy_current\n",
    "\n",
    "        if delta_energy < 0 or np.exp(-beta * delta_energy) > rng.uniform(0, 1):\n",
    "            state_current  = state_new\n",
    "            energy_current = energy_new\n",
    "\n",
    "            if energy_current < energy_best:\n",
    "                state_best  = state_current\n",
    "                energy_best = energy_current\n",
    "\n",
    "        if show_progress and (t % 100) == 0:\n",
    "            print(f'iter {t:{iter_base}d}: {energy_best}')\n",
    "\n",
    "    return state_best\n",
    "\n",
    "class SimulatedAnnealingSampler:\n",
    "    def __init__(self, proposer, beta_schedule, t_all, show_progress=False, seed=None):\n",
    "        self.proposer      = proposer\n",
    "        self.beta_schedule = beta_schedule\n",
    "        self.t_all         = t_all\n",
    "\n",
    "        self.show_progress = show_progress\n",
    "        self.rng           = np.random.default_rng(seed)\n",
    "\n",
    "        self.state = None\n",
    "\n",
    "    def sample(self, state_init, energy_func):\n",
    "        self.state = simulated_annealing_sampler(\n",
    "            state_init,\n",
    "            energy_func,\n",
    "            self.beta_schedule,\n",
    "            self.proposer,\n",
    "            self.t_all,\n",
    "            self.show_progress\n",
    "        )\n",
    "\n",
    "class ExponentialCooling:\n",
    "    def __init__(self, beta_init=1e-3, beta_final=1e3):\n",
    "        self.beta_init  = beta_init\n",
    "        self.beta_final = beta_final\n",
    "\n",
    "    def __call__(self, t: int, t_all: int) -> float:\n",
    "        beta = self.beta_init * (self.beta_final / self.beta_init) ** (t / (t_all - 1))\n",
    "        return beta\n",
    "\n",
    "def propose_binary(state_current, seed=None):\n",
    "    rng = np.random.default_rng(seed)\n",
    "    N = len(state_current)\n",
    "    idx = rng.integers(low=0, high=N)\n",
    "    state_new = state_current.copy()\n",
    "    state_new[idx] = 1 - state_new[idx]\n",
    "    return state_new\n"
   ]
  },
  {
   "cell_type": "code",
   "execution_count": 16,
   "metadata": {},
   "outputs": [
    {
     "name": "stdout",
     "output_type": "stream",
     "text": [
      "--------------------\n",
      "training the surrogate model\n",
      "--------------------\n",
      "iter 100 | MSE: 0.04217778822695817\n",
      "iter 200 | MSE: 0.025309727842606232\n",
      "iter 300 | MSE: 0.00915797606493371\n",
      "iter 400 | MSE: 0.03886397892073996\n",
      "iter 500 | MSE: 0.007885298891440668\n",
      "iter 600 | MSE: 0.0648395606060193\n",
      "iter 700 | MSE: 0.08934270212368127\n",
      "iter 800 | MSE: 0.2816529330547912\n",
      "iter 900 | MSE: 0.3245736232005026\n",
      "iter 1000 | MSE: 0.06571144075489455\n",
      "--------------------\n",
      "sampling from the acquisition function\n",
      "--------------------\n",
      "iter    0: -0.3993893851475505\n",
      "iter  100: -7.5924824425445205\n",
      "iter  200: -11.977065520395927\n",
      "iter  300: -11.977065520395927\n",
      "iter  400: -11.977065520395927\n",
      "iter  500: -11.977065520395927\n",
      "iter  600: -11.977065520395927\n",
      "iter  700: -11.977065520395927\n",
      "iter  800: -11.977065520395927\n",
      "iter  900: -14.013605712644141\n",
      "iter 1000: -14.013605712644141\n",
      "iter 1100: -14.013605712644141\n",
      "iter 1200: -14.013605712644141\n",
      "iter 1300: -14.013605712644141\n",
      "iter 1400: -14.013605712644141\n",
      "iter 1500: -14.013605712644141\n",
      "iter 1600: -14.013605712644141\n",
      "iter 1700: -14.013605712644141\n",
      "iter 1800: -14.013605712644141\n",
      "iter 1900: -14.013605712644141\n",
      "x_next: [1 1 1 1 0 1 1 1 0 0 1 0 0 1 1 1]\n",
      "y_next: -6.261415626844816\n"
     ]
    }
   ],
   "source": [
    "# test\n",
    "\n",
    "N = 16\n",
    "D = 32\n",
    "\n",
    "surrogate_model = SurrogateModel(\n",
    "    num_features=N,\n",
    "    posterior_sampler=HorseshoeSampler(\n",
    "        num_iter     =1000,\n",
    "        show_progress=True,\n",
    "        use_julia    =True\n",
    "    )\n",
    ")\n",
    "\n",
    "acquis_optimizer = SimulatedAnnealingSampler(\n",
    "    proposer     =propose_binary,\n",
    "    beta_schedule=ExponentialCooling(1e-3, 1e3),\n",
    "    t_all        =2000,\n",
    "    show_progress=True\n",
    ")\n",
    "\n",
    "x_data = np.random.choice([0, 1], size=(D, N))\n",
    "Q_true = np.triu(np.random.normal(0, 1, size=(N, N)))\n",
    "y_data = np.einsum('di,ij,dj->d', x_data, Q_true, x_data) + np.random.normal(0, 0.1, size=D)\n",
    "\n",
    "print(\"-\"*20)\n",
    "print(\"training the surrogate model\")\n",
    "print(\"-\"*20)\n",
    "surrogate_model.fit(x_data, y_data)\n",
    "\n",
    "print(\"-\"*20)\n",
    "print(\"sampling from the acquisition function\")\n",
    "print(\"-\"*20)\n",
    "acquis_optimizer.sample(np.random.choice([0, 1], size=N), surrogate_model.acquisition_function)\n",
    "\n",
    "x_next = acquis_optimizer.state\n",
    "y_next = np.einsum('i,ij,j->', x_next, Q_true, x_next) + np.random.normal(0, 0.1)\n",
    "\n",
    "print(f\"x_next: {x_next}\")\n",
    "print(f\"y_next: {y_next}\")"
   ]
  },
  {
   "cell_type": "markdown",
   "metadata": {},
   "source": [
    "## 反復を回す"
   ]
  },
  {
   "cell_type": "markdown",
   "metadata": {},
   "source": [
    "以上実装された各要素を用いてベイズ最適化を実現する。まずはベイズ最適化全体を実装しよう。"
   ]
  },
  {
   "cell_type": "code",
   "execution_count": 17,
   "metadata": {},
   "outputs": [],
   "source": [
    "def make_monotonically_decreasing(series):\n",
    "    series_decreasing = series.copy()\n",
    "    for i in range(1, len(series_decreasing)):\n",
    "        series_decreasing[i] = min(series_decreasing[i], series_decreasing[i-1])\n",
    "    return series_decreasing\n",
    "\n",
    "def show_current_progress(fig, y_best_list, y_data, y_stop_criterion, N):\n",
    "    clear_output(wait = True)\n",
    "    if y_stop_criterion > -np.inf:\n",
    "        y_best_list = np.array(y_best_list - y_stop_criterion) / N\n",
    "        y_data = np.array(y_data - y_stop_criterion) / N\n",
    "    plt.cla()\n",
    "    plt.plot(range(len(y_best_list)), y_best_list, color='b')\n",
    "    plt.scatter(range(len(y_data)), y_data, c='r', marker='x')\n",
    "    plt.grid()\n",
    "    plt.ylim(bottom=1e-2)\n",
    "    plt.yscale('log')\n",
    "    display(fig)\n",
    "\n",
    "class BayesianOptimizer:\n",
    "    def __init__(self, objective_function, surrogate_model, acquis_optimizer):\n",
    "        self.objective_function = objective_function\n",
    "        self.surrogate_model    = surrogate_model\n",
    "        self.acquis_optimizer   = acquis_optimizer\n",
    "\n",
    "    def sample(self, x_data_init: list[np.ndarray], y_data_init: list[float], num_iter: int, y_stop_criterion: float = -np.inf):\n",
    "        x_data = x_data_init\n",
    "        y_data = y_data_init\n",
    "        y_best_list = make_monotonically_decreasing(y_data)\n",
    "\n",
    "        fig = plt.figure()\n",
    "        iter_base = int(np.log10(num_iter) + 1)\n",
    "\n",
    "        while len(y_data) < num_iter:\n",
    "            self.surrogate_model.fit(np.array(x_data), np.array(y_data))\n",
    "\n",
    "            self.acquis_optimizer.sample(\n",
    "                np.random.choice([0, 1], size=len(x_data[0])),\n",
    "                self.surrogate_model.acquisition_function\n",
    "            )\n",
    "\n",
    "            x_next = self.acquis_optimizer.state\n",
    "            y_next = self.objective_function(x_next)\n",
    "\n",
    "            x_data.append(x_next)\n",
    "            y_data.append(y_next)\n",
    "\n",
    "            if y_next < y_best_list[-1]:\n",
    "                y_best_list.append(y_next)\n",
    "            else:\n",
    "                y_best_list.append(y_best_list[-1])\n",
    "\n",
    "            show_current_progress(fig, y_best_list, y_data, y_stop_criterion, N)\n",
    "\n",
    "            # i = len(y_data)\n",
    "            # print(f\"iter {i+1:{iter_base}d} | {num_iter:{iter_base}d} | y_best: {y_best_list[-1]:.6f} | y_stop: {y_stop_criterion}\")\n",
    "\n",
    "            if np.isclose(y_best_list[-1], y_stop_criterion):\n",
    "                break\n",
    "            if (y_best_list[-1] - y_stop_criterion) / N <= 1e-3:\n",
    "                break\n",
    "\n",
    "        return x_data, y_data, self.surrogate_model.params"
   ]
  },
  {
   "cell_type": "code",
   "execution_count": 18,
   "metadata": {},
   "outputs": [],
   "source": [
    "D_init = 16\n",
    "N = 16\n",
    "\n",
    "def objective_function(x: np.ndarray) -> float:\n",
    "    return np.einsum('i,ij,j->', x, Q_true, x)\n",
    "\n",
    "surrogate_model = SurrogateModel(\n",
    "    num_features=N,\n",
    "    posterior_sampler=HorseshoeSampler(\n",
    "        num_iter     =1000,\n",
    "        show_progress=False\n",
    "    )\n",
    ")\n",
    "\n",
    "acquis_optimizer = SimulatedAnnealingSampler(\n",
    "    proposer     =propose_binary,\n",
    "    beta_schedule=ExponentialCooling(1e-3, 1e3),\n",
    "    t_all        =1000,\n",
    "    show_progress=False\n",
    ")\n",
    "\n",
    "bayesian_optimizer = BayesianOptimizer(\n",
    "    objective_function=objective_function,\n",
    "    surrogate_model   =surrogate_model,\n",
    "    acquis_optimizer  =acquis_optimizer\n",
    ")\n",
    "\n",
    "x_data = [np.random.choice([0, 1], size=(N)) for _ in range(D_init)]\n",
    "y_data = [objective_function(x) for x in x_data]"
   ]
  },
  {
   "cell_type": "markdown",
   "metadata": {},
   "source": [
    "実行前に、SAを用いて端的に近似解を求めておく。"
   ]
  },
  {
   "cell_type": "code",
   "execution_count": 19,
   "metadata": {},
   "outputs": [
    {
     "name": "stdout",
     "output_type": "stream",
     "text": [
      "x_sa: [1 1 0 1 1 0 1 1 0 1 1 1 0 0 1 0]\n",
      "y_sa: -15.07602967990331\n"
     ]
    }
   ],
   "source": [
    "sa_sampler = SimulatedAnnealingSampler(\n",
    "    proposer     =propose_binary,\n",
    "    beta_schedule=ExponentialCooling(1e-3, 1e3),\n",
    "    t_all        =2000,\n",
    "    show_progress=False\n",
    ")\n",
    "\n",
    "x_init = np.random.choice([0, 1], size=N)\n",
    "sa_sampler.sample(x_init, objective_function)\n",
    "\n",
    "x_sa = sa_sampler.state\n",
    "y_sa = objective_function(x_sa)\n",
    "\n",
    "print(f\"x_sa: {x_sa}\")\n",
    "print(f\"y_sa: {y_sa}\")"
   ]
  },
  {
   "cell_type": "markdown",
   "metadata": {},
   "source": [
    "ここでは、とりあえずこの解をベイズ最適化の停止基準としておく。ただしこれができるのはSAによるサンプリングが容易な問題であるためで、通常ベイズ最適化はSAで解くのは難しい問題を対象とすることに注意が必要である。"
   ]
  },
  {
   "cell_type": "code",
   "execution_count": 20,
   "metadata": {},
   "outputs": [
    {
     "data": {
      "image/png": "[encoded data removed]",
      "text/plain": [
       "<Figure size 640x480 with 1 Axes>"
      ]
     },
     "metadata": {},
     "output_type": "display_data"
    },
    {
     "data": {
      "image/png": "[encoded data removed]",
      "text/plain": [
       "<Figure size 640x480 with 1 Axes>"
      ]
     },
     "metadata": {},
     "output_type": "display_data"
    }
   ],
   "source": [
    "x_data_end, y_data_end, params_end = bayesian_optimizer.sample(x_data, y_data, num_iter=256, y_stop_criterion=y_sa)"
   ]
  },
  {
   "cell_type": "markdown",
   "metadata": {},
   "source": [
    "最終的なパラメータは `params_end' に格納した。この中身を図示してみよう。"
   ]
  },
  {
   "cell_type": "code",
   "execution_count": 27,
   "metadata": {},
   "outputs": [
    {
     "data": {
      "image/png": "[encoded data removed]",
      "text/plain": [
       "<Figure size 640x480 with 2 Axes>"
      ]
     },
     "metadata": {},
     "output_type": "display_data"
    },
    {
     "data": {
      "image/png": "[encoded data removed]",
      "text/plain": [
       "<Figure size 640x480 with 2 Axes>"
      ]
     },
     "metadata": {},
     "output_type": "display_data"
    }
   ],
   "source": [
    "Q_end = calc_Q_from_w(params_end['w'])\n",
    "\n",
    "plt.title(r'Q_{\\rm end}')\n",
    "visualize_Q(Q_end)\n",
    "\n",
    "plt.title(r'Q_{\\rm true} - Q_{\\rm end}')\n",
    "visualize_Q(Q_true - Q_end)"
   ]
  }
 ],
 "metadata": {
  "kernelspec": {
   "display_name": ".venv",
   "language": "python",
   "name": "python3"
  },
  "language_info": {
   "codemirror_mode": {
    "name": "ipython",
    "version": 3
   },
   "file_extension": ".py",
   "mimetype": "text/x-python",
   "name": "python",
   "nbconvert_exporter": "python",
   "pygments_lexer": "ipython3",
   "version": "3.11.6"
  }
 },
 "nbformat": 4,
 "nbformat_minor": 2
}
