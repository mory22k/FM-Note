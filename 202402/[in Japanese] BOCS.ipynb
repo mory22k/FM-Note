{
 "cells": [
  {
   "cell_type": "code",
   "execution_count": 45,
   "metadata": {},
   "outputs": [],
   "source": [
    "import numpy as np\n",
    "import matplotlib.pyplot as plt\n",
    "from pathlib import Path\n",
    "import os\n",
    "from julia import Main\n",
    "from typing import Callable, Optional\n",
    "from IPython.display import display, clear_output\n",
    "\n",
    "dir_script = Path(os.getcwd())"
   ]
  },
  {
   "cell_type": "markdown",
   "metadata": {},
   "source": [
    "## 代理モデル"
   ]
  },
  {
   "cell_type": "markdown",
   "metadata": {},
   "source": [
    "代理モデルとして2次の多項式を用いる。"
   ]
  },
  {
   "cell_type": "markdown",
   "metadata": {},
   "source": [
    "$$\n",
    "\\begin{aligned}\n",
    "    \\hat f(x) = b + \\sum_{i=1}^N w_i x_i + \\sum_{i \\lt j} w_{ij} x_i x_j,\n",
    "    \\quad x \\in \\{0, 1\\}^N\n",
    "\\end{aligned}\n",
    "$$"
   ]
  },
  {
   "cell_type": "markdown",
   "metadata": {},
   "source": [
    "このモデルは $x$ を $\\phi(x) = [1, x_1, \\dots, x_N, x_1 x_2, \\dots, x_{N-1} x_N]$ に写像した上で、線形回帰を行うことに相当する。"
   ]
  },
  {
   "cell_type": "markdown",
   "metadata": {},
   "source": [
    "$$\n",
    "\\begin{aligned}\n",
    "    \\hat f(x) = \\phi(x)^\\top w\n",
    "\\end{aligned}\n",
    "$$"
   ]
  },
  {
   "cell_type": "markdown",
   "metadata": {},
   "source": [
    "まず、$x \\in \\R^N, \\phi(x) \\in \\R^P$ として、$N$ と $P$ の相互変換を行う関数を定義する。"
   ]
  },
  {
   "cell_type": "code",
   "execution_count": 46,
   "metadata": {},
   "outputs": [],
   "source": [
    "def calc_P_from_N(N):\n",
    "    return 1 + N + N * (N - 1) // 2\n",
    "\n",
    "def calc_N_from_P(P):\n",
    "    N = int((np.sqrt(8 * P - 7) - 1) // 2)\n",
    "    return N"
   ]
  },
  {
   "cell_type": "code",
   "execution_count": 47,
   "metadata": {},
   "outputs": [],
   "source": [
    "# test\n",
    "\n",
    "N_list = np.arange(1, 100)\n",
    "for N in N_list:\n",
    "    P = calc_P_from_N(N)\n",
    "    N = calc_N_from_P(P)\n",
    "    assert N == N"
   ]
  },
  {
   "cell_type": "markdown",
   "metadata": {},
   "source": [
    "ところで、モデルが変数として $x \\in \\{0, 1\\}^N$ を取る2次の多項式であることから、二次形式で書き表すこともできる。"
   ]
  },
  {
   "cell_type": "markdown",
   "metadata": {},
   "source": [
    "$$\n",
    "\\begin{aligned}\n",
    "    \\hat f(x) = x^\\top Q x + b\n",
    "\\end{aligned}\n",
    "$$"
   ]
  },
  {
   "cell_type": "markdown",
   "metadata": {},
   "source": [
    "このQUBO行列 $Q$ と重みベクトル $w$ を相互変換する関数を定義しておく。ただし、変換時には、バイアス項 $b$ の情報が失われることに注意する。"
   ]
  },
  {
   "cell_type": "code",
   "execution_count": 48,
   "metadata": {},
   "outputs": [],
   "source": [
    "def calc_Q_from_w(w: np.ndarray):\n",
    "    P = w.shape[0]\n",
    "    N = calc_N_from_P(P)\n",
    "    Q = np.zeros((N, N), dtype=float)\n",
    "\n",
    "    Q[np.diag_indices(N)] = w[1 : 1+N]\n",
    "    Q[np.triu_indices(N, k=1)] = w[1+N : P]\n",
    "    return Q\n",
    "\n",
    "def calc_w_from_Q(Q: np.ndarray):\n",
    "    N = Q.shape[0]\n",
    "    P = calc_P_from_N(N)\n",
    "    w = np.zeros((P,), dtype=float)\n",
    "\n",
    "    w[1 : 1+N] = Q[np.diag_indices(N)]\n",
    "    w[1+N : P] = Q[np.triu_indices(N, k=1)]\n",
    "    return w\n",
    "\n",
    "def visualize_Q(Q: np.ndarray, cmap='bwr'):\n",
    "    cmap_range = np.abs(Q).max()\n",
    "    plt.imshow(Q, cmap=cmap, interpolation='nearest', vmin=-cmap_range, vmax=cmap_range)\n",
    "    plt.colorbar()\n",
    "    plt.show()"
   ]
  },
  {
   "cell_type": "code",
   "execution_count": 49,
   "metadata": {},
   "outputs": [],
   "source": [
    "# test\n",
    "\n",
    "N = 16\n",
    "P = calc_P_from_N(N)\n",
    "Q = np.random.rand(N, N)\n",
    "Q1 = np.triu(Q)\n",
    "w1 = calc_w_from_Q(Q1)\n",
    "Q2 = calc_Q_from_w(w1)\n",
    "\n",
    "assert np.isclose(Q1, Q2).all()"
   ]
  },
  {
   "cell_type": "code",
   "execution_count": 50,
   "metadata": {},
   "outputs": [
    {
     "data": {
      "image/png": "[encoded data removed]",
      "text/plain": [
       "<Figure size 640x480 with 2 Axes>"
      ]
     },
     "metadata": {},
     "output_type": "display_data"
    }
   ],
   "source": [
    "# test\n",
    "\n",
    "N = 16\n",
    "P = calc_P_from_N(N)\n",
    "w = np.random.randn(P)\n",
    "Q = calc_Q_from_w(w)\n",
    "\n",
    "visualize_Q(Q)"
   ]
  },
  {
   "cell_type": "markdown",
   "metadata": {},
   "source": [
    "以上を用いて、写像 $\\phi(x)$ を実装する。"
   ]
  },
  {
   "cell_type": "code",
   "execution_count": 51,
   "metadata": {},
   "outputs": [],
   "source": [
    "def calc_z_from_x(x: np.ndarray) -> np.ndarray:\n",
    "    N = x.shape[0]\n",
    "    P = calc_P_from_N(N)\n",
    "    z = np.zeros(P, dtype=float)\n",
    "\n",
    "    z[0 : 1]   = 1\n",
    "    z[1 : 1+N] = x\n",
    "\n",
    "    i, j       = np.triu_indices(N, k=1)\n",
    "    z[1+N : P] = x[i] * x[j]\n",
    "\n",
    "    return z"
   ]
  },
  {
   "cell_type": "markdown",
   "metadata": {},
   "source": [
    "代理モデルを実装する。学習器は適当に `posterior_sampler: np.ndarray -> np.ndarray` とする。獲得関数はまだ実装しない。"
   ]
  },
  {
   "cell_type": "code",
   "execution_count": 52,
   "metadata": {},
   "outputs": [],
   "source": [
    "class SurrogateModel:\n",
    "    def __init__(self, num_features: int, posterior_sampler):\n",
    "        N = num_features\n",
    "        P = calc_P_from_N(N)\n",
    "\n",
    "        w = np.zeros(P, dtype=float)\n",
    "        self.params  = {'w': w}\n",
    "        self.posterior_sampler = posterior_sampler\n",
    "\n",
    "    def predict(self, x: np.ndarray) -> float:\n",
    "        z = calc_z_from_x(x)\n",
    "        return z @ self.params['w']\n",
    "\n",
    "    def fit(self, x_data: np.ndarray, y_data: np.ndarray):\n",
    "        z_data = np.apply_along_axis(calc_z_from_x, 1, x_data)\n",
    "        w = self.posterior_sampler(z_data, y_data)\n",
    "\n",
    "        self.params['w'] = w"
   ]
  },
  {
   "cell_type": "code",
   "execution_count": 53,
   "metadata": {},
   "outputs": [
    {
     "data": {
      "image/png": "[encoded data removed]",
      "text/plain": [
       "<Figure size 640x480 with 2 Axes>"
      ]
     },
     "metadata": {},
     "output_type": "display_data"
    },
    {
     "name": "stdout",
     "output_type": "stream",
     "text": [
      "MSE: 0.0010631630879817837\n"
     ]
    }
   ],
   "source": [
    "# test\n",
    "\n",
    "sample_lstsq = lambda z, y: np.linalg.lstsq(z, y, rcond=None)[0]\n",
    "\n",
    "D = 256\n",
    "N = 16\n",
    "\n",
    "model = SurrogateModel(16, sample_lstsq)\n",
    "x_data = np.random.choice([0, 1], size=(D, N))\n",
    "Q_true = np.triu(np.random.normal(0, 1, size=(N, N)))\n",
    "y_data = np.einsum('di,ij,dj->d', x_data, Q_true, x_data) + np.random.normal(0, 0.1, size=D)\n",
    "\n",
    "model.fit(x_data, y_data)\n",
    "Q_pred = calc_Q_from_w(model.params['w'])\n",
    "\n",
    "visualize_Q(Q_true - Q_pred)\n",
    "\n",
    "mse = np.mean((Q_true - Q_pred) ** 2)\n",
    "print(f\"MSE: {mse}\")"
   ]
  },
  {
   "cell_type": "markdown",
   "metadata": {},
   "source": [
    "## 獲得関数"
   ]
  },
  {
   "cell_type": "markdown",
   "metadata": {},
   "source": [
    "獲得関数にはThompson抽出を用いる。これはパラメータの事後分布に従うサンプルを適用した代理モデルの予測器を獲得関数として用いるものである。すなわち"
   ]
  },
  {
   "cell_type": "markdown",
   "metadata": {},
   "source": [
    "$$\n",
    "\\begin{aligned}\n",
    "    &&\n",
    "    \\alpha(x)\n",
    "    &= \\hat f(x; \\theta) = \\phi(x)^\\top \\tilde w \\\\\n",
    "    \\text{where} &&\n",
    "    w &\\sim p(\\tilde w | \\mathcal D)\n",
    "\\end{aligned}\n",
    "$$"
   ]
  },
  {
   "cell_type": "markdown",
   "metadata": {},
   "source": [
    "まず、事後分布からサンプルを抽出する部分 $w \\sim p(\\tilde w | \\mathcal D)$ を実装する。これには馬蹄事前分布を用いて得られる Gibbs サンプラーを用いる。詳細は `SparseBLR.ipynb` に記載されている。ここでは、`BOCS/Horseshoe.jl` 内の実装をインポートして用いる。"
   ]
  },
  {
   "cell_type": "code",
   "execution_count": 54,
   "metadata": {},
   "outputs": [
    {
     "data": {
      "text/plain": [
       "<PyCall.jlwrap sample_horseshoe_posterior_old>"
      ]
     },
     "execution_count": 54,
     "metadata": {},
     "output_type": "execute_result"
    }
   ],
   "source": [
    "dir_bocs = dir_script / 'BOCS'\n",
    "Main.include(str(dir_bocs / 'horseshoe.jl'))"
   ]
  },
  {
   "cell_type": "code",
   "execution_count": 55,
   "metadata": {},
   "outputs": [],
   "source": [
    "class HorseshoeSampler:\n",
    "    def __init__(self, num_iter: int, show_progress: bool = False, use_julia: bool = True, old: bool = False):\n",
    "        self.num_iter      = num_iter\n",
    "        self.show_progress = show_progress\n",
    "        self.use_julia     = use_julia\n",
    "        self.old           = old\n",
    "\n",
    "    def __call__(self, x_data: np.ndarray, y_data: np.ndarray):\n",
    "        if self.use_julia:\n",
    "            if self.old:\n",
    "                return Main.sample_horseshoe_posterior_old(\n",
    "                    x_data.astype(np.float64),\n",
    "                    y_data.astype(np.float64),\n",
    "                    self.num_iter,\n",
    "                    self.show_progress\n",
    "                )\n",
    "            return Main.sample_horseshoe_posterior(\n",
    "                x_data.astype(np.float64),\n",
    "                y_data.astype(np.float64),\n",
    "                self.num_iter,\n",
    "                self.show_progress\n",
    "            )\n",
    "        else:\n",
    "            raise NotImplementedError"
   ]
  },
  {
   "cell_type": "markdown",
   "metadata": {},
   "source": [
    "獲得関数自体は代理モデルの `predict` そのものであるから、単なるエイリアスとして実装する。"
   ]
  },
  {
   "cell_type": "code",
   "execution_count": 56,
   "metadata": {},
   "outputs": [],
   "source": [
    "class SurrogateModel:\n",
    "    def initialize_params(self, P):\n",
    "        w = np.zeros(P, dtype=float)\n",
    "        self.params  = {'w': w}\n",
    "\n",
    "    def __init__(self, num_features: int, posterior_sampler):\n",
    "        N = num_features\n",
    "        P = calc_P_from_N(N)\n",
    "\n",
    "        self.initialize_params(P)\n",
    "        self.posterior_sampler = posterior_sampler\n",
    "\n",
    "    def predict(self, x: np.ndarray) -> float:\n",
    "        z = calc_z_from_x(x)\n",
    "        return z @ self.params['w']\n",
    "\n",
    "    def fit(self, x_data: np.ndarray, y_data: np.ndarray):\n",
    "        z_data = np.apply_along_axis(calc_z_from_x, 1, x_data)\n",
    "        w = self.posterior_sampler(z_data, y_data)\n",
    "\n",
    "        self.params['w'] = w\n",
    "\n",
    "    def acquisition_function(self, x_data: np.ndarray) -> float:\n",
    "        return self.predict(x_data)"
   ]
  },
  {
   "cell_type": "markdown",
   "metadata": {},
   "source": [
    "獲得関数が実装できたので、あとはこれを最小化するために、適当な最適化手法を用いて探索を行う。ここではアニーリング法 (SA) を用いる。"
   ]
  },
  {
   "cell_type": "code",
   "execution_count": 57,
   "metadata": {},
   "outputs": [],
   "source": [
    "def simulated_annealing_sampler(\n",
    "    state_init: np.ndarray,\n",
    "    energy_func: Callable,\n",
    "    beta_schedule: Callable,\n",
    "    proposer: Callable,\n",
    "    t_all: int,\n",
    "    show_progress: bool=False,\n",
    "    seed: Optional[int]=None\n",
    "):\n",
    "    rng = np.random.default_rng(seed)\n",
    "    state_current = state_init\n",
    "    energy_current = energy_func(state_current)\n",
    "\n",
    "    state_best  = state_current\n",
    "    energy_best = energy_current\n",
    "\n",
    "    iter_base = int(np.log10(t_all) + 1)\n",
    "\n",
    "    for t in range(t_all):\n",
    "        beta = beta_schedule(t, t_all)\n",
    "        state_new    = proposer(state_current)\n",
    "        energy_new   = energy_func(state_new)\n",
    "        delta_energy = energy_new - energy_current\n",
    "\n",
    "        if delta_energy < 0 or np.exp(-beta * delta_energy) > rng.uniform(0, 1):\n",
    "            state_current  = state_new\n",
    "            energy_current = energy_new\n",
    "\n",
    "            if energy_current < energy_best:\n",
    "                state_best  = state_current\n",
    "                energy_best = energy_current\n",
    "\n",
    "        if show_progress and (t % 100) == 0:\n",
    "            print(f'iter {t:{iter_base}d}: {energy_best}')\n",
    "\n",
    "    return state_best\n",
    "\n",
    "class SimulatedAnnealingSampler:\n",
    "    def __init__(self, proposer, beta_schedule, t_all, show_progress=False, seed=None):\n",
    "        self.proposer      = proposer\n",
    "        self.beta_schedule = beta_schedule\n",
    "        self.t_all         = t_all\n",
    "\n",
    "        self.show_progress = show_progress\n",
    "        self.rng           = np.random.default_rng(seed)\n",
    "\n",
    "        self.state = None\n",
    "\n",
    "    def sample(self, state_init, energy_func):\n",
    "        self.state = simulated_annealing_sampler(\n",
    "            state_init,\n",
    "            energy_func,\n",
    "            self.beta_schedule,\n",
    "            self.proposer,\n",
    "            self.t_all,\n",
    "            self.show_progress\n",
    "        )\n",
    "\n",
    "class ExponentialCooling:\n",
    "    def __init__(self, beta_init=1e-3, beta_final=1e3):\n",
    "        self.beta_init  = beta_init\n",
    "        self.beta_final = beta_final\n",
    "\n",
    "    def __call__(self, t: int, t_all: int) -> float:\n",
    "        beta = self.beta_init * (self.beta_final / self.beta_init) ** (t / (t_all - 1))\n",
    "        return beta\n",
    "\n",
    "def propose_binary(state_current, seed=None):\n",
    "    rng = np.random.default_rng(seed)\n",
    "    N = len(state_current)\n",
    "    idx = rng.integers(low=0, high=N)\n",
    "    state_new = state_current.copy()\n",
    "    state_new[idx] = 1 - state_new[idx]\n",
    "    return state_new\n"
   ]
  },
  {
   "cell_type": "code",
   "execution_count": 58,
   "metadata": {},
   "outputs": [
    {
     "name": "stdout",
     "output_type": "stream",
     "text": [
      "--------------------\n",
      "training the surrogate model\n",
      "--------------------\n",
      "iter 100 | MSE: 0.08426362201105933\n",
      "iter 200 | MSE: 0.19592954503741433\n",
      "iter 300 | MSE: 0.05505150164096222\n",
      "iter 400 | MSE: 0.04512368165442816\n",
      "iter 500 | MSE: 0.03490567216521328\n",
      "iter 600 | MSE: 0.053153617926144994\n",
      "iter 700 | MSE: 0.07374418675651082\n",
      "iter 800 | MSE: 0.007025123775848115\n",
      "iter 900 | MSE: 0.0038124583594107728\n",
      "iter 1000 | MSE: 0.011821033362259517\n",
      "--------------------\n",
      "sampling from the acquisition function\n",
      "--------------------\n",
      "iter    0: 1.9934067002312523\n",
      "iter  100: -5.1284600073281235\n",
      "iter  200: -5.1284600073281235\n",
      "iter  300: -5.1284600073281235\n",
      "iter  400: -9.75249181035328\n",
      "iter  500: -9.75249181035328\n",
      "iter  600: -9.75249181035328\n",
      "iter  700: -9.75249181035328\n",
      "iter  800: -11.092825905127166\n",
      "iter  900: -11.568574851366\n",
      "iter 1000: -11.568574851366\n",
      "iter 1100: -12.293222614740408\n",
      "iter 1200: -12.293222614740408\n",
      "iter 1300: -12.293222614740408\n",
      "iter 1400: -12.293222614740408\n",
      "iter 1500: -12.293222614740408\n",
      "iter 1600: -12.293222614740408\n",
      "iter 1700: -12.293222614740408\n",
      "iter 1800: -12.293222614740408\n",
      "iter 1900: -12.293222614740408\n",
      "x_next: [0 0 0 0 1 1 1 1 1 0 1 0 0 1 1 0]\n",
      "y_next: -2.583565117026587\n"
     ]
    }
   ],
   "source": [
    "# test\n",
    "\n",
    "N = 16\n",
    "D = 32\n",
    "\n",
    "surrogate_model = SurrogateModel(\n",
    "    num_features=N,\n",
    "    posterior_sampler=HorseshoeSampler(\n",
    "        num_iter     =1000,\n",
    "        show_progress=True,\n",
    "        use_julia    =True\n",
    "    )\n",
    ")\n",
    "\n",
    "acquis_optimizer = SimulatedAnnealingSampler(\n",
    "    proposer     =propose_binary,\n",
    "    beta_schedule=ExponentialCooling(1e-3, 1e3),\n",
    "    t_all        =2000,\n",
    "    show_progress=True\n",
    ")\n",
    "\n",
    "x_data = np.random.choice([0, 1], size=(D, N))\n",
    "Q_true = np.triu(np.random.normal(0, 1, size=(N, N)))\n",
    "y_data = np.einsum('di,ij,dj->d', x_data, Q_true, x_data) + np.random.normal(0, 0.1, size=D)\n",
    "\n",
    "print(\"-\"*20)\n",
    "print(\"training the surrogate model\")\n",
    "print(\"-\"*20)\n",
    "surrogate_model.fit(x_data, y_data)\n",
    "\n",
    "print(\"-\"*20)\n",
    "print(\"sampling from the acquisition function\")\n",
    "print(\"-\"*20)\n",
    "acquis_optimizer.sample(np.random.choice([0, 1], size=N), surrogate_model.acquisition_function)\n",
    "\n",
    "x_next = acquis_optimizer.state\n",
    "y_next = np.einsum('i,ij,j->', x_next, Q_true, x_next) + np.random.normal(0, 0.1)\n",
    "\n",
    "print(f\"x_next: {x_next}\")\n",
    "print(f\"y_next: {y_next}\")"
   ]
  },
  {
   "cell_type": "markdown",
   "metadata": {},
   "source": [
    "## 反復を回す"
   ]
  },
  {
   "cell_type": "markdown",
   "metadata": {},
   "source": [
    "以上実装された各要素を用いてベイズ最適化を実現する。まずはベイズ最適化全体を実装しよう。"
   ]
  },
  {
   "cell_type": "code",
   "execution_count": 83,
   "metadata": {},
   "outputs": [],
   "source": [
    "def make_monotonically_decreasing(series):\n",
    "    series_decreasing = series.copy()\n",
    "    for i in range(1, len(series_decreasing)):\n",
    "        series_decreasing[i] = min(series_decreasing[i], series_decreasing[i-1])\n",
    "    return series_decreasing\n",
    "\n",
    "def show_current_progress(fig, y_best_list, y_data, y_stop_criterion, N):\n",
    "    clear_output(wait = True)\n",
    "    if y_stop_criterion > -np.inf:\n",
    "        y_best_list = np.array(y_best_list - y_stop_criterion) / N\n",
    "        y_data = np.array(y_data - y_stop_criterion) / N\n",
    "    plt.cla()\n",
    "    plt.plot(range(len(y_best_list)), y_best_list, color='b')\n",
    "    plt.scatter(range(len(y_data)), y_data, c='r', marker='x')\n",
    "    plt.grid()\n",
    "    plt.ylim(bottom=1e-2)\n",
    "    plt.yscale('log')\n",
    "    display(fig)\n",
    "\n",
    "class BayesianOptimizer:\n",
    "    def __init__(self, objective_function, surrogate_model, acquis_optimizer):\n",
    "        self.objective_function = objective_function\n",
    "        self.surrogate_model    = surrogate_model\n",
    "        self.acquis_optimizer   = acquis_optimizer\n",
    "\n",
    "    def sample(self, x_data_init: list[np.ndarray], y_data_init: list[float], num_iter: int, y_stop_criterion: float = -np.inf):\n",
    "        x_data = x_data_init\n",
    "        y_data = y_data_init\n",
    "        y_best_list = make_monotonically_decreasing(y_data)\n",
    "\n",
    "        fig = plt.figure()\n",
    "        iter_base = int(np.log10(num_iter) + 1)\n",
    "\n",
    "        while len(y_data) < num_iter:\n",
    "            self.surrogate_model.fit(np.array(x_data), np.array(y_data))\n",
    "\n",
    "            self.acquis_optimizer.sample(\n",
    "                np.random.choice([0, 1], size=len(x_data[0])),\n",
    "                self.surrogate_model.acquisition_function\n",
    "            )\n",
    "\n",
    "            x_next = self.acquis_optimizer.state\n",
    "            y_next = self.objective_function(x_next)\n",
    "\n",
    "            x_data.append(x_next)\n",
    "            y_data.append(y_next)\n",
    "\n",
    "            if y_next < y_best_list[-1]:\n",
    "                y_best_list.append(y_next)\n",
    "            else:\n",
    "                y_best_list.append(y_best_list[-1])\n",
    "\n",
    "            show_current_progress(fig, y_best_list, y_data, y_stop_criterion, N)\n",
    "\n",
    "            # i = len(y_data)\n",
    "            # print(f\"iter {i+1:{iter_base}d} | {num_iter:{iter_base}d} | y_best: {y_best_list[-1]:.6f} | y_stop: {y_stop_criterion}\")\n",
    "\n",
    "            if np.isclose(y_best_list[-1], y_stop_criterion):\n",
    "                break\n",
    "            if (y_best_list[-1] - y_stop_criterion) / N <= 1e-3:\n",
    "                break\n",
    "\n",
    "        return x_data, y_data"
   ]
  },
  {
   "cell_type": "code",
   "execution_count": 84,
   "metadata": {},
   "outputs": [],
   "source": [
    "D_init = 16\n",
    "N = 16\n",
    "\n",
    "def objective_function(x: np.ndarray) -> float:\n",
    "    return np.einsum('i,ij,j->', x, Q_true, x)\n",
    "\n",
    "surrogate_model = SurrogateModel(\n",
    "    num_features=N,\n",
    "    posterior_sampler=HorseshoeSampler(\n",
    "        num_iter     =1000,\n",
    "        show_progress=False\n",
    "    )\n",
    ")\n",
    "\n",
    "acquis_optimizer = SimulatedAnnealingSampler(\n",
    "    proposer     =propose_binary,\n",
    "    beta_schedule=ExponentialCooling(1e-3, 1e3),\n",
    "    t_all        =1000,\n",
    "    show_progress=False\n",
    ")\n",
    "\n",
    "bayesian_optimizer = BayesianOptimizer(\n",
    "    objective_function=objective_function,\n",
    "    surrogate_model   =surrogate_model,\n",
    "    acquis_optimizer  =acquis_optimizer\n",
    ")\n",
    "\n",
    "x_data = [np.random.choice([0, 1], size=(N)) for _ in range(D_init)]\n",
    "y_data = [objective_function(x) for x in x_data]"
   ]
  },
  {
   "cell_type": "markdown",
   "metadata": {},
   "source": [
    "実行前に、SAを用いて端的に近似解を求めておく。"
   ]
  },
  {
   "cell_type": "code",
   "execution_count": 85,
   "metadata": {},
   "outputs": [
    {
     "name": "stdout",
     "output_type": "stream",
     "text": [
      "x_sa: [1 0 1 0 1 0 0 1 1 0 1 0 0 0 0 0]\n",
      "y_sa: -12.11403752513382\n"
     ]
    }
   ],
   "source": [
    "sa_sampler = SimulatedAnnealingSampler(\n",
    "    proposer     =propose_binary,\n",
    "    beta_schedule=ExponentialCooling(1e-3, 1e3),\n",
    "    t_all        =2000,\n",
    "    show_progress=False\n",
    ")\n",
    "\n",
    "x_init = np.random.choice([0, 1], size=N)\n",
    "sa_sampler.sample(x_init, objective_function)\n",
    "\n",
    "x_sa = sa_sampler.state\n",
    "y_sa = objective_function(x_sa)\n",
    "\n",
    "print(f\"x_sa: {x_sa}\")\n",
    "print(f\"y_sa: {y_sa}\")"
   ]
  },
  {
   "cell_type": "code",
   "execution_count": 86,
   "metadata": {},
   "outputs": [
    {
     "data": {
      "image/png": "[encoded data removed]",
      "text/plain": [
       "<Figure size 640x480 with 1 Axes>"
      ]
     },
     "metadata": {},
     "output_type": "display_data"
    }
   ],
   "source": [
    "x_data_end, y_data_end = bayesian_optimizer.sample(x_data, y_data, num_iter=256, y_stop_criterion=y_sa)"
   ]
  },
  {
   "cell_type": "code",
   "execution_count": null,
   "metadata": {},
   "outputs": [],
   "source": []
  }
 ],
 "metadata": {
  "kernelspec": {
   "display_name": ".venv",
   "language": "python",
   "name": "python3"
  },
  "language_info": {
   "codemirror_mode": {
    "name": "ipython",
    "version": 3
   },
   "file_extension": ".py",
   "mimetype": "text/x-python",
   "name": "python",
   "nbconvert_exporter": "python",
   "pygments_lexer": "ipython3",
   "version": "3.11.6"
  }
 },
 "nbformat": 4,
 "nbformat_minor": 2
}
