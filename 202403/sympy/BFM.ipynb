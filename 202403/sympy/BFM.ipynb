{
 "cells": [
  {
   "cell_type": "code",
   "execution_count": 23,
   "metadata": {},
   "outputs": [],
   "source": [
    "import sympy as sy"
   ]
  },
  {
   "cell_type": "code",
   "execution_count": 24,
   "metadata": {},
   "outputs": [],
   "source": [
    "def dist_N(x, mu, lamb):\n",
    "    p = sy.sqrt(lamb / (2 * sy.pi)) * sy.exp(-lamb / 2 * (x - mu)**2)\n",
    "    return p\n",
    "\n",
    "def dist_G(x, a, b):\n",
    "    p = b ** a / sy.gamma(a) * x ** (a - 1) * sy.exp(-b * x)\n",
    "    return p"
   ]
  },
  {
   "cell_type": "code",
   "execution_count": 29,
   "metadata": {},
   "outputs": [],
   "source": [
    "mu_w_i = sy.symbols(r'\\mu_{w_i}')\n",
    "mu_0 = sy.symbols(r'\\mu_0')\n",
    "lamb_w_i, gamma_0, alpha_lamb, beta_lamb = sy.symbols(r'\\lambda_{w_i} \\gamma_0 \\alpha_{\\lambda} \\beta_{\\lambda}', positive=True)"
   ]
  },
  {
   "cell_type": "code",
   "execution_count": 30,
   "metadata": {},
   "outputs": [
    {
     "data": {
      "text/latex": [
       "$\\displaystyle \\frac{\\sqrt{2} \\beta_{\\lambda}^{\\alpha_{\\lambda}} \\sqrt{\\gamma_{0}} \\lambda_{w_i}^{\\alpha_{\\lambda} - \\frac{1}{2}} e^{- \\frac{\\lambda_{w_i} \\left(2 \\beta_{\\lambda} + \\gamma_{0} \\mu_{0}^{2} - 2 \\gamma_{0} \\mu_{0} \\mu_{w_i} + \\gamma_{0} \\mu_{w_i}^{2}\\right)}{2}}}{2 \\sqrt{\\pi} \\Gamma\\left(\\alpha_{\\lambda}\\right)}$"
      ],
      "text/plain": [
       "sqrt(2)*\\beta_{\\lambda}**\\alpha_{\\lambda}*sqrt(\\gamma_0)*\\lambda_{w_i}**(\\alpha_{\\lambda} - 1/2)*exp(-\\lambda_{w_i}*(2*\\beta_{\\lambda} + \\gamma_0*\\mu_0**2 - 2*\\gamma_0*\\mu_0*\\mu_{w_i} + \\gamma_0*\\mu_{w_i}**2)/2)/(2*sqrt(pi)*gamma(\\alpha_{\\lambda}))"
      ]
     },
     "execution_count": 30,
     "metadata": {},
     "output_type": "execute_result"
    }
   ],
   "source": [
    "p1 = dist_N(mu_w_i, mu_0, gamma_0 * lamb_w_i)\n",
    "p2 = dist_G(lamb_w_i, alpha_lamb, beta_lamb)\n",
    "\n",
    "p3 = p1 * p2\n",
    "\n",
    "p3.expand().simplify()"
   ]
  },
  {
   "cell_type": "code",
   "execution_count": null,
   "metadata": {},
   "outputs": [],
   "source": []
  }
 ],
 "metadata": {
  "kernelspec": {
   "display_name": ".venv",
   "language": "python",
   "name": "python3"
  },
  "language_info": {
   "codemirror_mode": {
    "name": "ipython",
    "version": 3
   },
   "file_extension": ".py",
   "mimetype": "text/x-python",
   "name": "python",
   "nbconvert_exporter": "python",
   "pygments_lexer": "ipython3",
   "version": "3.11.6"
  }
 },
 "nbformat": 4,
 "nbformat_minor": 2
}
