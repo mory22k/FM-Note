{
 "cells": [
  {
   "cell_type": "markdown",
   "metadata": {},
   "source": [
    "# Inducing Sparsity in Bayesian Factorization Machines"
   ]
  },
  {
   "cell_type": "markdown",
   "metadata": {},
   "source": [
    "[Park + Casella (2008)] introduced the Bayesian LASSO, which is a Bayesian linear regression model with a Laplace prior on the coefficients. They re-wrote the LASSO penalty, the Laplace distribution, as a scale mixture of normals."
   ]
  },
  {
   "cell_type": "markdown",
   "metadata": {},
   "source": [
    "Following their work, [Pan+ (2016)] introduced the sparse factorization machine (SFM), which is a Bayesian factorization machine with a Laplace prior on the coefficients."
   ]
  },
  {
   "cell_type": "markdown",
   "metadata": {},
   "source": [
    "As we have seen in the previous notebooks, a factorization machine can be written as a linear regression model with respect to a single parameter $\\theta_i$:"
   ]
  },
  {
   "cell_type": "markdown",
   "metadata": {},
   "source": [
    "$$\n",
    "\\begin{aligned}\n",
    "    y_{\\theta_i}^{(d)} &= \\theta_i x_{\\theta_i}^{(d)},\n",
    "\\end{aligned}\n",
    "$$"
   ]
  },
  {
   "cell_type": "markdown",
   "metadata": {},
   "source": [
    "where"
   ]
  },
  {
   "cell_type": "markdown",
   "metadata": {},
   "source": [
    "$$\n",
    "\\begin{aligned}\n",
    "x_{\\theta_i}^{(d)} &\\coloneqq h_{\\theta_i}^{(d)}, \\\\\n",
    "y_{\\theta_i}^{(d)} &\\coloneqq y^{(d)} - g_{\\theta_i}^{(d)} = y^{(d)} - (f^{(d)} - \\theta_i h_{\\theta_i}^{(d)})\n",
    "\\end{aligned}\n",
    "$$"
   ]
  }
 ],
 "metadata": {
  "language_info": {
   "name": "python"
  }
 },
 "nbformat": 4,
 "nbformat_minor": 2
}
