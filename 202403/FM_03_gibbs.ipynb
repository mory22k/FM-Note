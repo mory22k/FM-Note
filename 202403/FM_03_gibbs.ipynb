{
 "cells": [
  {
   "cell_type": "markdown",
   "metadata": {},
   "source": [
    "# 03. Gibbs Sampler for Factorization Machine\n",
    "\n",
    "$\\DeclareMathOperator*{\\argmin}{arg~min}$"
   ]
  },
  {
   "cell_type": "code",
   "execution_count": 1,
   "metadata": {},
   "outputs": [],
   "source": [
    "import numpy as np\n",
    "from typing import Optional"
   ]
  },
  {
   "cell_type": "markdown",
   "metadata": {},
   "source": [
    "## From ALS to Gibbs Sampler"
   ]
  },
  {
   "cell_type": "markdown",
   "metadata": {},
   "source": [
    "Results of ordinary least squares are equivalent to the maximum a posteriori (MAP) estimation of a linear regression model with normally distributed errors."
   ]
  },
  {
   "cell_type": "markdown",
   "metadata": {},
   "source": [
    "That is, when the likelihood of $\\theta$ is given by"
   ]
  },
  {
   "cell_type": "markdown",
   "metadata": {},
   "source": [
    "$$\n",
    "\\begin{aligned}\n",
    "p(y^{(d)} | \\theta, x^{(d)}) &= \\mathcal{N}(y^{(d)} | \\theta x^{(d)}, \\sigma_n^2),\n",
    "\\end{aligned}\n",
    "$$"
   ]
  },
  {
   "cell_type": "markdown",
   "metadata": {},
   "source": [
    "where $\\sigma_n^2$ is the variance of the noise and its prior is uniform, the posterior distribution of $\\theta$ is given by"
   ]
  },
  {
   "cell_type": "markdown",
   "metadata": {},
   "source": [
    "$$\n",
    "\\begin{aligned}\n",
    "p(\\theta | y, x)\n",
    "&\\propto\n",
    "p(y | \\theta, x) p(\\theta)\n",
    "\\\\\n",
    "\n",
    "&\\propto\n",
    "\\prod_{d=1}^D \\mathcal{N}(y^{(d)} | \\theta x^{(d)}, \\sigma_n^2) \\times 1\n",
    "\\\\\n",
    "\n",
    "&\\propto\n",
    "\\exp\\left(-\\frac{1}{2\\sigma_n^2} \\sum_{d=1}^D (y^{(d)} - \\theta x^{(d)})^2\\right)\n",
    "\\\\\n",
    "\n",
    "&=\n",
    "\\exp\\left(-\\frac{1}{2\\sigma_n^2} \\sum_{d=1}^D x^{(d)2} \\left( \\theta - \\left( \\sum_{d=1}^D x^{(d)2} \\right)^{-1} \\sum_{d=1}^D x^{(d)}y^{(d)} \\right)^2 \\right)\n",
    "\\\\\n",
    "\n",
    "&\\propto\n",
    "\\mathcal{N}\\left(\\theta \\middle| \\mu_\\theta^\\star, \\sigma_\\theta^{\\star 2} \\right),\n",
    "\\end{aligned}\n",
    "$$"
   ]
  },
  {
   "cell_type": "markdown",
   "metadata": {},
   "source": [
    "where"
   ]
  },
  {
   "cell_type": "markdown",
   "metadata": {},
   "source": [
    "$$\n",
    "\\begin{aligned}\n",
    "\\mu_\\theta^\\star\n",
    "&=\n",
    "\\left( \\sum_{d=1}^D x^{(d)2} \\right)^{-1} \\sum_{d=1}^D x^{(d)}y^{(d)},\n",
    "\\\\\n",
    "\n",
    "\\sigma_\\theta^{\\star 2}\n",
    "&=\n",
    "\\sigma_n^2 \\left( \\sum_{d=1}^D x^{(d)2} \\right)^{-1}.\n",
    "\\end{aligned}\n",
    "$$"
   ]
  },
  {
   "cell_type": "markdown",
   "metadata": {},
   "source": [
    "Obviously, its MAP estimation, a.k.a. maximum likelihood estimation (MLE) --since it is equivalent to maximizing the likelihood function--,"
   ]
  },
  {
   "cell_type": "markdown",
   "metadata": {},
   "source": [
    "$$\n",
    "\\hat \\theta = \\mu_\\theta^\\star\n",
    "$$"
   ]
  },
  {
   "cell_type": "markdown",
   "metadata": {},
   "source": [
    "is equivalent to the ordinary least squares solution."
   ]
  },
  {
   "cell_type": "markdown",
   "metadata": {},
   "source": [
    "In the similar way, the L2 regularized least squares is equivalent to the MAP estimation of a linear regression model with"
   ]
  },
  {
   "cell_type": "markdown",
   "metadata": {},
   "source": [
    "- normal likelihood $p(y^{(d)} | \\theta, x^{(d)}) \\sim \\mathcal{N}(y^{(d)} | \\theta x^{(d)}, \\sigma_n^2)$ and\n",
    "- a Gaussian prior $\\theta \\sim \\mathcal N(\\theta | \\mu_\\theta, \\sigma_\\theta^2)$."
   ]
  },
  {
   "cell_type": "markdown",
   "metadata": {},
   "source": [
    "What then about sampling from the posterior distribution instead of performing MAP estimation for each parameter $\\theta$ at each iteration in the ALS?"
   ]
  },
  {
   "cell_type": "markdown",
   "metadata": {},
   "source": [
    "In this case, we are drawing samples from the posterior distribution of $\\theta$ given $x, y$ and the other parameters $\\Theta \\setminus \\{ \\theta \\}$, that is,"
   ]
  },
  {
   "cell_type": "markdown",
   "metadata": {},
   "source": [
    "$$\n",
    "\\begin{aligned}\n",
    "\\tilde \\theta | x, y, \\Theta \\setminus \\{ \\theta \\} \\sim p(\\theta | x, y, \\Theta \\setminus \\{ \\theta \\}) \\quad \\forall \\theta \\in \\Theta.\n",
    "\\end{aligned}\n",
    "$$"
   ]
  },
  {
   "cell_type": "markdown",
   "metadata": {},
   "source": [
    "As can be seen from its expression, this posterior sampling operation is equivalent to performing **Gibbs sampling**, a type of MCMC method."
   ]
  },
  {
   "cell_type": "markdown",
   "metadata": {},
   "source": [
    "## Factorization Machine as Hierarchical Bayesian Model"
   ]
  },
  {
   "cell_type": "markdown",
   "metadata": {},
   "source": [
    "Following [Rendle+ (2012)], we build a hierarchical Bayesian model for FM, which is known as the **Bayesian factorization machine** (BFM)."
   ]
  },
  {
   "cell_type": "markdown",
   "metadata": {},
   "source": [
    "The hiearchical expression of the BFM is given by the graphical model below."
   ]
  },
  {
   "cell_type": "markdown",
   "metadata": {},
   "source": [
    "![alt text](figures/FM_03_hierarchical.svg)"
   ]
  },
  {
   "cell_type": "markdown",
   "metadata": {},
   "source": [
    "Here,"
   ]
  },
  {
   "cell_type": "markdown",
   "metadata": {},
   "source": [
    "- $\\mathcal D = \\{ (x^{(d)}, y^{(d)}) \\}_{d=1, \\dots, D}$ (denoted by $x, y$) is the dataset,\n",
    "- $\\Theta_M = \\{ b, w, v, \\sigma_n^2 \\}$ are model parameters,\n",
    "- $\\Theta_H = \\{ \\mu_\\theta, \\sigma_\\theta^2, \\sigma_n^2 \\}$ are latent parameters, and\n",
    "- $\\Theta_F = \\{ \\mu_b, \\sigma_b^2, m_\\theta, \\lambda_\\theta, a_\\theta, b_\\theta, a_n, b_n \\}$ are fixed parameters."
   ]
  },
  {
   "cell_type": "markdown",
   "metadata": {},
   "source": [
    "In the following, $\\Theta = \\Theta_M \\cup \\Theta_H \\cup \\Theta_F$ is used to simplify the notation."
   ]
  },
  {
   "cell_type": "markdown",
   "metadata": {},
   "source": [
    "We assume the following distributions:"
   ]
  },
  {
   "cell_type": "markdown",
   "metadata": {},
   "source": [
    "$$\n",
    "\\begin{aligned}\n",
    "p(\\{ y_\\theta^{(d)} \\} | \\{ x_\\theta^{(d)} \\}, \\Theta, \\sigma_n^2)\n",
    "&= \\prod_{d=1}^D \\mathcal{N}(y_\\theta^{(d)} | \\theta x_\\theta^{(d)}, \\sigma_n^2),\n",
    "&& \\theta \\in \\{ b, w, v \\}\n",
    "\\\\\n",
    "\n",
    "p(\\theta | \\mu_\\theta, \\sigma_\\theta^2)\n",
    "&= \\mathcal{N}(\\theta | \\mu_\\theta, \\sigma_\\theta^2),\n",
    "&& \\theta \\in \\{ b, w, v \\}\n",
    "\\\\\n",
    "\n",
    "p(\\mu_\\theta | m_\\theta, \\lambda_\\theta, \\sigma_\\theta^2)\n",
    "&\\sim \\mathcal{N}(\\mu_\\theta | m_\\theta, \\sigma_\\theta^2 / \\lambda_\\theta),\n",
    "&& \\theta \\in \\{ w, v \\}\n",
    "\\\\\n",
    "\n",
    "p(\\sigma_\\theta^2 | a_\\theta, b_\\theta) &\\sim \\mathcal{IG}(\\sigma_\\theta^2 | a_\\theta, b_\\theta),\n",
    "&& \\theta \\in \\{ w, v \\}\n",
    "\\\\\n",
    "\n",
    "p(\\sigma_n^2 | a_n, b_n)\n",
    "&= \\mathcal{IG}(\\sigma_n^2 | a_n, b_n).\n",
    "\\end{aligned}\n",
    "$$"
   ]
  },
  {
   "cell_type": "markdown",
   "metadata": {},
   "source": [
    "Thanks to the conjugacy of the normal and inverse gamma distributions, the posterior distributions of the parameters are also given by the normal and inverse gamma distributions:"
   ]
  },
  {
   "cell_type": "markdown",
   "metadata": {},
   "source": [
    "$$\n",
    "\\begin{aligned}\n",
    "p(\\theta | \\mathcal D, \\Theta \\setminus \\{ \\theta \\})\n",
    "&= \\mathcal{N}(\\theta | \\mu_\\theta^\\star, \\sigma_\\theta^{\\star 2}),\n",
    "\\\\\n",
    "\n",
    "p(\\mu_\\theta | \\mathcal D, \\Theta \\setminus \\{ \\mu_\\theta \\})\n",
    "&= \\mathcal{N}(\\mu_\\theta | \\mu_\\mu^\\star, \\sigma_\\theta^2 / \\lambda_\\theta^{\\star}),\n",
    "\\\\\n",
    "\n",
    "p(\\sigma_\\theta^2 | \\Theta \\setminus \\{ \\sigma_\\theta^2 \\})\n",
    "&= \\mathcal{IG}(\\sigma_\\theta^2 | a_\\theta^\\star, b_\\theta^\\star),\n",
    "\\\\\n",
    "\n",
    "p(\\sigma_n^2 | \\mathcal D, \\Theta \\setminus \\{ \\sigma_n^2 \\})\n",
    "&= \\mathcal{IG}(\\sigma_n^2 | a_n^\\star, b_n^\\star).\n",
    "\\end{aligned}\n",
    "$$"
   ]
  },
  {
   "cell_type": "markdown",
   "metadata": {},
   "source": [
    "where"
   ]
  },
  {
   "cell_type": "markdown",
   "metadata": {},
   "source": [
    "$$\n",
    "\\begin{aligned}\n",
    "\\mu_\\theta^\\star\n",
    "&= \\sigma_\\theta^{\\star 2}\n",
    "\\left( \\frac{1}{\\sigma_n^2} \\sum_{d=1}^D x_\\theta^{(d)} y_\\theta^{(d)} + \\frac{1}{\\sigma_\\theta^2} \\mu_\\theta \\right),\n",
    "&& \\theta \\in \\{ b, w, v \\},\n",
    "\\\\\n",
    "\n",
    "\\sigma_\\theta^{\\star 2}\n",
    "&= \\left( \\frac{1}{\\sigma_n^2} \\sum_{d=1}^D x_\\theta^{(d)2} + \\frac{1}{\\sigma_\\theta^2} \\right)^{-1},\n",
    "&& \\theta \\in \\{ b, w, v \\}\n",
    "\\\\\n",
    "\n",
    "m_\\theta^\\star\n",
    "&= \\frac{ 1 }{ \\lambda_\\theta^\\star }\n",
    "\\left( \\sum_{i=1}^N \\theta_i + \\lambda_\\theta m_\\theta \\right),\n",
    "&& \\theta \\in \\{ w, v \\}\n",
    "\\\\\n",
    "\n",
    "\\lambda_\\theta^\\star\n",
    "&= N + \\lambda_\\theta,\n",
    "&& \\theta \\in \\{ w, v \\}\n",
    "\\\\\n",
    "\n",
    "a_\\theta^\\star &=\n",
    "a_\\theta + \\frac{N + 1}{2},\n",
    "&& \\theta \\in \\{ w, v \\}\n",
    "\\\\\n",
    "\n",
    "b_\\theta^\\star &=\n",
    "b_\\theta + \\frac{1}{2} \\left( \\sum_{i=1}^N (\\theta_i - \\mu_\\theta)^2 + \\lambda_\\theta(\\mu_\\theta - m_\\theta)^2 \\right),\n",
    "&& \\theta \\in \\{ w, v \\}\n",
    "\\\\\n",
    "\n",
    "a_n^\\star\n",
    "&= a_n + \\frac{D}{2},\n",
    "\\\\\n",
    "\n",
    "b_n^\\star\n",
    "&= b_n + \\frac{1}{2} \\sum_{d=1}^D (y_\\theta^{(d)} - x_\\theta^{(d)} \\theta )^2.\n",
    "\\end{aligned}\n",
    "$$"
   ]
  },
  {
   "cell_type": "markdown",
   "metadata": {},
   "source": [
    "Substituting"
   ]
  },
  {
   "cell_type": "markdown",
   "metadata": {},
   "source": [
    "$$\n",
    "\\begin{aligned}\n",
    "x_\\theta^{(d)} &\\coloneqq h_\\theta^{(d)}, \\\\\n",
    "y_\\theta^{(d)} &\\coloneqq y^{(d)} - g_\\theta^{(d)} = y^{(d)} - (f^{(d)} - \\theta h_\\theta^{(d)})\n",
    "\\end{aligned}\n",
    "$$"
   ]
  },
  {
   "cell_type": "markdown",
   "metadata": {},
   "source": [
    "into the above distributions gives the Gibbs sampler algorithm for the BFM."
   ]
  },
  {
   "cell_type": "markdown",
   "metadata": {},
   "source": [
    "Additional speeding up techniques are same as written in `FM_01_linear.ipynb`."
   ]
  },
  {
   "cell_type": "markdown",
   "metadata": {},
   "source": [
    "## Implementation"
   ]
  },
  {
   "cell_type": "code",
   "execution_count": 2,
   "metadata": {},
   "outputs": [],
   "source": [
    "# Factorization Machine\n",
    "\n",
    "class FactorizationMachines:\n",
    "    def __init__(self,\n",
    "        num_features: int,\n",
    "        num_factors:  int,\n",
    "        sigma_b_init: float=0.,\n",
    "        sigma_w_init: float=1.,\n",
    "        sigma_v_init: float=1.,\n",
    "        seed: Optional[int]=None\n",
    "    ) -> None:\n",
    "        self.rng = np.random.default_rng(seed)\n",
    "        b = self.rng.normal(0, sigma_b_init)\n",
    "        w = self.rng.normal(0, sigma_w_init, num_features)\n",
    "        v = self.rng.normal(0, sigma_v_init, (num_features, num_factors))\n",
    "        self.params = {'b': b, 'w': w, 'v': v}\n",
    "\n",
    "    def predict(self, x: np.ndarray) -> float:\n",
    "        if x.ndim == 1:\n",
    "            x = x.reshape(1, -1) # x: (d, n)\n",
    "        b = self.params['b']     # b: (1)\n",
    "        w = self.params['w']     # w: (d)\n",
    "        v = self.params['v']     # v: (d, k)\n",
    "\n",
    "        bias   = b\n",
    "            # (1)\n",
    "        linear = x[:, :] @ w[:]\n",
    "            # (D, N) @ (N) = (D)\n",
    "        inter  = 0.5 * np.sum((x[:, :] @ v[:, :]) ** 2 - (x[:, :] ** 2) @ (v[:, :] ** 2), axis=1)\n",
    "            # (D, K) -> (D)\n",
    "\n",
    "        result = bias + linear + inter\n",
    "            # (D)\n",
    "\n",
    "        if result.shape[0] == 1:\n",
    "            return float(result[0])\n",
    "        return result"
   ]
  },
  {
   "cell_type": "code",
   "execution_count": 3,
   "metadata": {},
   "outputs": [],
   "source": [
    "# update rules\n",
    "\n",
    "def calc_q_init(\n",
    "    x: np.ndarray,\n",
    "    v: np.ndarray\n",
    ") -> np.ndarray:\n",
    "    # x: (D, N)\n",
    "    # v: (N, K)\n",
    "    return x[:, :] @ v[:, :] # (D, K)\n",
    "\n",
    "def calc_dq(\n",
    "    i: int,\n",
    "    x: np.ndarray,\n",
    "    v_ik_new: float,\n",
    "    v_ik_old: np.ndarray,\n",
    ") -> np.ndarray:\n",
    "    # v_ik_new: float\n",
    "    # v: (N, K)\n",
    "    # x: (D, N)\n",
    "    return (v_ik_new - v_ik_old) * x[:, i] # (D)\n",
    "\n",
    "def calc_df(\n",
    "    x_theta: np.ndarray,\n",
    "    param_new: float,\n",
    "    param_old: float,\n",
    "):\n",
    "    return (param_new - param_old) * x_theta\n",
    "\n",
    "def calc_xy_b(\n",
    "    f: np.ndarray,\n",
    "    b: float,\n",
    "    x_data: np.ndarray,\n",
    "    y_data: np.ndarray,\n",
    "):\n",
    "    # x_data: (D, N)\n",
    "    # y_data: (D)\n",
    "    x_b = np.ones(x_data.shape[0])\n",
    "    y_b = y_data - (f - b * x_b)\n",
    "    return x_b, y_b\n",
    "\n",
    "def calc_xy_w(\n",
    "    f: np.ndarray,\n",
    "    w: np.ndarray,\n",
    "    x_data: np.ndarray,\n",
    "    y_data: np.ndarray,\n",
    "    i: int\n",
    "):\n",
    "    # x_data: (D, N)\n",
    "    # y_data: (D)\n",
    "    x_w = x_data[:, i]\n",
    "    y_w = y_data - (f - x_w * w[i])\n",
    "    return x_w, y_w\n",
    "\n",
    "def calc_xy_v(\n",
    "    f: np.ndarray,\n",
    "    q: np.ndarray,\n",
    "    v: np.ndarray,\n",
    "    x_data: np.ndarray,\n",
    "    y_data: np.ndarray,\n",
    "    i: int,\n",
    "    k: int\n",
    "):\n",
    "    # x_data: (D, N)\n",
    "    # y_data: (D)\n",
    "    x_v = x_data[:, i] * (q[:, k] - x_data[:, i] * v[i, k])\n",
    "    y_v = y_data - (f - x_v * v[i, k])\n",
    "    return x_v, y_v"
   ]
  },
  {
   "cell_type": "code",
   "execution_count": 4,
   "metadata": {},
   "outputs": [],
   "source": [
    "# samplers\n",
    "def sample_from_inverse_gamma(\n",
    "    a: float,\n",
    "    b: float,\n",
    "    seed: Optional[int]=None\n",
    "):\n",
    "    rng = np.random.default_rng(seed)\n",
    "    return 1 / rng.gamma(a, 1 / b)\n",
    "\n",
    "def sample_posterior_sigma2_noise(\n",
    "    x_theta: np.ndarray,\n",
    "    y_theta: np.ndarray,\n",
    "    theta: float,\n",
    "    a_noise: float,\n",
    "    b_noise: float,\n",
    "    seed: Optional[int]=None\n",
    "):\n",
    "    # x_theta: (D)\n",
    "    # y_theta: (D)\n",
    "    D = x_theta.shape[0]\n",
    "    a_noise_post = a_noise + D / 2\n",
    "    b_noise_post = b_noise + 0.5 * np.sum( (y_theta - x_theta * theta)**2 )\n",
    "    return sample_from_inverse_gamma(a_noise_post, b_noise_post, seed)\n",
    "\n",
    "def sample_posterior_theta(\n",
    "    x_theta: np.ndarray,\n",
    "    y_theta: np.ndarray,\n",
    "    sigma2_noise: float,\n",
    "    mu_theta: float,\n",
    "    sigma2_theta: float,\n",
    "    seed: Optional[int]=None\n",
    "):\n",
    "    rng = np.random.default_rng(seed)\n",
    "    sigma2_theta_post = 1 / ( np.sum(x_theta**2) / sigma2_noise + 1 / sigma2_theta )\n",
    "    mu_theta_post = sigma2_theta_post * ( np.sum(x_theta * y_theta) / sigma2_noise + mu_theta / sigma2_theta )\n",
    "    return rng.normal(mu_theta_post, np.sqrt(sigma2_theta_post))\n",
    "\n",
    "def sample_posterior_mu_theta_and_sigma2_theta(\n",
    "    theta: np.ndarray[float],\n",
    "    sigma2_theta: float,\n",
    "    m_theta: float,\n",
    "    l_theta: float,\n",
    "    a_theta: float,\n",
    "    b_theta: float,\n",
    "    seed: Optional[int]=None\n",
    "):\n",
    "    # theta: (N)\n",
    "    rng = np.random.default_rng(seed)\n",
    "\n",
    "    N = theta.shape[0]\n",
    "\n",
    "    l_theta_post = l_theta + N\n",
    "    mu_theta_post = (np.sum(theta) + l_theta * m_theta) / l_theta_post\n",
    "    mu_theta_new  = rng.normal(mu_theta_post, np.sqrt(sigma2_theta / l_theta_post))\n",
    "\n",
    "    mu_theta = mu_theta_new\n",
    "\n",
    "    a_theta_post = a_theta + (N + 1) / 2\n",
    "    b_theta_post = b_theta + 0.5 * (np.sum((theta - mu_theta)**2) + l_theta * (mu_theta - m_theta)**2)\n",
    "\n",
    "    sigma2_theta_new = sample_from_inverse_gamma(a_theta_post, b_theta_post, seed)\n",
    "    return mu_theta_new, sigma2_theta_new"
   ]
  },
  {
   "cell_type": "code",
   "execution_count": 5,
   "metadata": {},
   "outputs": [],
   "source": [
    "# training loop\n",
    "\n",
    "def train_fm_gibbs(\n",
    "    model_params: dict,\n",
    "    latent_params: dict,\n",
    "    fixed_params: dict,\n",
    "    x_data: np.ndarray,\n",
    "    y_data: np.ndarray,\n",
    "    f_init: np.ndarray,\n",
    "    num_iter: int,\n",
    "    seed: Optional[int]=None\n",
    "):\n",
    "    loss_hist = []\n",
    "\n",
    "    N = x_data.shape[1]\n",
    "    K = model_params['v'].shape[1]\n",
    "    D = x_data.shape[0]\n",
    "\n",
    "    f = f_init\n",
    "    q = calc_q_init(x_data, model_params['v'])\n",
    "\n",
    "    for iter in range(num_iter):\n",
    "        # noise parameter\n",
    "        x_b, y_b = calc_xy_b(f, model_params['b'], x_data, y_data)\n",
    "        latent_params['sigma2_noise'] = sample_posterior_sigma2_noise(x_b, y_b, model_params['b'], fixed_params['a_noise'], fixed_params['b_noise'])\n",
    "\n",
    "        # hyperparameters\n",
    "        latent_params['mu_w'], latent_params['sigma2_w'] = sample_posterior_mu_theta_and_sigma2_theta(model_params['w'], latent_params['sigma2_w'], fixed_params['m_w'], fixed_params['l_w'], fixed_params['a_w'], fixed_params['b_w'])\n",
    "        for k in range(K):\n",
    "            latent_params['mu_v'][k], latent_params['sigma2_v'][k] = sample_posterior_mu_theta_and_sigma2_theta(model_params['v'][:, k], latent_params['sigma2_v'][k], fixed_params['m_v'], fixed_params['l_v'], fixed_params['a_v'], fixed_params['b_v'])\n",
    "\n",
    "        # b\n",
    "        x_b, y_b = calc_xy_b(f, model_params['b'], x_data, y_data)\n",
    "        b_new    = sample_posterior_theta(x_b, y_b, latent_params['sigma2_noise'], fixed_params['mu_b'], fixed_params['sigma2_b'])\n",
    "        f        = f + calc_df(x_b, b_new, model_params['b'])\n",
    "        model_params['b'] = b_new\n",
    "\n",
    "        # w\n",
    "        for i in range(N):\n",
    "            x_w, y_w = calc_xy_w(f, model_params['w'], x_data, y_data, i)\n",
    "            w_i_new  = sample_posterior_theta(x_w, y_w, latent_params['sigma2_noise'], latent_params['mu_w'], latent_params['sigma2_w'])\n",
    "            f        = f + calc_df(x_w, w_i_new, model_params['w'][i])\n",
    "            model_params['w'][i] = w_i_new\n",
    "\n",
    "        # v\n",
    "            for k in range(K):\n",
    "                x_v, y_v = calc_xy_v(f, q, model_params['v'], x_data, y_data, i, k)\n",
    "                v_ik_new = sample_posterior_theta(x_v, y_v, latent_params['sigma2_noise'], latent_params['mu_v'][k], latent_params['sigma2_v'][k])\n",
    "                # v_new  = sample_param_lstsq(x_v, y_v)\n",
    "                f      = f      + calc_df(x_v, v_ik_new, model_params['v'][i, k])\n",
    "                q[:,k] = q[:,k] + calc_dq(i, x_data, v_ik_new, model_params['v'][i, k])\n",
    "                model_params['v'][i, k] = v_ik_new\n",
    "\n",
    "        if (iter+1) % 50 == 0:\n",
    "            print(f'iter: {iter+1}, loss: {np.sum((y_data - f) ** 2) / D}')\n",
    "        loss_hist.append(np.sum((y_data - f) ** 2) / D)\n",
    "\n",
    "    return model_params, loss_hist"
   ]
  },
  {
   "cell_type": "markdown",
   "metadata": {},
   "source": [
    "Now we consider trivial values for the fixed parameters $\\Theta_F$:"
   ]
  },
  {
   "cell_type": "markdown",
   "metadata": {},
   "source": [
    "$$\n",
    "\\left\\{\\begin{aligned}\n",
    "\\mu_b &= 0, \\\\\n",
    "\\sigma_b^2 &= 1, \\\\\n",
    "m_\\theta &= 0,       && \\theta \\in \\{ w, v \\} \\\\\n",
    "\\lambda_\\theta &= 1, && \\theta \\in \\{ w, v \\} \\\\\n",
    "a_\\theta &= 1,       && \\theta \\in \\{ w, v \\} \\\\\n",
    "b_\\theta &= 1,       && \\theta \\in \\{ w, v \\} \\\\\n",
    "a_n &= 1, \\\\\n",
    "b_n &= 1.\n",
    "\\end{aligned}\\right.\n",
    "$$"
   ]
  },
  {
   "cell_type": "code",
   "execution_count": 6,
   "metadata": {},
   "outputs": [
    {
     "name": "stdout",
     "output_type": "stream",
     "text": [
      "iter: 50, loss: 0.7836170811701071\n",
      "iter: 100, loss: 0.9562349285601361\n",
      "iter: 150, loss: 0.47700650843630804\n",
      "iter: 200, loss: 0.3383490893200993\n",
      "iter: 250, loss: 0.36569254700366827\n",
      "iter: 300, loss: 0.5586705266741769\n",
      "iter: 350, loss: 0.7351404425357699\n",
      "iter: 400, loss: 0.5725241721017811\n",
      "iter: 450, loss: 0.5337073760868499\n",
      "iter: 500, loss: 0.9506640821031487\n"
     ]
    }
   ],
   "source": [
    "# test\n",
    "N = 16\n",
    "K = 8\n",
    "D = 128\n",
    "\n",
    "seed = 0\n",
    "rng  = np.random.default_rng(seed)\n",
    "fm   = FactorizationMachines(N, K, seed=seed)\n",
    "\n",
    "Q      = rng.uniform(-1., 1., (N, N))\n",
    "x_data = rng.choice((0, 1), size=(D, N))\n",
    "y_data = np.einsum('dn,nm,dm->d', x_data, Q, x_data)\n",
    "\n",
    "model_params = fm.params\n",
    "\n",
    "latent_params = {\n",
    "    'mu_w': 0.,\n",
    "    'mu_v': np.zeros(K, dtype=float),\n",
    "    'sigma2_w': 1.,\n",
    "    'sigma2_v': np.ones(K, dtype=float)\n",
    "}\n",
    "\n",
    "fixed_params = {\n",
    "    'mu_b': 0.,\n",
    "    'sigma2_b': 1.,\n",
    "    'm_w': 0.,\n",
    "    'm_v': 0.,\n",
    "    'l_w': 1.,\n",
    "    'l_v': 1.,\n",
    "    'a_w': 1.,\n",
    "    'a_v': 1.,\n",
    "    'b_w': 1.,\n",
    "    'b_v': 1.,\n",
    "    'a_noise': 1.,\n",
    "    'b_noise': 1.,\n",
    "}\n",
    "\n",
    "_, loss_hist = train_fm_gibbs(\n",
    "    model_params,\n",
    "    latent_params,\n",
    "    fixed_params,\n",
    "    x_data,\n",
    "    y_data,\n",
    "    fm.predict(x_data),\n",
    "    500,\n",
    ")"
   ]
  },
  {
   "cell_type": "markdown",
   "metadata": {},
   "source": [
    "Looks good? Let's implement the Gibbs sampler in Julia and see how it works."
   ]
  },
  {
   "cell_type": "code",
   "execution_count": 7,
   "metadata": {},
   "outputs": [
    {
     "data": {
      "text/plain": [
       "<PyCall.jlwrap train_fm_gibbs>"
      ]
     },
     "execution_count": 7,
     "metadata": {},
     "output_type": "execute_result"
    }
   ],
   "source": [
    "from julia import Main\n",
    "\n",
    "Main.eval(\"\"\"\n",
    "using Random\n",
    "using Distributions\n",
    "\n",
    "# update rules\n",
    "\n",
    "function calc_q_init(\n",
    "    x::Array{Float64,2},\n",
    "    v::Array{Float64,2}\n",
    ")::Array{Float64,2}\n",
    "    # x: (D, N)\n",
    "    # v: (N, K)\n",
    "    return x[:, :] * v[:, :] # (D, K)\n",
    "end\n",
    "\n",
    "function calc_dq(\n",
    "    i::Int,\n",
    "    x::Array{Float64,2},\n",
    "    v_ik_new::Float64,\n",
    "    v_ik_old::Float64\n",
    ")::Array{Float64,1}\n",
    "    # v_ik_new: float\n",
    "    # v: (N, K)\n",
    "    # x: (D, N)\n",
    "    return (v_ik_new - v_ik_old) .* x[:, i] # (D)\n",
    "end\n",
    "\n",
    "function calc_df(\n",
    "    x_theta::Array{Float64,1},\n",
    "    param_new::Float64,\n",
    "    param_old::Float64\n",
    ")\n",
    "    return (param_new - param_old) * x_theta\n",
    "end\n",
    "\n",
    "function calc_xy_b(\n",
    "    f::Array{Float64,1},\n",
    "    b::Float64,\n",
    "    x_data::Array{Float64,2},\n",
    "    y_data::Array{Float64,1}\n",
    ")\n",
    "    # x_data: (D, N)\n",
    "    # y_data: (D)\n",
    "    x_b = ones(size(x_data, 1))\n",
    "    y_b = y_data - (f - b * x_b)\n",
    "    return x_b, y_b\n",
    "end\n",
    "\n",
    "function calc_xy_w(\n",
    "    f::Array{Float64,1},\n",
    "    w::Array{Float64,1},\n",
    "    x_data::Array{Float64,2},\n",
    "    y_data::Array{Float64,1},\n",
    "    i::Int\n",
    ")\n",
    "    # x_data: (D, N)\n",
    "    # y_data: (D)\n",
    "    x_w = x_data[:, i]\n",
    "    y_w = y_data - (f - x_w .* w[i])\n",
    "    return x_w, y_w\n",
    "end\n",
    "\n",
    "function calc_xy_v(\n",
    "    f::Array{Float64,1},\n",
    "    q::Array{Float64,2},\n",
    "    v::Array{Float64,2},\n",
    "    x_data::Array{Float64,2},\n",
    "    y_data::Array{Float64,1},\n",
    "    i::Int,\n",
    "    k::Int\n",
    ")\n",
    "    # x_data: (D, N)\n",
    "    # y_data: (D)\n",
    "    x_v = x_data[:, i] .* (q[:, k] - x_data[:, i] .* v[i, k])\n",
    "    y_v = y_data - (f - x_v .* v[i, k])\n",
    "    return x_v, y_v\n",
    "end\n",
    "\n",
    "# samplers\n",
    "function sample_from_inverse_gamma(\n",
    "    a::Float64,\n",
    "    b::Float64,\n",
    "    seed::Union{Int, Nothing}=nothing\n",
    ")\n",
    "    if !isnothing(seed)\n",
    "        Random.seed!(seed)\n",
    "    end\n",
    "    return 1 / rand(Gamma(a, 1 / b))\n",
    "end\n",
    "\n",
    "function sample_posterior_sigma2_noise(\n",
    "    x_theta::Array{Float64,1},\n",
    "    y_theta::Array{Float64,1},\n",
    "    theta::Float64,\n",
    "    a_noise::Float64,\n",
    "    b_noise::Float64,\n",
    "    seed::Union{Int, Nothing}=nothing\n",
    ")\n",
    "    # x_theta: (D)\n",
    "    # y_theta: (D)\n",
    "    D = length(x_theta)\n",
    "    a_noise_post = a_noise + D / 2\n",
    "    b_noise_post = b_noise + 0.5 * sum((y_theta - x_theta .* theta).^2)\n",
    "    return sample_from_inverse_gamma(a_noise_post, b_noise_post, seed)\n",
    "end\n",
    "\n",
    "function sample_posterior_theta(\n",
    "    x_theta::Array{Float64,1},\n",
    "    y_theta::Array{Float64,1},\n",
    "    sigma2_noise::Float64,\n",
    "    mu_theta::Float64,\n",
    "    sigma2_theta::Float64,\n",
    "    seed::Union{Int, Nothing}=nothing\n",
    ")\n",
    "    if !isnothing(seed)\n",
    "        Random.seed!(seed)\n",
    "    end\n",
    "    sigma2_theta_post = 1 / (sum(x_theta.^2) / sigma2_noise + 1 / sigma2_theta)\n",
    "    mu_theta_post = sigma2_theta_post * (sum(x_theta .* y_theta) / sigma2_noise + mu_theta / sigma2_theta)\n",
    "    return rand(Normal(mu_theta_post, sqrt(sigma2_theta_post)))\n",
    "end\n",
    "\n",
    "function sample_posterior_mu_theta_and_sigma2_theta(\n",
    "    theta::Array{Float64,1},\n",
    "    sigma2_theta::Float64,\n",
    "    m_theta::Float64,\n",
    "    l_theta::Float64,\n",
    "    a_theta::Float64,\n",
    "    b_theta::Float64,\n",
    "    seed::Union{Int, Nothing}=nothing\n",
    ")\n",
    "    # theta: (N)\n",
    "    if !isnothing(seed)\n",
    "        Random.seed!(seed)\n",
    "    end\n",
    "\n",
    "    N = length(theta)\n",
    "\n",
    "    l_theta_post = l_theta + N\n",
    "    mu_theta_post = (sum(theta) + l_theta * m_theta) / l_theta_post\n",
    "    mu_theta_new  = rand(Normal(mu_theta_post, sqrt(sigma2_theta / l_theta_post)))\n",
    "\n",
    "    mu_theta = mu_theta_new\n",
    "\n",
    "    a_theta_post = a_theta + (N + 1) / 2\n",
    "    b_theta_post = b_theta + 0.5 * (sum((theta .- mu_theta).^2) + l_theta * (mu_theta - m_theta)^2)\n",
    "\n",
    "    sigma2_theta_new = sample_from_inverse_gamma(a_theta_post, b_theta_post, seed)\n",
    "    return mu_theta_new, sigma2_theta_new\n",
    "end\n",
    "\n",
    "# training loop\n",
    "\n",
    "function train_fm_gibbs(\n",
    "    model_params::Dict{Any, Any},\n",
    "    latent_params::Dict{Any, Any},\n",
    "    fixed_params::Dict{Any, Any},\n",
    "    x_data::Array{Float64,2},\n",
    "    y_data::Array{Float64,1},\n",
    "    f_init::Array{Float64,1},\n",
    "    num_iter::Int,\n",
    "    show_progress::Bool=false,\n",
    "    seed::Union{Int, Nothing}=nothing,\n",
    ")\n",
    "    loss_hist = []\n",
    "\n",
    "    N = size(x_data, 2)\n",
    "    K = size(model_params[\"v\"], 2)\n",
    "    D = size(x_data, 1)\n",
    "\n",
    "    f = f_init\n",
    "    q = calc_q_init(x_data, model_params[\"v\"])\n",
    "\n",
    "    for iter in 1:num_iter\n",
    "        # noise parameter\n",
    "        x_b, y_b = calc_xy_b(f, model_params[\"b\"], x_data, y_data)\n",
    "        latent_params[\"sigma2_noise\"] = sample_posterior_sigma2_noise(x_b, y_b, model_params[\"b\"], fixed_params[\"a_noise\"], fixed_params[\"b_noise\"])\n",
    "\n",
    "        # hyperparameters\n",
    "        latent_params[\"mu_w\"], latent_params[\"sigma2_w\"] = sample_posterior_mu_theta_and_sigma2_theta(model_params[\"w\"], latent_params[\"sigma2_w\"], fixed_params[\"m_w\"], fixed_params[\"l_w\"], fixed_params[\"a_w\"], fixed_params[\"b_w\"])\n",
    "        for k in 1:K\n",
    "            latent_params[\"mu_v\"][k], latent_params[\"sigma2_v\"][k] = sample_posterior_mu_theta_and_sigma2_theta(model_params[\"v\"][:, k], latent_params[\"sigma2_v\"][k], fixed_params[\"m_v\"], fixed_params[\"l_v\"], fixed_params[\"a_v\"], fixed_params[\"b_v\"])\n",
    "        end\n",
    "\n",
    "        # b\n",
    "        x_b, y_b = calc_xy_b(f, model_params[\"b\"], x_data, y_data)\n",
    "        b_new    = sample_posterior_theta(x_b, y_b, latent_params[\"sigma2_noise\"], fixed_params[\"mu_b\"], fixed_params[\"sigma2_b\"])\n",
    "        f        = f + calc_df(x_b, b_new, model_params[\"b\"])\n",
    "        model_params[\"b\"] = b_new\n",
    "\n",
    "        # w\n",
    "        for i in 1:N\n",
    "            x_w, y_w = calc_xy_w(f, model_params[\"w\"], x_data, y_data, i)\n",
    "            w_i_new  = sample_posterior_theta(x_w, y_w, latent_params[\"sigma2_noise\"], latent_params[\"mu_w\"], latent_params[\"sigma2_w\"])\n",
    "            f        = f + calc_df(x_w, w_i_new, model_params[\"w\"][i])\n",
    "            model_params[\"w\"][i] = w_i_new\n",
    "        end\n",
    "\n",
    "        # v\n",
    "        for i in 1:N\n",
    "            for k in 1:K\n",
    "                x_v, y_v = calc_xy_v(f, q, model_params[\"v\"], x_data, y_data, i, k)\n",
    "                v_ik_new = sample_posterior_theta(x_v, y_v, latent_params[\"sigma2_noise\"], latent_params[\"mu_v\"][k], latent_params[\"sigma2_v\"][k])\n",
    "                f      = f      + calc_df(x_v, v_ik_new, model_params[\"v\"][i, k])\n",
    "                q[:,k] = q[:,k] + calc_dq(i, x_data, v_ik_new, model_params[\"v\"][i, k])\n",
    "                model_params[\"v\"][i, k] = v_ik_new\n",
    "            end\n",
    "        end\n",
    "\n",
    "        if show_progress && (iter % 100 == 0)\n",
    "            println(\"iter: $iter, loss: $(sum((y_data - f) .^ 2) / D)\")\n",
    "        end\n",
    "        push!(loss_hist, sum((y_data - f) .^ 2) / D)\n",
    "    end\n",
    "\n",
    "    return model_params, loss_hist\n",
    "end\n",
    "\"\"\")"
   ]
  },
  {
   "cell_type": "code",
   "execution_count": 8,
   "metadata": {},
   "outputs": [
    {
     "name": "stdout",
     "output_type": "stream",
     "text": [
      "iter: 100, loss: 0.5111134469552078\n",
      "iter: 200, loss: 0.4914987370625898\n",
      "iter: 300, loss: 0.497988398607806\n",
      "iter: 400, loss: 0.8545893754384292\n",
      "iter: 500, loss: 0.6875001785762334\n",
      "iter: 600, loss: 0.47538970443147055\n",
      "iter: 700, loss: 0.4729806173580145\n",
      "iter: 800, loss: 0.5784800259330347\n",
      "iter: 900, loss: 0.7314832470991418\n",
      "iter: 1000, loss: 1.313858598534403\n",
      "iter: 1100, loss: 0.8565876097867262\n",
      "iter: 1200, loss: 0.8834686487830014\n",
      "iter: 1300, loss: 0.5696789867488646\n",
      "iter: 1400, loss: 0.5381411823700409\n",
      "iter: 1500, loss: 0.6030020250497131\n",
      "iter: 1600, loss: 0.4245782567353288\n",
      "iter: 1700, loss: 0.471451137363015\n",
      "iter: 1800, loss: 0.49068411746859464\n",
      "iter: 1900, loss: 0.46916916534444686\n",
      "iter: 2000, loss: 0.4292214386862142\n",
      "iter: 2100, loss: 0.6752813210937219\n",
      "iter: 2200, loss: 0.985022340979708\n",
      "iter: 2300, loss: 0.6124472701371294\n",
      "iter: 2400, loss: 0.512194833886036\n",
      "iter: 2500, loss: 0.5401677480771432\n",
      "iter: 2600, loss: 0.6747583912456981\n",
      "iter: 2700, loss: 0.5339589307470155\n",
      "iter: 2800, loss: 0.6519152711029448\n",
      "iter: 2900, loss: 0.3485217335456555\n",
      "iter: 3000, loss: 0.23656279564878732\n",
      "iter: 3100, loss: 0.40268893297486025\n",
      "iter: 3200, loss: 0.38387160072301496\n",
      "iter: 3300, loss: 0.260972616161506\n",
      "iter: 3400, loss: 0.5318248916886781\n",
      "iter: 3500, loss: 0.4695279615436573\n",
      "iter: 3600, loss: 0.8111229780095549\n",
      "iter: 3700, loss: 1.0253358256796423\n",
      "iter: 3800, loss: 0.5276447978031814\n",
      "iter: 3900, loss: 0.47379018478442586\n",
      "iter: 4000, loss: 0.2863066348626715\n",
      "iter: 4100, loss: 0.21990069240099086\n",
      "iter: 4200, loss: 0.2315928689244702\n",
      "iter: 4300, loss: 0.49646785073793387\n",
      "iter: 4400, loss: 0.5057959096874\n",
      "iter: 4500, loss: 0.6360785634544996\n",
      "iter: 4600, loss: 0.3109772934835108\n",
      "iter: 4700, loss: 0.5407628921548283\n",
      "iter: 4800, loss: 0.843017683243792\n",
      "iter: 4900, loss: 0.5076888244750284\n",
      "iter: 5000, loss: 0.2263448571902468\n"
     ]
    }
   ],
   "source": [
    "# test\n",
    "N = 16\n",
    "K = 8\n",
    "D = 128\n",
    "\n",
    "seed = 0\n",
    "rng  = np.random.default_rng(seed)\n",
    "fm   = FactorizationMachines(N, K, seed=seed)\n",
    "\n",
    "Q      = rng.uniform(-1., 1., (N, N))\n",
    "x_data = rng.choice((0, 1), size=(D, N))\n",
    "y_data = np.einsum('dn,nm,dm->d', x_data, Q, x_data)\n",
    "\n",
    "model_params = fm.params\n",
    "\n",
    "latent_params = {\n",
    "    'mu_w': 0.,\n",
    "    'mu_v': np.zeros(K, dtype=float),\n",
    "    'sigma2_w': 1.,\n",
    "    'sigma2_v': np.ones(K, dtype=float)\n",
    "}\n",
    "\n",
    "fixed_params = {\n",
    "    'mu_b': 0.,\n",
    "    'sigma2_b': 1.,\n",
    "    'm_w': 0.,\n",
    "    'm_v': 0.,\n",
    "    'l_w': 1.,\n",
    "    'l_v': 1.,\n",
    "    'a_w': 1.,\n",
    "    'a_v': 1.,\n",
    "    'b_w': 1.,\n",
    "    'b_v': 1.,\n",
    "    'a_noise': 1.,\n",
    "    'b_noise': 1.,\n",
    "}\n",
    "\n",
    "_, loss_hist = Main.train_fm_gibbs(\n",
    "    model_params,\n",
    "    latent_params,\n",
    "    fixed_params,\n",
    "    x_data.astype(float),\n",
    "    y_data,\n",
    "    fm.predict(x_data),\n",
    "    5000,\n",
    "    True\n",
    ")"
   ]
  },
  {
   "cell_type": "code",
   "execution_count": 9,
   "metadata": {},
   "outputs": [
    {
     "data": {
      "image/png": "[encoded data removed]",
      "text/plain": [
       "<Figure size 800x400 with 1 Axes>"
      ]
     },
     "metadata": {},
     "output_type": "display_data"
    }
   ],
   "source": [
    "import matplotlib.pyplot as plt\n",
    "plt.figure(figsize=(8, 4))\n",
    "# plt.scatter(range(len(loss_hist))[::100], loss_hist[::100], s=50, marker='o', color='none', edgecolors='black')\n",
    "plt.plot(loss_hist, color='black', linewidth=1)\n",
    "plt.yscale('log')\n",
    "plt.xlabel(r'Iteration $t$')\n",
    "plt.ylabel(r'$\\dfrac{1}{D} \\sum_{d} (y^{(d)} - f^{(d)})^2$')\n",
    "plt.title('Loss History of FM (Gibbs sampling)')\n",
    "plt.show()"
   ]
  },
  {
   "cell_type": "markdown",
   "metadata": {},
   "source": [
    "The use of Gibbs sampling for learning has the advantage of swift convergence and automatic hyperparameter tuning capability.\n",
    "\n",
    "Let us compare this with ALS."
   ]
  },
  {
   "cell_type": "code",
   "execution_count": 10,
   "metadata": {},
   "outputs": [
    {
     "data": {
      "text/plain": [
       "<PyCall.jlwrap train_fm_als>"
      ]
     },
     "execution_count": 10,
     "metadata": {},
     "output_type": "execute_result"
    }
   ],
   "source": [
    "# ALS version\n",
    "\n",
    "Main.eval(\"\"\"\n",
    "    function sample_param_lstsq(\n",
    "        x_theta::Array{Float64},\n",
    "        y_theta::Array{Float64},\n",
    "        lamb::Float64=1e-8\n",
    "    ) :: Float64\n",
    "        return sum(x_theta .* y_theta) / (sum(x_theta .^ 2) + lamb)\n",
    "    end\n",
    "\n",
    "    function train_fm_als(\n",
    "        init_params::Dict{Any, Any},\n",
    "        x_data::Array{Float64},\n",
    "        y_data::Array{Float64, 1},\n",
    "        f_init::Array{Float64, 1},\n",
    "        num_iter::Int,\n",
    "        show_progress::Bool=false\n",
    "    ) :: Tuple{Dict{Any, Any}, Array{Float64}}\n",
    "        # get indices\n",
    "        N = size(x_data, 2)\n",
    "        K = size(init_params[\"v\"], 2)\n",
    "\n",
    "        # get initial parameter\n",
    "        params = init_params\n",
    "\n",
    "        # precalculate\n",
    "        f = f_init\n",
    "        q = calc_q_init(x_data, params[\"v\"])\n",
    "\n",
    "        # main loop\n",
    "        loss_hist = Float64[]\n",
    "        for iter in 1:num_iter\n",
    "            # sample b\n",
    "            x_b, y_b = calc_xy_b(f, params[\"b\"], x_data, y_data)\n",
    "            b_new    = sample_param_lstsq(x_b, y_b)\n",
    "            f        = f + calc_df(x_b, b_new, params[\"b\"])\n",
    "            params[\"b\"] = b_new\n",
    "\n",
    "            # sample w\n",
    "            for i in 1:N\n",
    "                x_w, y_w = calc_xy_w(f, params[\"w\"], x_data, y_data, i)\n",
    "                w_i_new  = sample_param_lstsq(x_w, y_w)\n",
    "                f        = f + calc_df(x_w, w_i_new, params[\"w\"][i])\n",
    "                params[\"w\"][i] = w_i_new\n",
    "\n",
    "                # sample v\n",
    "                for k in 1:K\n",
    "                    x_v, y_v = calc_xy_v(f, q, params[\"v\"], x_data, y_data, i, k)\n",
    "                    v_ik_new = sample_param_lstsq(x_v, y_v)\n",
    "                    f        = f      + calc_df(x_v, v_ik_new, params[\"v\"][i, k])\n",
    "                    q[:,k]   = q[:,k] + calc_dq(i, x_data, v_ik_new, params[\"v\"][i, k])\n",
    "                    params[\"v\"][i, k] = v_ik_new\n",
    "                end\n",
    "            end\n",
    "\n",
    "            if show_progress && (iter % 100 == 0)\n",
    "                println(\"iter: $iter, loss: $(sum((y_data - f) .^ 2) / N)\")\n",
    "            end\n",
    "\n",
    "            push!(loss_hist, sum((y_data - f) .^ 2) / N)\n",
    "        end\n",
    "\n",
    "        return params, loss_hist\n",
    "    end\n",
    "\"\"\")"
   ]
  },
  {
   "cell_type": "code",
   "execution_count": 11,
   "metadata": {},
   "outputs": [],
   "source": [
    "_, loss_hist_als = Main.train_fm_als(\n",
    "    model_params,\n",
    "    x_data.astype(float),\n",
    "    y_data,\n",
    "    fm.predict(x_data),\n",
    "    2500,\n",
    ")\n",
    "\n",
    "_, loss_hist_gibbs = Main.train_fm_gibbs(\n",
    "    model_params,\n",
    "    latent_params,\n",
    "    fixed_params,\n",
    "    x_data.astype(float),\n",
    "    y_data,\n",
    "    fm.predict(x_data),\n",
    "    2500,\n",
    ")"
   ]
  },
  {
   "cell_type": "code",
   "execution_count": 12,
   "metadata": {},
   "outputs": [
    {
     "data": {
      "image/png": "[encoded data removed]",
      "text/plain": [
       "<Figure size 800x400 with 1 Axes>"
      ]
     },
     "metadata": {},
     "output_type": "display_data"
    }
   ],
   "source": [
    "plt.figure(figsize=(8, 4))\n",
    "plt.plot(loss_hist_als, color='black', linewidth=1, label='ALS')\n",
    "plt.plot(loss_hist_gibbs, color='red', linewidth=1, label='Gibbs')\n",
    "plt.yscale('log')\n",
    "plt.xlabel(r'Iteration $t$')\n",
    "plt.ylabel(r'$\\dfrac{1}{D} \\sum_{d} (y^{(d)} - f^{(d)})^2$')\n",
    "plt.legend()\n",
    "plt.show()"
   ]
  }
 ],
 "metadata": {
  "kernelspec": {
   "display_name": ".venv",
   "language": "python",
   "name": "python3"
  },
  "language_info": {
   "codemirror_mode": {
    "name": "ipython",
    "version": 3
   },
   "file_extension": ".py",
   "mimetype": "text/x-python",
   "name": "python",
   "nbconvert_exporter": "python",
   "pygments_lexer": "ipython3",
   "version": "3.11.6"
  }
 },
 "nbformat": 4,
 "nbformat_minor": 2
}
